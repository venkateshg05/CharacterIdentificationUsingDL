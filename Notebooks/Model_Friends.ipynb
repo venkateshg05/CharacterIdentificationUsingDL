{
  "nbformat": 4,
  "nbformat_minor": 0,
  "metadata": {
    "colab": {
      "name": "Model_Friends.ipynb",
      "provenance": [],
      "collapsed_sections": [
        "M5b_gsHo_Uuk",
        "g95lEw0ZhfkN",
        "DC5peQW6hMgJ",
        "Nw0WN1k1Ogp_",
        "FJ6IpWFj58y2",
        "FOo-izd77DFL",
        "NoKh9bH1Lzx6",
        "e1R_PMD-MKtG",
        "TRK1CLHtgmeb",
        "t1vlOOfihAL6",
        "LM5-nqYxlxXG",
        "ZzPSxPi9WkFk",
        "leB1GpFaXhlX",
        "8tMaTxnOAqMz"
      ],
      "toc_visible": true
    },
    "kernelspec": {
      "name": "python3",
      "display_name": "Python 3"
    },
    "language_info": {
      "name": "python"
    },
    "accelerator": "GPU"
  },
  "cells": [
    {
      "cell_type": "markdown",
      "source": [
        "# Install libraries *(optional)*"
      ],
      "metadata": {
        "id": "M5b_gsHo_Uuk"
      }
    },
    {
      "cell_type": "code",
      "source": [
        "pip install \"tensorflow-text==2.8.*\""
      ],
      "metadata": {
        "id": "-Z4WCeat3-co",
        "colab": {
          "base_uri": "https://localhost:8080/"
        },
        "outputId": "b00c59fe-e915-4a1d-8f4d-e47e2a150997"
      },
      "execution_count": 1,
      "outputs": [
        {
          "output_type": "stream",
          "name": "stdout",
          "text": [
            "Collecting tensorflow-text==2.8.*\n",
            "  Downloading tensorflow_text-2.8.2-cp37-cp37m-manylinux_2_12_x86_64.manylinux2010_x86_64.whl (4.9 MB)\n",
            "\u001b[K     |████████████████████████████████| 4.9 MB 5.1 MB/s \n",
            "\u001b[?25hRequirement already satisfied: tensorflow-hub>=0.8.0 in /usr/local/lib/python3.7/dist-packages (from tensorflow-text==2.8.*) (0.12.0)\n",
            "Requirement already satisfied: tensorflow<2.9,>=2.8.0 in /usr/local/lib/python3.7/dist-packages (from tensorflow-text==2.8.*) (2.8.0)\n",
            "Requirement already satisfied: setuptools in /usr/local/lib/python3.7/dist-packages (from tensorflow<2.9,>=2.8.0->tensorflow-text==2.8.*) (57.4.0)\n",
            "Collecting tf-estimator-nightly==2.8.0.dev2021122109\n",
            "  Downloading tf_estimator_nightly-2.8.0.dev2021122109-py2.py3-none-any.whl (462 kB)\n",
            "\u001b[K     |████████████████████████████████| 462 kB 64.4 MB/s \n",
            "\u001b[?25hRequirement already satisfied: google-pasta>=0.1.1 in /usr/local/lib/python3.7/dist-packages (from tensorflow<2.9,>=2.8.0->tensorflow-text==2.8.*) (0.2.0)\n",
            "Requirement already satisfied: astunparse>=1.6.0 in /usr/local/lib/python3.7/dist-packages (from tensorflow<2.9,>=2.8.0->tensorflow-text==2.8.*) (1.6.3)\n",
            "Requirement already satisfied: wrapt>=1.11.0 in /usr/local/lib/python3.7/dist-packages (from tensorflow<2.9,>=2.8.0->tensorflow-text==2.8.*) (1.14.0)\n",
            "Requirement already satisfied: numpy>=1.20 in /usr/local/lib/python3.7/dist-packages (from tensorflow<2.9,>=2.8.0->tensorflow-text==2.8.*) (1.21.6)\n",
            "Requirement already satisfied: tensorflow-io-gcs-filesystem>=0.23.1 in /usr/local/lib/python3.7/dist-packages (from tensorflow<2.9,>=2.8.0->tensorflow-text==2.8.*) (0.24.0)\n",
            "Requirement already satisfied: keras<2.9,>=2.8.0rc0 in /usr/local/lib/python3.7/dist-packages (from tensorflow<2.9,>=2.8.0->tensorflow-text==2.8.*) (2.8.0)\n",
            "Requirement already satisfied: termcolor>=1.1.0 in /usr/local/lib/python3.7/dist-packages (from tensorflow<2.9,>=2.8.0->tensorflow-text==2.8.*) (1.1.0)\n",
            "Requirement already satisfied: tensorboard<2.9,>=2.8 in /usr/local/lib/python3.7/dist-packages (from tensorflow<2.9,>=2.8.0->tensorflow-text==2.8.*) (2.8.0)\n",
            "Requirement already satisfied: h5py>=2.9.0 in /usr/local/lib/python3.7/dist-packages (from tensorflow<2.9,>=2.8.0->tensorflow-text==2.8.*) (3.1.0)\n",
            "Requirement already satisfied: libclang>=9.0.1 in /usr/local/lib/python3.7/dist-packages (from tensorflow<2.9,>=2.8.0->tensorflow-text==2.8.*) (13.0.0)\n",
            "Requirement already satisfied: gast>=0.2.1 in /usr/local/lib/python3.7/dist-packages (from tensorflow<2.9,>=2.8.0->tensorflow-text==2.8.*) (0.5.3)\n",
            "Requirement already satisfied: flatbuffers>=1.12 in /usr/local/lib/python3.7/dist-packages (from tensorflow<2.9,>=2.8.0->tensorflow-text==2.8.*) (2.0)\n",
            "Requirement already satisfied: grpcio<2.0,>=1.24.3 in /usr/local/lib/python3.7/dist-packages (from tensorflow<2.9,>=2.8.0->tensorflow-text==2.8.*) (1.44.0)\n",
            "Requirement already satisfied: absl-py>=0.4.0 in /usr/local/lib/python3.7/dist-packages (from tensorflow<2.9,>=2.8.0->tensorflow-text==2.8.*) (1.0.0)\n",
            "Requirement already satisfied: keras-preprocessing>=1.1.1 in /usr/local/lib/python3.7/dist-packages (from tensorflow<2.9,>=2.8.0->tensorflow-text==2.8.*) (1.1.2)\n",
            "Requirement already satisfied: protobuf>=3.9.2 in /usr/local/lib/python3.7/dist-packages (from tensorflow<2.9,>=2.8.0->tensorflow-text==2.8.*) (3.17.3)\n",
            "Requirement already satisfied: six>=1.12.0 in /usr/local/lib/python3.7/dist-packages (from tensorflow<2.9,>=2.8.0->tensorflow-text==2.8.*) (1.15.0)\n",
            "Requirement already satisfied: opt-einsum>=2.3.2 in /usr/local/lib/python3.7/dist-packages (from tensorflow<2.9,>=2.8.0->tensorflow-text==2.8.*) (3.3.0)\n",
            "Requirement already satisfied: typing-extensions>=3.6.6 in /usr/local/lib/python3.7/dist-packages (from tensorflow<2.9,>=2.8.0->tensorflow-text==2.8.*) (4.1.1)\n",
            "Requirement already satisfied: wheel<1.0,>=0.23.0 in /usr/local/lib/python3.7/dist-packages (from astunparse>=1.6.0->tensorflow<2.9,>=2.8.0->tensorflow-text==2.8.*) (0.37.1)\n",
            "Requirement already satisfied: cached-property in /usr/local/lib/python3.7/dist-packages (from h5py>=2.9.0->tensorflow<2.9,>=2.8.0->tensorflow-text==2.8.*) (1.5.2)\n",
            "Requirement already satisfied: google-auth<3,>=1.6.3 in /usr/local/lib/python3.7/dist-packages (from tensorboard<2.9,>=2.8->tensorflow<2.9,>=2.8.0->tensorflow-text==2.8.*) (1.35.0)\n",
            "Requirement already satisfied: markdown>=2.6.8 in /usr/local/lib/python3.7/dist-packages (from tensorboard<2.9,>=2.8->tensorflow<2.9,>=2.8.0->tensorflow-text==2.8.*) (3.3.6)\n",
            "Requirement already satisfied: requests<3,>=2.21.0 in /usr/local/lib/python3.7/dist-packages (from tensorboard<2.9,>=2.8->tensorflow<2.9,>=2.8.0->tensorflow-text==2.8.*) (2.23.0)\n",
            "Requirement already satisfied: tensorboard-data-server<0.7.0,>=0.6.0 in /usr/local/lib/python3.7/dist-packages (from tensorboard<2.9,>=2.8->tensorflow<2.9,>=2.8.0->tensorflow-text==2.8.*) (0.6.1)\n",
            "Requirement already satisfied: tensorboard-plugin-wit>=1.6.0 in /usr/local/lib/python3.7/dist-packages (from tensorboard<2.9,>=2.8->tensorflow<2.9,>=2.8.0->tensorflow-text==2.8.*) (1.8.1)\n",
            "Requirement already satisfied: werkzeug>=0.11.15 in /usr/local/lib/python3.7/dist-packages (from tensorboard<2.9,>=2.8->tensorflow<2.9,>=2.8.0->tensorflow-text==2.8.*) (1.0.1)\n",
            "Requirement already satisfied: google-auth-oauthlib<0.5,>=0.4.1 in /usr/local/lib/python3.7/dist-packages (from tensorboard<2.9,>=2.8->tensorflow<2.9,>=2.8.0->tensorflow-text==2.8.*) (0.4.6)\n",
            "Requirement already satisfied: pyasn1-modules>=0.2.1 in /usr/local/lib/python3.7/dist-packages (from google-auth<3,>=1.6.3->tensorboard<2.9,>=2.8->tensorflow<2.9,>=2.8.0->tensorflow-text==2.8.*) (0.2.8)\n",
            "Requirement already satisfied: rsa<5,>=3.1.4 in /usr/local/lib/python3.7/dist-packages (from google-auth<3,>=1.6.3->tensorboard<2.9,>=2.8->tensorflow<2.9,>=2.8.0->tensorflow-text==2.8.*) (4.8)\n",
            "Requirement already satisfied: cachetools<5.0,>=2.0.0 in /usr/local/lib/python3.7/dist-packages (from google-auth<3,>=1.6.3->tensorboard<2.9,>=2.8->tensorflow<2.9,>=2.8.0->tensorflow-text==2.8.*) (4.2.4)\n",
            "Requirement already satisfied: requests-oauthlib>=0.7.0 in /usr/local/lib/python3.7/dist-packages (from google-auth-oauthlib<0.5,>=0.4.1->tensorboard<2.9,>=2.8->tensorflow<2.9,>=2.8.0->tensorflow-text==2.8.*) (1.3.1)\n",
            "Requirement already satisfied: importlib-metadata>=4.4 in /usr/local/lib/python3.7/dist-packages (from markdown>=2.6.8->tensorboard<2.9,>=2.8->tensorflow<2.9,>=2.8.0->tensorflow-text==2.8.*) (4.11.3)\n",
            "Requirement already satisfied: zipp>=0.5 in /usr/local/lib/python3.7/dist-packages (from importlib-metadata>=4.4->markdown>=2.6.8->tensorboard<2.9,>=2.8->tensorflow<2.9,>=2.8.0->tensorflow-text==2.8.*) (3.8.0)\n",
            "Requirement already satisfied: pyasn1<0.5.0,>=0.4.6 in /usr/local/lib/python3.7/dist-packages (from pyasn1-modules>=0.2.1->google-auth<3,>=1.6.3->tensorboard<2.9,>=2.8->tensorflow<2.9,>=2.8.0->tensorflow-text==2.8.*) (0.4.8)\n",
            "Requirement already satisfied: certifi>=2017.4.17 in /usr/local/lib/python3.7/dist-packages (from requests<3,>=2.21.0->tensorboard<2.9,>=2.8->tensorflow<2.9,>=2.8.0->tensorflow-text==2.8.*) (2021.10.8)\n",
            "Requirement already satisfied: idna<3,>=2.5 in /usr/local/lib/python3.7/dist-packages (from requests<3,>=2.21.0->tensorboard<2.9,>=2.8->tensorflow<2.9,>=2.8.0->tensorflow-text==2.8.*) (2.10)\n",
            "Requirement already satisfied: chardet<4,>=3.0.2 in /usr/local/lib/python3.7/dist-packages (from requests<3,>=2.21.0->tensorboard<2.9,>=2.8->tensorflow<2.9,>=2.8.0->tensorflow-text==2.8.*) (3.0.4)\n",
            "Requirement already satisfied: urllib3!=1.25.0,!=1.25.1,<1.26,>=1.21.1 in /usr/local/lib/python3.7/dist-packages (from requests<3,>=2.21.0->tensorboard<2.9,>=2.8->tensorflow<2.9,>=2.8.0->tensorflow-text==2.8.*) (1.24.3)\n",
            "Requirement already satisfied: oauthlib>=3.0.0 in /usr/local/lib/python3.7/dist-packages (from requests-oauthlib>=0.7.0->google-auth-oauthlib<0.5,>=0.4.1->tensorboard<2.9,>=2.8->tensorflow<2.9,>=2.8.0->tensorflow-text==2.8.*) (3.2.0)\n",
            "Installing collected packages: tf-estimator-nightly, tensorflow-text\n",
            "Successfully installed tensorflow-text-2.8.2 tf-estimator-nightly-2.8.0.dev2021122109\n"
          ]
        }
      ]
    },
    {
      "cell_type": "code",
      "source": [
        "pip install -q tf-models-official==2.7.0"
      ],
      "metadata": {
        "id": "XxLe3XhPN0vV",
        "colab": {
          "base_uri": "https://localhost:8080/"
        },
        "outputId": "985533ad-62a3-4193-d855-69c9202e6b3b"
      },
      "execution_count": 2,
      "outputs": [
        {
          "output_type": "stream",
          "name": "stdout",
          "text": [
            "\u001b[?25l\r\u001b[K     |▏                               | 10 kB 20.8 MB/s eta 0:00:01\r\u001b[K     |▍                               | 20 kB 10.8 MB/s eta 0:00:01\r\u001b[K     |▌                               | 30 kB 8.5 MB/s eta 0:00:01\r\u001b[K     |▊                               | 40 kB 7.6 MB/s eta 0:00:01\r\u001b[K     |█                               | 51 kB 4.7 MB/s eta 0:00:01\r\u001b[K     |█                               | 61 kB 5.5 MB/s eta 0:00:01\r\u001b[K     |█▎                              | 71 kB 5.5 MB/s eta 0:00:01\r\u001b[K     |█▍                              | 81 kB 5.3 MB/s eta 0:00:01\r\u001b[K     |█▋                              | 92 kB 5.9 MB/s eta 0:00:01\r\u001b[K     |█▉                              | 102 kB 5.3 MB/s eta 0:00:01\r\u001b[K     |██                              | 112 kB 5.3 MB/s eta 0:00:01\r\u001b[K     |██▏                             | 122 kB 5.3 MB/s eta 0:00:01\r\u001b[K     |██▍                             | 133 kB 5.3 MB/s eta 0:00:01\r\u001b[K     |██▌                             | 143 kB 5.3 MB/s eta 0:00:01\r\u001b[K     |██▊                             | 153 kB 5.3 MB/s eta 0:00:01\r\u001b[K     |██▉                             | 163 kB 5.3 MB/s eta 0:00:01\r\u001b[K     |███                             | 174 kB 5.3 MB/s eta 0:00:01\r\u001b[K     |███▎                            | 184 kB 5.3 MB/s eta 0:00:01\r\u001b[K     |███▍                            | 194 kB 5.3 MB/s eta 0:00:01\r\u001b[K     |███▋                            | 204 kB 5.3 MB/s eta 0:00:01\r\u001b[K     |███▉                            | 215 kB 5.3 MB/s eta 0:00:01\r\u001b[K     |████                            | 225 kB 5.3 MB/s eta 0:00:01\r\u001b[K     |████▏                           | 235 kB 5.3 MB/s eta 0:00:01\r\u001b[K     |████▎                           | 245 kB 5.3 MB/s eta 0:00:01\r\u001b[K     |████▌                           | 256 kB 5.3 MB/s eta 0:00:01\r\u001b[K     |████▊                           | 266 kB 5.3 MB/s eta 0:00:01\r\u001b[K     |████▉                           | 276 kB 5.3 MB/s eta 0:00:01\r\u001b[K     |█████                           | 286 kB 5.3 MB/s eta 0:00:01\r\u001b[K     |█████▎                          | 296 kB 5.3 MB/s eta 0:00:01\r\u001b[K     |█████▍                          | 307 kB 5.3 MB/s eta 0:00:01\r\u001b[K     |█████▋                          | 317 kB 5.3 MB/s eta 0:00:01\r\u001b[K     |█████▊                          | 327 kB 5.3 MB/s eta 0:00:01\r\u001b[K     |██████                          | 337 kB 5.3 MB/s eta 0:00:01\r\u001b[K     |██████▏                         | 348 kB 5.3 MB/s eta 0:00:01\r\u001b[K     |██████▎                         | 358 kB 5.3 MB/s eta 0:00:01\r\u001b[K     |██████▌                         | 368 kB 5.3 MB/s eta 0:00:01\r\u001b[K     |██████▊                         | 378 kB 5.3 MB/s eta 0:00:01\r\u001b[K     |██████▉                         | 389 kB 5.3 MB/s eta 0:00:01\r\u001b[K     |███████                         | 399 kB 5.3 MB/s eta 0:00:01\r\u001b[K     |███████▏                        | 409 kB 5.3 MB/s eta 0:00:01\r\u001b[K     |███████▍                        | 419 kB 5.3 MB/s eta 0:00:01\r\u001b[K     |███████▋                        | 430 kB 5.3 MB/s eta 0:00:01\r\u001b[K     |███████▊                        | 440 kB 5.3 MB/s eta 0:00:01\r\u001b[K     |████████                        | 450 kB 5.3 MB/s eta 0:00:01\r\u001b[K     |████████                        | 460 kB 5.3 MB/s eta 0:00:01\r\u001b[K     |████████▎                       | 471 kB 5.3 MB/s eta 0:00:01\r\u001b[K     |████████▌                       | 481 kB 5.3 MB/s eta 0:00:01\r\u001b[K     |████████▋                       | 491 kB 5.3 MB/s eta 0:00:01\r\u001b[K     |████████▉                       | 501 kB 5.3 MB/s eta 0:00:01\r\u001b[K     |█████████                       | 512 kB 5.3 MB/s eta 0:00:01\r\u001b[K     |█████████▏                      | 522 kB 5.3 MB/s eta 0:00:01\r\u001b[K     |█████████▍                      | 532 kB 5.3 MB/s eta 0:00:01\r\u001b[K     |█████████▌                      | 542 kB 5.3 MB/s eta 0:00:01\r\u001b[K     |█████████▊                      | 552 kB 5.3 MB/s eta 0:00:01\r\u001b[K     |██████████                      | 563 kB 5.3 MB/s eta 0:00:01\r\u001b[K     |██████████                      | 573 kB 5.3 MB/s eta 0:00:01\r\u001b[K     |██████████▎                     | 583 kB 5.3 MB/s eta 0:00:01\r\u001b[K     |██████████▌                     | 593 kB 5.3 MB/s eta 0:00:01\r\u001b[K     |██████████▋                     | 604 kB 5.3 MB/s eta 0:00:01\r\u001b[K     |██████████▉                     | 614 kB 5.3 MB/s eta 0:00:01\r\u001b[K     |███████████                     | 624 kB 5.3 MB/s eta 0:00:01\r\u001b[K     |███████████▏                    | 634 kB 5.3 MB/s eta 0:00:01\r\u001b[K     |███████████▍                    | 645 kB 5.3 MB/s eta 0:00:01\r\u001b[K     |███████████▌                    | 655 kB 5.3 MB/s eta 0:00:01\r\u001b[K     |███████████▊                    | 665 kB 5.3 MB/s eta 0:00:01\r\u001b[K     |████████████                    | 675 kB 5.3 MB/s eta 0:00:01\r\u001b[K     |████████████                    | 686 kB 5.3 MB/s eta 0:00:01\r\u001b[K     |████████████▎                   | 696 kB 5.3 MB/s eta 0:00:01\r\u001b[K     |████████████▍                   | 706 kB 5.3 MB/s eta 0:00:01\r\u001b[K     |████████████▋                   | 716 kB 5.3 MB/s eta 0:00:01\r\u001b[K     |████████████▉                   | 727 kB 5.3 MB/s eta 0:00:01\r\u001b[K     |█████████████                   | 737 kB 5.3 MB/s eta 0:00:01\r\u001b[K     |█████████████▏                  | 747 kB 5.3 MB/s eta 0:00:01\r\u001b[K     |█████████████▍                  | 757 kB 5.3 MB/s eta 0:00:01\r\u001b[K     |█████████████▌                  | 768 kB 5.3 MB/s eta 0:00:01\r\u001b[K     |█████████████▊                  | 778 kB 5.3 MB/s eta 0:00:01\r\u001b[K     |█████████████▉                  | 788 kB 5.3 MB/s eta 0:00:01\r\u001b[K     |██████████████                  | 798 kB 5.3 MB/s eta 0:00:01\r\u001b[K     |██████████████▎                 | 808 kB 5.3 MB/s eta 0:00:01\r\u001b[K     |██████████████▍                 | 819 kB 5.3 MB/s eta 0:00:01\r\u001b[K     |██████████████▋                 | 829 kB 5.3 MB/s eta 0:00:01\r\u001b[K     |██████████████▊                 | 839 kB 5.3 MB/s eta 0:00:01\r\u001b[K     |███████████████                 | 849 kB 5.3 MB/s eta 0:00:01\r\u001b[K     |███████████████▏                | 860 kB 5.3 MB/s eta 0:00:01\r\u001b[K     |███████████████▎                | 870 kB 5.3 MB/s eta 0:00:01\r\u001b[K     |███████████████▌                | 880 kB 5.3 MB/s eta 0:00:01\r\u001b[K     |███████████████▊                | 890 kB 5.3 MB/s eta 0:00:01\r\u001b[K     |███████████████▉                | 901 kB 5.3 MB/s eta 0:00:01\r\u001b[K     |████████████████                | 911 kB 5.3 MB/s eta 0:00:01\r\u001b[K     |████████████████▏               | 921 kB 5.3 MB/s eta 0:00:01\r\u001b[K     |████████████████▍               | 931 kB 5.3 MB/s eta 0:00:01\r\u001b[K     |████████████████▋               | 942 kB 5.3 MB/s eta 0:00:01\r\u001b[K     |████████████████▊               | 952 kB 5.3 MB/s eta 0:00:01\r\u001b[K     |█████████████████               | 962 kB 5.3 MB/s eta 0:00:01\r\u001b[K     |█████████████████▏              | 972 kB 5.3 MB/s eta 0:00:01\r\u001b[K     |█████████████████▎              | 983 kB 5.3 MB/s eta 0:00:01\r\u001b[K     |█████████████████▌              | 993 kB 5.3 MB/s eta 0:00:01\r\u001b[K     |█████████████████▋              | 1.0 MB 5.3 MB/s eta 0:00:01\r\u001b[K     |█████████████████▉              | 1.0 MB 5.3 MB/s eta 0:00:01\r\u001b[K     |██████████████████              | 1.0 MB 5.3 MB/s eta 0:00:01\r\u001b[K     |██████████████████▏             | 1.0 MB 5.3 MB/s eta 0:00:01\r\u001b[K     |██████████████████▍             | 1.0 MB 5.3 MB/s eta 0:00:01\r\u001b[K     |██████████████████▋             | 1.1 MB 5.3 MB/s eta 0:00:01\r\u001b[K     |██████████████████▊             | 1.1 MB 5.3 MB/s eta 0:00:01\r\u001b[K     |███████████████████             | 1.1 MB 5.3 MB/s eta 0:00:01\r\u001b[K     |███████████████████             | 1.1 MB 5.3 MB/s eta 0:00:01\r\u001b[K     |███████████████████▎            | 1.1 MB 5.3 MB/s eta 0:00:01\r\u001b[K     |███████████████████▌            | 1.1 MB 5.3 MB/s eta 0:00:01\r\u001b[K     |███████████████████▋            | 1.1 MB 5.3 MB/s eta 0:00:01\r\u001b[K     |███████████████████▉            | 1.1 MB 5.3 MB/s eta 0:00:01\r\u001b[K     |████████████████████            | 1.1 MB 5.3 MB/s eta 0:00:01\r\u001b[K     |████████████████████▏           | 1.1 MB 5.3 MB/s eta 0:00:01\r\u001b[K     |████████████████████▍           | 1.2 MB 5.3 MB/s eta 0:00:01\r\u001b[K     |████████████████████▌           | 1.2 MB 5.3 MB/s eta 0:00:01\r\u001b[K     |████████████████████▊           | 1.2 MB 5.3 MB/s eta 0:00:01\r\u001b[K     |█████████████████████           | 1.2 MB 5.3 MB/s eta 0:00:01\r\u001b[K     |█████████████████████           | 1.2 MB 5.3 MB/s eta 0:00:01\r\u001b[K     |█████████████████████▎          | 1.2 MB 5.3 MB/s eta 0:00:01\r\u001b[K     |█████████████████████▍          | 1.2 MB 5.3 MB/s eta 0:00:01\r\u001b[K     |█████████████████████▋          | 1.2 MB 5.3 MB/s eta 0:00:01\r\u001b[K     |█████████████████████▉          | 1.2 MB 5.3 MB/s eta 0:00:01\r\u001b[K     |██████████████████████          | 1.2 MB 5.3 MB/s eta 0:00:01\r\u001b[K     |██████████████████████▏         | 1.3 MB 5.3 MB/s eta 0:00:01\r\u001b[K     |██████████████████████▍         | 1.3 MB 5.3 MB/s eta 0:00:01\r\u001b[K     |██████████████████████▌         | 1.3 MB 5.3 MB/s eta 0:00:01\r\u001b[K     |██████████████████████▊         | 1.3 MB 5.3 MB/s eta 0:00:01\r\u001b[K     |██████████████████████▉         | 1.3 MB 5.3 MB/s eta 0:00:01\r\u001b[K     |███████████████████████         | 1.3 MB 5.3 MB/s eta 0:00:01\r\u001b[K     |███████████████████████▎        | 1.3 MB 5.3 MB/s eta 0:00:01\r\u001b[K     |███████████████████████▍        | 1.3 MB 5.3 MB/s eta 0:00:01\r\u001b[K     |███████████████████████▋        | 1.3 MB 5.3 MB/s eta 0:00:01\r\u001b[K     |███████████████████████▉        | 1.4 MB 5.3 MB/s eta 0:00:01\r\u001b[K     |████████████████████████        | 1.4 MB 5.3 MB/s eta 0:00:01\r\u001b[K     |████████████████████████▏       | 1.4 MB 5.3 MB/s eta 0:00:01\r\u001b[K     |████████████████████████▎       | 1.4 MB 5.3 MB/s eta 0:00:01\r\u001b[K     |████████████████████████▌       | 1.4 MB 5.3 MB/s eta 0:00:01\r\u001b[K     |████████████████████████▊       | 1.4 MB 5.3 MB/s eta 0:00:01\r\u001b[K     |████████████████████████▉       | 1.4 MB 5.3 MB/s eta 0:00:01\r\u001b[K     |█████████████████████████       | 1.4 MB 5.3 MB/s eta 0:00:01\r\u001b[K     |█████████████████████████▎      | 1.4 MB 5.3 MB/s eta 0:00:01\r\u001b[K     |█████████████████████████▍      | 1.4 MB 5.3 MB/s eta 0:00:01\r\u001b[K     |█████████████████████████▋      | 1.5 MB 5.3 MB/s eta 0:00:01\r\u001b[K     |█████████████████████████▊      | 1.5 MB 5.3 MB/s eta 0:00:01\r\u001b[K     |██████████████████████████      | 1.5 MB 5.3 MB/s eta 0:00:01\r\u001b[K     |██████████████████████████▏     | 1.5 MB 5.3 MB/s eta 0:00:01\r\u001b[K     |██████████████████████████▎     | 1.5 MB 5.3 MB/s eta 0:00:01\r\u001b[K     |██████████████████████████▌     | 1.5 MB 5.3 MB/s eta 0:00:01\r\u001b[K     |██████████████████████████▊     | 1.5 MB 5.3 MB/s eta 0:00:01\r\u001b[K     |██████████████████████████▉     | 1.5 MB 5.3 MB/s eta 0:00:01\r\u001b[K     |███████████████████████████     | 1.5 MB 5.3 MB/s eta 0:00:01\r\u001b[K     |███████████████████████████▏    | 1.5 MB 5.3 MB/s eta 0:00:01\r\u001b[K     |███████████████████████████▍    | 1.6 MB 5.3 MB/s eta 0:00:01\r\u001b[K     |███████████████████████████▋    | 1.6 MB 5.3 MB/s eta 0:00:01\r\u001b[K     |███████████████████████████▊    | 1.6 MB 5.3 MB/s eta 0:00:01\r\u001b[K     |████████████████████████████    | 1.6 MB 5.3 MB/s eta 0:00:01\r\u001b[K     |████████████████████████████▏   | 1.6 MB 5.3 MB/s eta 0:00:01\r\u001b[K     |████████████████████████████▎   | 1.6 MB 5.3 MB/s eta 0:00:01\r\u001b[K     |████████████████████████████▌   | 1.6 MB 5.3 MB/s eta 0:00:01\r\u001b[K     |████████████████████████████▋   | 1.6 MB 5.3 MB/s eta 0:00:01\r\u001b[K     |████████████████████████████▉   | 1.6 MB 5.3 MB/s eta 0:00:01\r\u001b[K     |█████████████████████████████   | 1.6 MB 5.3 MB/s eta 0:00:01\r\u001b[K     |█████████████████████████████▏  | 1.7 MB 5.3 MB/s eta 0:00:01\r\u001b[K     |█████████████████████████████▍  | 1.7 MB 5.3 MB/s eta 0:00:01\r\u001b[K     |█████████████████████████████▌  | 1.7 MB 5.3 MB/s eta 0:00:01\r\u001b[K     |█████████████████████████████▊  | 1.7 MB 5.3 MB/s eta 0:00:01\r\u001b[K     |██████████████████████████████  | 1.7 MB 5.3 MB/s eta 0:00:01\r\u001b[K     |██████████████████████████████  | 1.7 MB 5.3 MB/s eta 0:00:01\r\u001b[K     |██████████████████████████████▎ | 1.7 MB 5.3 MB/s eta 0:00:01\r\u001b[K     |██████████████████████████████▌ | 1.7 MB 5.3 MB/s eta 0:00:01\r\u001b[K     |██████████████████████████████▋ | 1.7 MB 5.3 MB/s eta 0:00:01\r\u001b[K     |██████████████████████████████▉ | 1.8 MB 5.3 MB/s eta 0:00:01\r\u001b[K     |███████████████████████████████ | 1.8 MB 5.3 MB/s eta 0:00:01\r\u001b[K     |███████████████████████████████▏| 1.8 MB 5.3 MB/s eta 0:00:01\r\u001b[K     |███████████████████████████████▍| 1.8 MB 5.3 MB/s eta 0:00:01\r\u001b[K     |███████████████████████████████▌| 1.8 MB 5.3 MB/s eta 0:00:01\r\u001b[K     |███████████████████████████████▊| 1.8 MB 5.3 MB/s eta 0:00:01\r\u001b[K     |████████████████████████████████| 1.8 MB 5.3 MB/s eta 0:00:01\r\u001b[K     |████████████████████████████████| 1.8 MB 5.3 MB/s \n",
            "\u001b[K     |████████████████████████████████| 237 kB 57.9 MB/s \n",
            "\u001b[K     |████████████████████████████████| 43 kB 1.9 MB/s \n",
            "\u001b[K     |████████████████████████████████| 90 kB 5.7 MB/s \n",
            "\u001b[K     |████████████████████████████████| 352 kB 43.6 MB/s \n",
            "\u001b[K     |████████████████████████████████| 47.8 MB 74 kB/s \n",
            "\u001b[K     |████████████████████████████████| 596 kB 44.3 MB/s \n",
            "\u001b[K     |████████████████████████████████| 1.1 MB 45.1 MB/s \n",
            "\u001b[K     |████████████████████████████████| 1.2 MB 31.4 MB/s \n",
            "\u001b[K     |████████████████████████████████| 99 kB 7.0 MB/s \n",
            "\u001b[?25h  Building wheel for py-cpuinfo (setup.py) ... \u001b[?25l\u001b[?25hdone\n",
            "  Building wheel for seqeval (setup.py) ... \u001b[?25l\u001b[?25hdone\n"
          ]
        }
      ]
    },
    {
      "cell_type": "code",
      "source": [
        "pip install fasttext"
      ],
      "metadata": {
        "colab": {
          "base_uri": "https://localhost:8080/"
        },
        "id": "knl5GaUDUeIc",
        "outputId": "2870e61f-cb8f-426d-972c-482c1e72bf1e"
      },
      "execution_count": 3,
      "outputs": [
        {
          "output_type": "stream",
          "name": "stdout",
          "text": [
            "Collecting fasttext\n",
            "  Downloading fasttext-0.9.2.tar.gz (68 kB)\n",
            "\u001b[?25l\r\u001b[K     |████▊                           | 10 kB 24.4 MB/s eta 0:00:01\r\u001b[K     |█████████▌                      | 20 kB 26.2 MB/s eta 0:00:01\r\u001b[K     |██████████████▎                 | 30 kB 11.3 MB/s eta 0:00:01\r\u001b[K     |███████████████████             | 40 kB 4.5 MB/s eta 0:00:01\r\u001b[K     |███████████████████████▉        | 51 kB 4.3 MB/s eta 0:00:01\r\u001b[K     |████████████████████████████▋   | 61 kB 5.1 MB/s eta 0:00:01\r\u001b[K     |████████████████████████████████| 68 kB 3.3 MB/s \n",
            "\u001b[?25hCollecting pybind11>=2.2\n",
            "  Using cached pybind11-2.9.2-py2.py3-none-any.whl (213 kB)\n",
            "Requirement already satisfied: setuptools>=0.7.0 in /usr/local/lib/python3.7/dist-packages (from fasttext) (57.4.0)\n",
            "Requirement already satisfied: numpy in /usr/local/lib/python3.7/dist-packages (from fasttext) (1.21.6)\n",
            "Building wheels for collected packages: fasttext\n",
            "  Building wheel for fasttext (setup.py) ... \u001b[?25l\u001b[?25hdone\n",
            "  Created wheel for fasttext: filename=fasttext-0.9.2-cp37-cp37m-linux_x86_64.whl size=3144534 sha256=c8f431c9c6033ebbe7d8e98d43f0d15341a7eb725be0d851c621372e8c3205b5\n",
            "  Stored in directory: /root/.cache/pip/wheels/4e/ca/bf/b020d2be95f7641801a6597a29c8f4f19e38f9c02a345bab9b\n",
            "Successfully built fasttext\n",
            "Installing collected packages: pybind11, fasttext\n",
            "Successfully installed fasttext-0.9.2 pybind11-2.9.2\n"
          ]
        }
      ]
    },
    {
      "cell_type": "code",
      "source": [
        "# import fasttext.util ## Run only once\n",
        "# fasttext.util.download_model('en', if_exists='ignore')"
      ],
      "metadata": {
        "id": "uIc8U-SRdDnV"
      },
      "execution_count": 4,
      "outputs": []
    },
    {
      "cell_type": "markdown",
      "source": [
        "# Load Libraries"
      ],
      "metadata": {
        "id": "g95lEw0ZhfkN"
      }
    },
    {
      "cell_type": "code",
      "execution_count": 5,
      "metadata": {
        "id": "xSsLZaOSIHhs"
      },
      "outputs": [],
      "source": [
        "import collections\n",
        "import pathlib\n",
        "import os\n",
        "from os import listdir\n",
        "from os.path import isfile, join, isdir\n",
        "\n",
        "import matplotlib.pyplot as plt\n",
        "import re\n",
        "import shutil\n",
        "import string\n",
        "\n",
        "import fasttext\n",
        "\n",
        "import tensorflow as tf\n",
        "import tensorflow_hub as hub\n",
        "\n",
        "from tensorflow.keras import layers\n",
        "from tensorflow.keras import Sequential\n",
        "from tensorflow.keras.layers import Dense, Embedding, GlobalAveragePooling1D\n",
        "from tensorflow.keras import losses\n",
        "from tensorflow.keras import utils\n",
        "from tensorflow.keras.layers import TextVectorization\n",
        "\n",
        "import tensorflow_datasets as tfds\n",
        "import tensorflow_text as tf_text\n",
        "from official.nlp import optimization  # to create AdamW optimizer\n",
        "\n",
        "import pandas as pd\n",
        "import numpy as np\n",
        "\n",
        "from sklearn.model_selection import train_test_split\n",
        "import tensorflow_addons as tfa\n",
        "from sklearn.metrics import confusion_matrix, ConfusionMatrixDisplay, f1_score\n",
        "\n",
        "tf.get_logger().setLevel('ERROR')"
      ]
    },
    {
      "cell_type": "markdown",
      "source": [
        "# Load Dataset"
      ],
      "metadata": {
        "id": "DC5peQW6hMgJ"
      }
    },
    {
      "cell_type": "code",
      "source": [
        "## Friends-corpus from http://zissou.infosci.cornell.edu/convokit/datasets/friends-corpus/friends-corpus.zip\n",
        "raw_ds = pd.read_csv(\n",
        "    '/content/drive/MyDrive/CS521/dataset/friends.csv' \n",
        ")"
      ],
      "metadata": {
        "id": "8SjdIG5SXzpD"
      },
      "execution_count": 6,
      "outputs": []
    },
    {
      "cell_type": "code",
      "source": [
        "## Remove null data points\n",
        "raw_ds = raw_ds.loc[~raw_ds.dialogue.isnull()]"
      ],
      "metadata": {
        "id": "E8TtXSJj-hPS"
      },
      "execution_count": 7,
      "outputs": []
    },
    {
      "cell_type": "code",
      "source": [
        "## Distribution of target classes in the raw dataset\n",
        "raw_ds.groupby('label').count().div(raw_ds.shape[0]).mul(100).round(1).plot(kind='bar')"
      ],
      "metadata": {
        "colab": {
          "base_uri": "https://localhost:8080/",
          "height": 71
        },
        "id": "JmPE_A01D3Vg",
        "outputId": "0a18b352-a0d3-4b7e-82c2-9399e2b51755"
      },
      "execution_count": 8,
      "outputs": [
        {
          "output_type": "execute_result",
          "data": {
            "text/plain": [
              "<matplotlib.axes._subplots.AxesSubplot at 0x7fba8f4cdf10>"
            ]
          },
          "metadata": {},
          "execution_count": 8
        },
        {
          "output_type": "display_data",
          "data": {
            "text/plain": [
              "<Figure size 432x288 with 1 Axes>"
            ],
            "image/png": "[encoded data removed]"
          },
          "metadata": {
            "needs_background": "light"
          }
        }
      ]
    },
    {
      "cell_type": "code",
      "source": [
        "## Split raw data into train(70%), test(15%) & validation(15%)\n",
        "\n",
        "train_x, test_x, train_y, test_y = train_test_split(\n",
        "    raw_ds.dialogue, raw_ds.label, \n",
        "    test_size=0.3,\n",
        "    random_state=1,\n",
        "    stratify=raw_ds.label\n",
        "    )\n",
        "\n",
        "validation_x, test_x, validation_y, test_y = train_test_split(\n",
        "    test_x, test_y, \n",
        "    test_size=0.5,\n",
        "    random_state=1,\n",
        "    stratify=test_y\n",
        "    )"
      ],
      "metadata": {
        "id": "npj1BoEXcg9Q"
      },
      "execution_count": 9,
      "outputs": []
    },
    {
      "cell_type": "markdown",
      "source": [
        "# Custom optimizer"
      ],
      "metadata": {
        "id": "Nw0WN1k1Ogp_"
      }
    },
    {
      "cell_type": "code",
      "source": [
        "## reaches the optimum learning rate without needing to actually specify one\n",
        "epochs = 5\n",
        "steps_per_epoch = 3\n",
        "num_train_steps = steps_per_epoch * epochs\n",
        "num_warmup_steps = int(0.1*num_train_steps)\n",
        "init_lr = 3e-5\n",
        "\n",
        "optimizer = optimization.create_optimizer(\n",
        "              init_lr=init_lr,\n",
        "              num_train_steps=num_train_steps,\n",
        "              num_warmup_steps=num_warmup_steps,\n",
        "              optimizer_type='adamw'\n",
        "              )"
      ],
      "metadata": {
        "id": "_4FTGoIGK5c7"
      },
      "execution_count": 10,
      "outputs": []
    },
    {
      "cell_type": "code",
      "source": [
        "labels=['Moni','Joey','Chan','Phoe','Ross','Rach']"
      ],
      "metadata": {
        "id": "mXPFKK4ZVAFp"
      },
      "execution_count": 10,
      "outputs": []
    },
    {
      "cell_type": "markdown",
      "source": [
        "# BERTs"
      ],
      "metadata": {
        "id": "ndyfkPbU6EhV"
      }
    },
    {
      "cell_type": "markdown",
      "source": [
        "#### Dictionary for links to pre trained BERT models in TensorFlow hub"
      ],
      "metadata": {
        "id": "FJ6IpWFj58y2"
      }
    },
    {
      "cell_type": "code",
      "source": [
        "map_name_to_handle = {\n",
        "    'bert_en_uncased_L-12_H-768_A-12':\n",
        "        'https://tfhub.dev/tensorflow/bert_en_uncased_L-12_H-768_A-12/3',\n",
        "    'bert_en_cased_L-12_H-768_A-12':\n",
        "        'https://tfhub.dev/tensorflow/bert_en_cased_L-12_H-768_A-12/3',\n",
        "    'bert_multi_cased_L-12_H-768_A-12':\n",
        "        'https://tfhub.dev/tensorflow/bert_multi_cased_L-12_H-768_A-12/3',\n",
        "    'small_bert/bert_en_uncased_L-2_H-128_A-2':\n",
        "        'https://tfhub.dev/tensorflow/small_bert/bert_en_uncased_L-2_H-128_A-2/1',\n",
        "    'small_bert/bert_en_uncased_L-2_H-256_A-4':\n",
        "        'https://tfhub.dev/tensorflow/small_bert/bert_en_uncased_L-2_H-256_A-4/1',\n",
        "    'small_bert/bert_en_uncased_L-2_H-512_A-8':\n",
        "        'https://tfhub.dev/tensorflow/small_bert/bert_en_uncased_L-2_H-512_A-8/1',\n",
        "    'small_bert/bert_en_uncased_L-2_H-768_A-12':\n",
        "        'https://tfhub.dev/tensorflow/small_bert/bert_en_uncased_L-2_H-768_A-12/1',\n",
        "    'small_bert/bert_en_uncased_L-4_H-128_A-2':\n",
        "        'https://tfhub.dev/tensorflow/small_bert/bert_en_uncased_L-4_H-128_A-2/1',\n",
        "    'small_bert/bert_en_uncased_L-4_H-256_A-4':\n",
        "        'https://tfhub.dev/tensorflow/small_bert/bert_en_uncased_L-4_H-256_A-4/1',\n",
        "    'small_bert/bert_en_uncased_L-4_H-512_A-8':\n",
        "        'https://tfhub.dev/tensorflow/small_bert/bert_en_uncased_L-4_H-512_A-8/1',\n",
        "    'small_bert/bert_en_uncased_L-4_H-768_A-12':\n",
        "        'https://tfhub.dev/tensorflow/small_bert/bert_en_uncased_L-4_H-768_A-12/1',\n",
        "    'small_bert/bert_en_uncased_L-6_H-128_A-2':\n",
        "        'https://tfhub.dev/tensorflow/small_bert/bert_en_uncased_L-6_H-128_A-2/1',\n",
        "    'small_bert/bert_en_uncased_L-6_H-256_A-4':\n",
        "        'https://tfhub.dev/tensorflow/small_bert/bert_en_uncased_L-6_H-256_A-4/1',\n",
        "    'small_bert/bert_en_uncased_L-6_H-512_A-8':\n",
        "        'https://tfhub.dev/tensorflow/small_bert/bert_en_uncased_L-6_H-512_A-8/1',\n",
        "    'small_bert/bert_en_uncased_L-6_H-768_A-12':\n",
        "        'https://tfhub.dev/tensorflow/small_bert/bert_en_uncased_L-6_H-768_A-12/1',\n",
        "    'small_bert/bert_en_uncased_L-8_H-128_A-2':\n",
        "        'https://tfhub.dev/tensorflow/small_bert/bert_en_uncased_L-8_H-128_A-2/1',\n",
        "    'small_bert/bert_en_uncased_L-8_H-256_A-4':\n",
        "        'https://tfhub.dev/tensorflow/small_bert/bert_en_uncased_L-8_H-256_A-4/1',\n",
        "    'small_bert/bert_en_uncased_L-8_H-512_A-8':\n",
        "        'https://tfhub.dev/tensorflow/small_bert/bert_en_uncased_L-8_H-512_A-8/1',\n",
        "    'small_bert/bert_en_uncased_L-8_H-768_A-12':\n",
        "        'https://tfhub.dev/tensorflow/small_bert/bert_en_uncased_L-8_H-768_A-12/1',\n",
        "    'small_bert/bert_en_uncased_L-10_H-128_A-2':\n",
        "        'https://tfhub.dev/tensorflow/small_bert/bert_en_uncased_L-10_H-128_A-2/1',\n",
        "    'small_bert/bert_en_uncased_L-10_H-256_A-4':\n",
        "        'https://tfhub.dev/tensorflow/small_bert/bert_en_uncased_L-10_H-256_A-4/1',\n",
        "    'small_bert/bert_en_uncased_L-10_H-512_A-8':\n",
        "        'https://tfhub.dev/tensorflow/small_bert/bert_en_uncased_L-10_H-512_A-8/1',\n",
        "    'small_bert/bert_en_uncased_L-10_H-768_A-12':\n",
        "        'https://tfhub.dev/tensorflow/small_bert/bert_en_uncased_L-10_H-768_A-12/1',\n",
        "    'small_bert/bert_en_uncased_L-12_H-128_A-2':\n",
        "        'https://tfhub.dev/tensorflow/small_bert/bert_en_uncased_L-12_H-128_A-2/1',\n",
        "    'small_bert/bert_en_uncased_L-12_H-256_A-4':\n",
        "        'https://tfhub.dev/tensorflow/small_bert/bert_en_uncased_L-12_H-256_A-4/1',\n",
        "    'small_bert/bert_en_uncased_L-12_H-512_A-8':\n",
        "        'https://tfhub.dev/tensorflow/small_bert/bert_en_uncased_L-12_H-512_A-8/1',\n",
        "    'small_bert/bert_en_uncased_L-12_H-768_A-12':\n",
        "        'https://tfhub.dev/tensorflow/small_bert/bert_en_uncased_L-12_H-768_A-12/1',\n",
        "    'albert_en_base':\n",
        "        'https://tfhub.dev/tensorflow/albert_en_base/3', #https://tfhub.dev/google/albert_base/2\n",
        "    'electra_small':\n",
        "        'https://tfhub.dev/google/electra_small/2',\n",
        "    'electra_base':\n",
        "        'https://tfhub.dev/google/electra_base/2',\n",
        "    'experts_pubmed':\n",
        "        'https://tfhub.dev/google/experts/bert/pubmed/2',\n",
        "    'experts_wiki_books':\n",
        "        'https://tfhub.dev/google/experts/bert/wiki_books/2',\n",
        "    'talking-heads_base':\n",
        "        'https://tfhub.dev/tensorflow/talkheads_ggelu_bert_en_base/1',\n",
        "}\n",
        "\n",
        "map_model_to_preprocess = {\n",
        "    'bert_en_uncased_L-12_H-768_A-12':\n",
        "        'https://tfhub.dev/tensorflow/bert_en_uncased_preprocess/3',\n",
        "    'bert_en_cased_L-12_H-768_A-12':\n",
        "        'https://tfhub.dev/tensorflow/bert_en_cased_preprocess/3',\n",
        "    'small_bert/bert_en_uncased_L-2_H-128_A-2':\n",
        "        'https://tfhub.dev/tensorflow/bert_en_uncased_preprocess/3',\n",
        "    'small_bert/bert_en_uncased_L-2_H-256_A-4':\n",
        "        'https://tfhub.dev/tensorflow/bert_en_uncased_preprocess/3',\n",
        "    'small_bert/bert_en_uncased_L-2_H-512_A-8':\n",
        "        'https://tfhub.dev/tensorflow/bert_en_uncased_preprocess/3',\n",
        "    'small_bert/bert_en_uncased_L-2_H-768_A-12':\n",
        "        'https://tfhub.dev/tensorflow/bert_en_uncased_preprocess/3',\n",
        "    'small_bert/bert_en_uncased_L-4_H-128_A-2':\n",
        "        'https://tfhub.dev/tensorflow/bert_en_uncased_preprocess/3',\n",
        "    'small_bert/bert_en_uncased_L-4_H-256_A-4':\n",
        "        'https://tfhub.dev/tensorflow/bert_en_uncased_preprocess/3',\n",
        "    'small_bert/bert_en_uncased_L-4_H-512_A-8':\n",
        "        'https://tfhub.dev/tensorflow/bert_en_uncased_preprocess/3',\n",
        "    'small_bert/bert_en_uncased_L-4_H-768_A-12':\n",
        "        'https://tfhub.dev/tensorflow/bert_en_uncased_preprocess/3',\n",
        "    'small_bert/bert_en_uncased_L-6_H-128_A-2':\n",
        "        'https://tfhub.dev/tensorflow/bert_en_uncased_preprocess/3',\n",
        "    'small_bert/bert_en_uncased_L-6_H-256_A-4':\n",
        "        'https://tfhub.dev/tensorflow/bert_en_uncased_preprocess/3',\n",
        "    'small_bert/bert_en_uncased_L-6_H-512_A-8':\n",
        "        'https://tfhub.dev/tensorflow/bert_en_uncased_preprocess/3',\n",
        "    'small_bert/bert_en_uncased_L-6_H-768_A-12':\n",
        "        'https://tfhub.dev/tensorflow/bert_en_uncased_preprocess/3',\n",
        "    'small_bert/bert_en_uncased_L-8_H-128_A-2':\n",
        "        'https://tfhub.dev/tensorflow/bert_en_uncased_preprocess/3',\n",
        "    'small_bert/bert_en_uncased_L-8_H-256_A-4':\n",
        "        'https://tfhub.dev/tensorflow/bert_en_uncased_preprocess/3',\n",
        "    'small_bert/bert_en_uncased_L-8_H-512_A-8':\n",
        "        'https://tfhub.dev/tensorflow/bert_en_uncased_preprocess/3',\n",
        "    'small_bert/bert_en_uncased_L-8_H-768_A-12':\n",
        "        'https://tfhub.dev/tensorflow/bert_en_uncased_preprocess/3',\n",
        "    'small_bert/bert_en_uncased_L-10_H-128_A-2':\n",
        "        'https://tfhub.dev/tensorflow/bert_en_uncased_preprocess/3',\n",
        "    'small_bert/bert_en_uncased_L-10_H-256_A-4':\n",
        "        'https://tfhub.dev/tensorflow/bert_en_uncased_preprocess/3',\n",
        "    'small_bert/bert_en_uncased_L-10_H-512_A-8':\n",
        "        'https://tfhub.dev/tensorflow/bert_en_uncased_preprocess/3',\n",
        "    'small_bert/bert_en_uncased_L-10_H-768_A-12':\n",
        "        'https://tfhub.dev/tensorflow/bert_en_uncased_preprocess/3',\n",
        "    'small_bert/bert_en_uncased_L-12_H-128_A-2':\n",
        "        'https://tfhub.dev/tensorflow/bert_en_uncased_preprocess/3',\n",
        "    'small_bert/bert_en_uncased_L-12_H-256_A-4':\n",
        "        'https://tfhub.dev/tensorflow/bert_en_uncased_preprocess/3',\n",
        "    'small_bert/bert_en_uncased_L-12_H-512_A-8':\n",
        "        'https://tfhub.dev/tensorflow/bert_en_uncased_preprocess/3',\n",
        "    'small_bert/bert_en_uncased_L-12_H-768_A-12':\n",
        "        'https://tfhub.dev/tensorflow/bert_en_uncased_preprocess/3',\n",
        "    'bert_multi_cased_L-12_H-768_A-12':\n",
        "        'https://tfhub.dev/tensorflow/bert_multi_cased_preprocess/3',\n",
        "    'albert_en_base':\n",
        "        'https://tfhub.dev/tensorflow/albert_en_preprocess/3',\n",
        "    'electra_small':\n",
        "        'https://tfhub.dev/tensorflow/bert_en_uncased_preprocess/3',\n",
        "    'electra_base':\n",
        "        'https://tfhub.dev/tensorflow/bert_en_uncased_preprocess/3',\n",
        "    'experts_pubmed':\n",
        "        'https://tfhub.dev/tensorflow/bert_en_uncased_preprocess/3',\n",
        "    'experts_wiki_books':\n",
        "        'https://tfhub.dev/tensorflow/bert_en_uncased_preprocess/3',\n",
        "    'talking-heads_base':\n",
        "        'https://tfhub.dev/tensorflow/bert_en_uncased_preprocess/3',\n",
        "}"
      ],
      "metadata": {
        "id": "NhxO6VnA52ED"
      },
      "execution_count": 12,
      "outputs": []
    },
    {
      "cell_type": "markdown",
      "source": [
        "#### Word embedding model"
      ],
      "metadata": {
        "id": "FOo-izd77DFL"
      }
    },
    {
      "cell_type": "code",
      "source": [
        "## Replace the bert_model_name variable with any of the below 4.\n",
        "#'bert_en_cased_L-12_H-768_A-12'\n",
        "#'albert_en_base'\n",
        "#'small_bert/bert_en_uncased_L-2_H-128_A-2'\n",
        "#'small_bert/bert_en_uncased_L-4_H-512_A-8' \n",
        "bert_model_name = 'albert_en_base'\n",
        "tfhub_handle_encoder = map_name_to_handle[bert_model_name]\n",
        "tfhub_handle_preprocess = map_model_to_preprocess[bert_model_name]\n",
        "\n",
        "print(f'BERT model selected           : {tfhub_handle_encoder}')\n",
        "print(f'Preprocess model auto-selected: {tfhub_handle_preprocess}')"
      ],
      "metadata": {
        "colab": {
          "base_uri": "https://localhost:8080/"
        },
        "id": "zi76sm5LAiZo",
        "outputId": "f788467a-8807-443b-f592-d3321f5ffd15"
      },
      "execution_count": 35,
      "outputs": [
        {
          "output_type": "stream",
          "name": "stdout",
          "text": [
            "BERT model selected           : https://tfhub.dev/tensorflow/albert_en_base/3\n",
            "Preprocess model auto-selected: https://tfhub.dev/tensorflow/albert_en_preprocess/3\n"
          ]
        }
      ]
    },
    {
      "cell_type": "code",
      "source": [
        "def get_bert_word_embeddings(\n",
        "    text_col, \n",
        "    tfhub_handle_preprocess, \n",
        "    tfhub_handle_encoder, \n",
        "    fine_tune_flag\n",
        "    ):\n",
        "  \n",
        "  \"\"\"\n",
        "  Takes in \n",
        "    the text column in the dataset, \n",
        "    the encoder & its preprocess handlers,\n",
        "    the fine_tune_flag to enable or disable fine tuning the BERTs\n",
        "\n",
        "  Returns the input layer & the word embeddings layer\n",
        "\n",
        "  \"\"\"\n",
        "  \n",
        "  text_input_layer = tf.keras.layers.Input(shape=(), dtype=tf.string, name=text_col)\n",
        "  \n",
        "  preprocessing_layer = hub.KerasLayer(\n",
        "      tfhub_handle_preprocess, \n",
        "      name='preprocessing'\n",
        "      )\n",
        "  encoder_inputs = preprocessing_layer(text_input_layer)\n",
        "  encoder = hub.KerasLayer(\n",
        "      tfhub_handle_encoder, \n",
        "      trainable=fine_tune_flag, \n",
        "      name='BERT_encoder'\n",
        "      )\n",
        "  outputs = encoder(encoder_inputs)\n",
        "  \n",
        "  return text_input_layer, outputs\n",
        "\n",
        "  \n",
        "text_input_layer, bert_word_embeddings = get_bert_word_embeddings(\n",
        "  text_col='dialogue', \n",
        "  tfhub_handle_preprocess=tfhub_handle_preprocess, \n",
        "  tfhub_handle_encoder=tfhub_handle_encoder,\n",
        "  fine_tune_flag=False\n",
        "  )"
      ],
      "metadata": {
        "id": "FKTypdNSGZAL"
      },
      "execution_count": null,
      "outputs": []
    },
    {
      "cell_type": "markdown",
      "source": [
        "#### Simple DNN Model"
      ],
      "metadata": {
        "id": "NoKh9bH1Lzx6"
      }
    },
    {
      "cell_type": "code",
      "source": [
        "def simple_dnn_classifier_model(\n",
        "    num_labels, \n",
        "    text_input_layer,\n",
        "    outputs\n",
        "    ):\n",
        "  \n",
        "  \"\"\"\n",
        "  Takes in \n",
        "    the number of output classes, \n",
        "    the text input layer,\n",
        "    the word embeddings BERTs\n",
        "  Constructs the layers\n",
        "  Returns the keras model\n",
        "\n",
        "  \"\"\"\n",
        "    \n",
        "  net = outputs['pooled_output'] \n",
        "  net = tf.keras.layers.Dense(256, activation=\"selu\", name=\"dense_layer1\")(net)\n",
        "  net = tf.keras.layers.Dense(256, activation=\"selu\", name='dense_layer2')(net)\n",
        "  net = tf.keras.layers.Dropout(0.2, name='dropout_layer')(net)\n",
        "  \n",
        "  out = tf.keras.layers.Dense(num_labels, activation=\"softmax\", name='classifier')(net)\n",
        "  \n",
        "  return tf.keras.Model(text_input_layer, out)\n",
        "\n",
        "\n",
        "cls_model = simple_dnn_classifier_model(\n",
        "    num_labels=6,\n",
        "    text_input_layer=text_input_layer, \n",
        "    outputs=bert_word_embeddings\n",
        "    ) \n",
        "cls_model.summary()"
      ],
      "metadata": {
        "colab": {
          "base_uri": "https://localhost:8080/"
        },
        "id": "mi-hQUSuXLd9",
        "outputId": "7147cec0-05f8-4f71-852b-f196efaccacf"
      },
      "execution_count": 39,
      "outputs": [
        {
          "output_type": "stream",
          "name": "stdout",
          "text": [
            "Model: \"model_4\"\n",
            "__________________________________________________________________________________________________\n",
            " Layer (type)                   Output Shape         Param #     Connected to                     \n",
            "==================================================================================================\n",
            " dialogue (InputLayer)          [(None,)]            0           []                               \n",
            "                                                                                                  \n",
            " preprocessing (KerasLayer)     {'input_mask': (Non  0           ['dialogue[0][0]']               \n",
            "                                e, 128),                                                          \n",
            "                                 'input_word_ids':                                                \n",
            "                                (None, 128),                                                      \n",
            "                                 'input_type_ids':                                                \n",
            "                                (None, 128)}                                                      \n",
            "                                                                                                  \n",
            " BERT_encoder (KerasLayer)      {'pooled_output': (  11683584    ['preprocessing[0][0]',          \n",
            "                                None, 768),                       'preprocessing[0][1]',          \n",
            "                                 'sequence_output':               'preprocessing[0][2]']          \n",
            "                                 (None, 128, 768),                                                \n",
            "                                 'default': (None,                                                \n",
            "                                768),                                                             \n",
            "                                 'encoder_outputs':                                               \n",
            "                                 [(None, 128, 768),                                               \n",
            "                                 (None, 128, 768),                                                \n",
            "                                 (None, 128, 768),                                                \n",
            "                                 (None, 128, 768),                                                \n",
            "                                 (None, 128, 768),                                                \n",
            "                                 (None, 128, 768),                                                \n",
            "                                 (None, 128, 768),                                                \n",
            "                                 (None, 128, 768),                                                \n",
            "                                 (None, 128, 768),                                                \n",
            "                                 (None, 128, 768),                                                \n",
            "                                 (None, 128, 768),                                                \n",
            "                                 (None, 128, 768)]}                                               \n",
            "                                                                                                  \n",
            " dense_layer1 (Dense)           (None, 256)          196864      ['BERT_encoder[0][13]']          \n",
            "                                                                                                  \n",
            " dense_layer2 (Dense)           (None, 256)          65792       ['dense_layer1[0][0]']           \n",
            "                                                                                                  \n",
            " dropout_layer (Dropout)        (None, 256)          0           ['dense_layer2[0][0]']           \n",
            "                                                                                                  \n",
            " classifier (Dense)             (None, 6)            1542        ['dropout_layer[0][0]']          \n",
            "                                                                                                  \n",
            "==================================================================================================\n",
            "Total params: 11,947,782\n",
            "Trainable params: 264,198\n",
            "Non-trainable params: 11,683,584\n",
            "__________________________________________________________________________________________________\n"
          ]
        }
      ]
    },
    {
      "cell_type": "code",
      "source": [
        "# Compile & fit the model to the training data; val data is passed here\n",
        "# The EarlyStopping callback is also passed. This stops the training when\n",
        "# the improvement is less than 5 & restores the best weights at the end\n",
        "cls_model.compile(\n",
        "    optimizer=optimizer,\n",
        "    loss=tf.keras.losses.SparseCategoricalCrossentropy(from_logits=False), \n",
        "    metrics=[tf.keras.metrics.SparseCategoricalAccuracy()]\n",
        "    )\n",
        "\n",
        "\n",
        "print(f'Training model with {tfhub_handle_encoder}')\n",
        "early_stopping_cb = tf.keras.callbacks.EarlyStopping(min_delta=5,restore_best_weights=True)\n",
        "history = cls_model.fit(\n",
        "    train_x, train_y, \n",
        "    validation_data=(validation_x, validation_y),\n",
        "    epochs=epochs, batch_size=128\n",
        "    ,callbacks=[early_stopping_cb]\n",
        "    )\n",
        "\n",
        "cls_model.save('/content/drive/MyDrive/CS521/models/FRIENDS/simple_dnn_model_albert')"
      ],
      "metadata": {
        "id": "gPBpwj4FWkcd"
      },
      "execution_count": null,
      "outputs": []
    },
    {
      "cell_type": "markdown",
      "source": [
        "##### Model evaluation"
      ],
      "metadata": {
        "id": "rudRYID9MFW_"
      }
    },
    {
      "cell_type": "code",
      "source": [
        "# Load the model when necessary\n",
        "# predict the classes for test data\n",
        "# calculate the Matthew's Corr Coeff & F1 scores of each class\n",
        "# MCC score of 0 indicates the predictions are no better than random guesses\n",
        "# plot the confusion matrix\n",
        "\n",
        "# cls_model = tf.keras.models.load_model(\n",
        "#     '/content/drive/MyDrive/CS521/models/FRIENDS/simple_dnn_model',\n",
        "#     compile=False\n",
        "#     )\n",
        "pred_y = cls_model.predict(test_x)\n",
        "\n",
        "mcc = tfa.metrics.MatthewsCorrelationCoefficient(num_classes=3)\n",
        "\n",
        "mcc.update_state(test_y.values.reshape(-1,1), np.argmax(pred_y, axis=1).reshape(-1,1))\n",
        "result = mcc.result()\n",
        "print(f\"Matthews Correlation Coefficient: {result.numpy()}\\n\\n\")\n",
        "\n",
        "f1_score_ = f1_score(\n",
        "    test_y, np.argmax(pred_y, axis=1), \n",
        "    average=None\n",
        "    )\n",
        "\n",
        "print(f\"F1 scores: {[{label:round(score,2)} for label, score in zip(labels, f1_score_)]}\\n\\n\")\n",
        "\n",
        "cm = confusion_matrix(\n",
        "      test_y.values.reshape(-1,1), \n",
        "      np.argmax(pred_y, axis=1).reshape(-1,1)\n",
        "      )\n",
        "disp = ConfusionMatrixDisplay(confusion_matrix=cm,\n",
        "                              display_labels=labels)\n",
        "disp.plot();"
      ],
      "metadata": {
        "colab": {
          "base_uri": "https://localhost:8080/",
          "height": 381
        },
        "id": "YyRFOfjwUvve",
        "outputId": "ce5cdf13-67c6-4d69-c195-753f468bbc98"
      },
      "execution_count": 30,
      "outputs": [
        {
          "output_type": "stream",
          "name": "stdout",
          "text": [
            "Matthews Correlation Coefficient: 0.0\n",
            "\n",
            "\n",
            "F1 scores: [{'Moni': 0.0}, {'Joey': 0.0}, {'Chan': 0.0}, {'Phoe': 0.0}, {'Ross': 0.25}, {'Rach': 0.28}]\n",
            "\n",
            "\n"
          ]
        },
        {
          "output_type": "display_data",
          "data": {
            "text/plain": [
              "<Figure size 432x288 with 2 Axes>"
            ],
            "image/png": "[encoded data removed]"
          },
          "metadata": {
            "needs_background": "light"
          }
        }
      ]
    },
    {
      "cell_type": "markdown",
      "source": [
        "#### CNN based model"
      ],
      "metadata": {
        "id": "e1R_PMD-MKtG"
      }
    },
    {
      "cell_type": "code",
      "source": [
        "## Replace the bert_model_name variable with any of the below 4.\n",
        "#'bert_en_cased_L-12_H-768_A-12'\n",
        "#'albert_en_base'\n",
        "#'small_bert/bert_en_uncased_L-2_H-128_A-2'\n",
        "#'small_bert/bert_en_uncased_L-4_H-512_A-8' \n",
        "bert_model_name = 'albert_en_base'\n",
        "tfhub_handle_encoder = map_name_to_handle[bert_model_name]\n",
        "tfhub_handle_preprocess = map_model_to_preprocess[bert_model_name]\n",
        "\n",
        "print(f'BERT model selected           : {tfhub_handle_encoder}')\n",
        "print(f'Preprocess model auto-selected: {tfhub_handle_preprocess}')\n",
        "\n",
        "text_input_layer, bert_word_embeddings = get_bert_word_embeddings(\n",
        "  text_col='dialogue', \n",
        "  tfhub_handle_preprocess=tfhub_handle_preprocess, \n",
        "  tfhub_handle_encoder=tfhub_handle_encoder,\n",
        "  fine_tune_flag=False\n",
        "  )"
      ],
      "metadata": {
        "id": "ZCEjxyGkSLAY"
      },
      "execution_count": null,
      "outputs": []
    },
    {
      "cell_type": "code",
      "source": [
        "def cnn_classifier_model(\n",
        "    num_labels, \n",
        "    text_input_layer,\n",
        "    outputs\n",
        "    ):\n",
        "  \n",
        "  \"\"\"\n",
        "  Takes in \n",
        "    the number of output classes, \n",
        "    the text input layer,\n",
        "    the word embeddings BERTs\n",
        "  Constructs the layers\n",
        "  Returns the keras model\n",
        "\n",
        "  \"\"\"\n",
        "    \n",
        "  # sequence_output -- represents each input token in the sentence context\n",
        "  net = outputs['sequence_output'] \n",
        "  net = tf.keras.layers.Conv1D(256, 3, activation=\"relu\", name='cnn1d')(net)\n",
        "  net = tf.keras.layers.GlobalAveragePooling1D()(net)\n",
        "  net = tf.keras.layers.Dense(256, activation=\"selu\", name='dense1')(net)\n",
        "  net = tf.keras.layers.Dropout(0.2, name='dropout1')(net)\n",
        "  \n",
        "  out = tf.keras.layers.Dense(num_labels, activation=\"softmax\", name='classifier')(net)\n",
        "  \n",
        "  return tf.keras.Model(text_input_layer, out)\n",
        "\n",
        "cls_model = cnn_classifier_model(\n",
        "  num_labels=6,\n",
        "  text_input_layer=text_input_layer, \n",
        "  outputs=bert_word_embeddings\n",
        "  ) \n",
        "cls_model.summary()"
      ],
      "metadata": {
        "id": "9SKQWjvgLQ_f",
        "colab": {
          "base_uri": "https://localhost:8080/"
        },
        "outputId": "b08a8d53-df50-47cc-aa6f-5009bfc9055e"
      },
      "execution_count": 37,
      "outputs": [
        {
          "output_type": "stream",
          "name": "stdout",
          "text": [
            "Model: \"model_3\"\n",
            "__________________________________________________________________________________________________\n",
            " Layer (type)                   Output Shape         Param #     Connected to                     \n",
            "==================================================================================================\n",
            " dialogue (InputLayer)          [(None,)]            0           []                               \n",
            "                                                                                                  \n",
            " preprocessing (KerasLayer)     {'input_mask': (Non  0           ['dialogue[0][0]']               \n",
            "                                e, 128),                                                          \n",
            "                                 'input_word_ids':                                                \n",
            "                                (None, 128),                                                      \n",
            "                                 'input_type_ids':                                                \n",
            "                                (None, 128)}                                                      \n",
            "                                                                                                  \n",
            " BERT_encoder (KerasLayer)      {'pooled_output': (  11683584    ['preprocessing[0][0]',          \n",
            "                                None, 768),                       'preprocessing[0][1]',          \n",
            "                                 'sequence_output':               'preprocessing[0][2]']          \n",
            "                                 (None, 128, 768),                                                \n",
            "                                 'default': (None,                                                \n",
            "                                768),                                                             \n",
            "                                 'encoder_outputs':                                               \n",
            "                                 [(None, 128, 768),                                               \n",
            "                                 (None, 128, 768),                                                \n",
            "                                 (None, 128, 768),                                                \n",
            "                                 (None, 128, 768),                                                \n",
            "                                 (None, 128, 768),                                                \n",
            "                                 (None, 128, 768),                                                \n",
            "                                 (None, 128, 768),                                                \n",
            "                                 (None, 128, 768),                                                \n",
            "                                 (None, 128, 768),                                                \n",
            "                                 (None, 128, 768),                                                \n",
            "                                 (None, 128, 768),                                                \n",
            "                                 (None, 128, 768)]}                                               \n",
            "                                                                                                  \n",
            " cnn1d (Conv1D)                 (None, 126, 256)     590080      ['BERT_encoder[0][14]']          \n",
            "                                                                                                  \n",
            " global_average_pooling1d_1 (Gl  (None, 256)         0           ['cnn1d[0][0]']                  \n",
            " obalAveragePooling1D)                                                                            \n",
            "                                                                                                  \n",
            " dense1 (Dense)                 (None, 256)          65792       ['global_average_pooling1d_1[0][0\n",
            "                                                                 ]']                              \n",
            "                                                                                                  \n",
            " dropout1 (Dropout)             (None, 256)          0           ['dense1[0][0]']                 \n",
            "                                                                                                  \n",
            " classifier (Dense)             (None, 6)            1542        ['dropout1[0][0]']               \n",
            "                                                                                                  \n",
            "==================================================================================================\n",
            "Total params: 12,340,998\n",
            "Trainable params: 657,414\n",
            "Non-trainable params: 11,683,584\n",
            "__________________________________________________________________________________________________\n"
          ]
        }
      ]
    },
    {
      "cell_type": "code",
      "source": [
        "# Compile & fit the model to the training data; val data is passed here\n",
        "# The EarlyStopping callback is also passed. This stops the training when\n",
        "# the improvement is less than 5 & restores the best weights at the end\n",
        "cls_model.compile(\n",
        "    optimizer=optimizer,\n",
        "    loss=tf.keras.losses.SparseCategoricalCrossentropy(from_logits=False), \n",
        "    metrics=[tf.keras.metrics.SparseCategoricalAccuracy()]\n",
        "    )\n",
        "\n",
        "\n",
        "print(f'Training model with {tfhub_handle_encoder}')\n",
        "early_stopping_cb = tf.keras.callbacks.EarlyStopping(min_delta=5,restore_best_weights=True)\n",
        "history = cls_model.fit(\n",
        "    train_x, train_y, \n",
        "    validation_data=(validation_x, validation_y),\n",
        "    epochs=epochs, batch_size=128\n",
        "    ,callbacks=[early_stopping_cb]\n",
        "    )\n",
        "\n",
        "cls_model.save('/content/drive/MyDrive/CS521/models/FRIENDS/cnn_based_model_albert')"
      ],
      "metadata": {
        "id": "K1Hu8dOLQvZ0"
      },
      "execution_count": null,
      "outputs": []
    },
    {
      "cell_type": "markdown",
      "source": [
        "##### Model evaluation"
      ],
      "metadata": {
        "id": "JQTiIYhsdGkL"
      }
    },
    {
      "cell_type": "code",
      "source": [
        "# Load the model when necessary\n",
        "# predict the classes for test data\n",
        "# calculate the Matthew's Corr Coeff & F1 scores of each class\n",
        "# MCC score of 0 indicates the predictions are no better than random guesses\n",
        "# plot the confusion matrix\n",
        "\n",
        "# cls_model = tf.keras.models.load_model(\n",
        "#     '/content/drive/MyDrive/CS521/models/FRIENDS/cnn_based_model_albert',\n",
        "#     compile=False\n",
        "#     )\n",
        "pred_y = cls_model.predict(test_x)\n",
        "\n",
        "mcc = tfa.metrics.MatthewsCorrelationCoefficient(num_classes=3)\n",
        "\n",
        "mcc.update_state(test_y.values.reshape(-1,1), np.argmax(pred_y, axis=1).reshape(-1,1))\n",
        "result = mcc.result()\n",
        "print(f\"Matthews Correlation Coefficient: {result.numpy()}\\n\\n\")\n",
        "\n",
        "f1_score_ = f1_score(\n",
        "    test_y, np.argmax(pred_y, axis=1), \n",
        "    average=None\n",
        "    )\n",
        "\n",
        "\n",
        "print(f\"F1 scores: {[{label:round(score,2)} for label, score in zip(labels, f1_score_)]}\\n\\n\")\n",
        "\n",
        "cm = confusion_matrix(\n",
        "      test_y.values.reshape(-1,1), \n",
        "      np.argmax(pred_y, axis=1).reshape(-1,1)\n",
        "      )\n",
        "disp = ConfusionMatrixDisplay(confusion_matrix=cm,\n",
        "                              display_labels=labels)\n",
        "disp.plot();"
      ],
      "metadata": {
        "colab": {
          "base_uri": "https://localhost:8080/",
          "height": 381
        },
        "id": "PWGBtt1WdI43",
        "outputId": "4cac42a2-a1ef-4b5a-bb16-16981fb4bb0b"
      },
      "execution_count": 41,
      "outputs": [
        {
          "output_type": "stream",
          "name": "stdout",
          "text": [
            "Matthews Correlation Coefficient: 0.0\n",
            "\n",
            "\n",
            "F1 scores: [{'Moni': 0.0}, {'Joey': 0.0}, {'Chan': 0.01}, {'Phoe': 0.26}, {'Ross': 0.0}, {'Rach': 0.0}]\n",
            "\n",
            "\n"
          ]
        },
        {
          "output_type": "display_data",
          "data": {
            "text/plain": [
              "<Figure size 432x288 with 2 Axes>"
            ],
            "image/png": "[encoded data removed]"
          },
          "metadata": {
            "needs_background": "light"
          }
        }
      ]
    },
    {
      "cell_type": "markdown",
      "source": [
        "#### RNN based"
      ],
      "metadata": {
        "id": "TRK1CLHtgmeb"
      }
    },
    {
      "cell_type": "code",
      "source": [
        "## Replace the bert_model_name variable with any of the below 4.\n",
        "#'bert_en_cased_L-12_H-768_A-12'\n",
        "#'albert_en_base'\n",
        "#'small_bert/bert_en_uncased_L-2_H-128_A-2'\n",
        "#'small_bert/bert_en_uncased_L-4_H-512_A-8' \n",
        "bert_model_name = 'small_bert/bert_en_uncased_L-4_H-512_A-8'\n",
        "tfhub_handle_encoder = map_name_to_handle[bert_model_name]\n",
        "tfhub_handle_preprocess = map_model_to_preprocess[bert_model_name]\n",
        "\n",
        "print(f'BERT model selected           : {tfhub_handle_encoder}')\n",
        "print(f'Preprocess model auto-selected: {tfhub_handle_preprocess}')\n",
        "\n",
        "text_input_layer, bert_word_embeddings = get_bert_word_embeddings(\n",
        "  text_col='dialogue', \n",
        "  tfhub_handle_preprocess=tfhub_handle_preprocess, \n",
        "  tfhub_handle_encoder=tfhub_handle_encoder,\n",
        "  fine_tune_flag=False\n",
        "  )"
      ],
      "metadata": {
        "id": "gt-J5V1tSMKa"
      },
      "execution_count": null,
      "outputs": []
    },
    {
      "cell_type": "code",
      "source": [
        "def rnn_classifier_model(\n",
        "    num_labels, \n",
        "    text_input_layer,\n",
        "    outputs\n",
        "    ):\n",
        "  \n",
        "  \"\"\"\n",
        "  Takes in \n",
        "    the number of output classes, \n",
        "    the text input layer,\n",
        "    the word embeddings BERTs\n",
        "  Constructs the layers\n",
        "  Returns the keras model\n",
        "\n",
        "  \"\"\"\n",
        "    \n",
        "  # sequence_output -- represents each input token in the sentence context\n",
        "  # pooled_output\n",
        "  net = outputs['sequence_output'] \n",
        "  net = tf.keras.layers.Bidirectional(tf.keras.layers.GRU(256))(net)\n",
        "  net = tf.keras.layers.Dense(256, activation=\"selu\", name='dense1')(net)\n",
        "  net = tf.keras.layers.Dropout(0.2, name='dropout1')(net)\n",
        "  \n",
        "  out = tf.keras.layers.Dense(num_labels, activation=\"softmax\", name='classifier')(net)\n",
        "  \n",
        "  return tf.keras.Model(text_input_layer, out)\n",
        "\n",
        "cls_model = rnn_classifier_model(\n",
        "  num_labels=6,\n",
        "  text_input_layer=text_input_layer, \n",
        "  outputs=bert_word_embeddings\n",
        "  ) \n",
        "cls_model.summary()"
      ],
      "metadata": {
        "colab": {
          "base_uri": "https://localhost:8080/"
        },
        "id": "FI6Ud7aggpl7",
        "outputId": "5eb39b64-2641-4aac-caa6-de34b84ad8f1"
      },
      "execution_count": 31,
      "outputs": [
        {
          "output_type": "stream",
          "name": "stdout",
          "text": [
            "Model: \"model_3\"\n",
            "__________________________________________________________________________________________________\n",
            " Layer (type)                   Output Shape         Param #     Connected to                     \n",
            "==================================================================================================\n",
            " dialogue (InputLayer)          [(None,)]            0           []                               \n",
            "                                                                                                  \n",
            " preprocessing (KerasLayer)     {'input_mask': (Non  0           ['dialogue[0][0]']               \n",
            "                                e, 128),                                                          \n",
            "                                 'input_type_ids':                                                \n",
            "                                (None, 128),                                                      \n",
            "                                 'input_word_ids':                                                \n",
            "                                (None, 128)}                                                      \n",
            "                                                                                                  \n",
            " BERT_encoder (KerasLayer)      {'sequence_output':  28763649    ['preprocessing[0][0]',          \n",
            "                                 (None, 128, 512),                'preprocessing[0][1]',          \n",
            "                                 'encoder_outputs':               'preprocessing[0][2]']          \n",
            "                                 [(None, 128, 512),                                               \n",
            "                                 (None, 128, 512),                                                \n",
            "                                 (None, 128, 512),                                                \n",
            "                                 (None, 128, 512)],                                               \n",
            "                                 'default': (None,                                                \n",
            "                                512),                                                             \n",
            "                                 'pooled_output': (                                               \n",
            "                                None, 512)}                                                       \n",
            "                                                                                                  \n",
            " bidirectional (Bidirectional)  (None, 512)          1182720     ['BERT_encoder[0][6]']           \n",
            "                                                                                                  \n",
            " dense1 (Dense)                 (None, 256)          131328      ['bidirectional[0][0]']          \n",
            "                                                                                                  \n",
            " dropout1 (Dropout)             (None, 256)          0           ['dense1[0][0]']                 \n",
            "                                                                                                  \n",
            " classifier (Dense)             (None, 6)            1542        ['dropout1[0][0]']               \n",
            "                                                                                                  \n",
            "==================================================================================================\n",
            "Total params: 30,079,239\n",
            "Trainable params: 1,315,590\n",
            "Non-trainable params: 28,763,649\n",
            "__________________________________________________________________________________________________\n"
          ]
        }
      ]
    },
    {
      "cell_type": "code",
      "source": [
        "# Compile & fit the model to the training data; val data is passed here\n",
        "# The EarlyStopping callback is also passed. This stops the training when\n",
        "# the improvement is less than 5 & restores the best weights at the end\n",
        "\n",
        "cls_model.compile(\n",
        "    optimizer=optimizer,\n",
        "    loss=tf.keras.losses.SparseCategoricalCrossentropy(from_logits=False), \n",
        "    metrics=[tf.keras.metrics.SparseCategoricalAccuracy()]\n",
        "    )\n",
        "\n",
        "\n",
        "print(f'Training model with {tfhub_handle_encoder}')\n",
        "early_stopping_cb = tf.keras.callbacks.EarlyStopping(min_delta=5,restore_best_weights=True)\n",
        "history = cls_model.fit(\n",
        "    train_x, train_y, \n",
        "    validation_data=(validation_x, validation_y),\n",
        "    epochs=epochs, batch_size=32\n",
        "    ,callbacks=[early_stopping_cb]\n",
        "    )\n",
        "\n",
        "cls_model.save('/content/drive/MyDrive/CS521/models/FRIENDS/rnn_based_model_bert_cased')"
      ],
      "metadata": {
        "id": "UU5c7QxihHOj"
      },
      "execution_count": null,
      "outputs": []
    },
    {
      "cell_type": "markdown",
      "source": [
        "##### Model evaluation"
      ],
      "metadata": {
        "id": "pcK2hYCuhZCX"
      }
    },
    {
      "cell_type": "code",
      "source": [
        "# Load the model when necessary\n",
        "# predict the classes for test data\n",
        "# calculate the Matthew's Corr Coeff & F1 scores of each class\n",
        "# MCC score of 0 indicates the predictions are no better than random guesses\n",
        "# plot the confusion matrix\n",
        "\n",
        "cls_model = tf.keras.models.load_model(\n",
        "    '/content/drive/MyDrive/CS521/models/FRIENDS/rnn_based_model',\n",
        "    compile=False\n",
        "    )\n",
        "pred_y = cls_model.predict(test_x)\n",
        "\n",
        "mcc = tfa.metrics.MatthewsCorrelationCoefficient(num_classes=3)\n",
        "\n",
        "mcc.update_state(test_y.values.reshape(-1,1), np.argmax(pred_y, axis=1).reshape(-1,1))\n",
        "result = mcc.result()\n",
        "print(f\"Matthews Correlation Coefficient: {result.numpy()}\\n\\n\")\n",
        "\n",
        "f1_score_ = f1_score(\n",
        "    test_y, np.argmax(pred_y, axis=1), \n",
        "    average=None\n",
        "    )\n",
        "\n",
        "print(f\"F1 scores: {[{label:round(score,2)} for label, score in zip(labels, f1_score_)]}\\n\\n\")\n",
        "\n",
        "cm = confusion_matrix(\n",
        "      test_y.values.reshape(-1,1), \n",
        "      np.argmax(pred_y, axis=1).reshape(-1,1)\n",
        "      )\n",
        "disp = ConfusionMatrixDisplay(confusion_matrix=cm,\n",
        "                              display_labels=labels)\n",
        "disp.plot();"
      ],
      "metadata": {
        "colab": {
          "base_uri": "https://localhost:8080/",
          "height": 381
        },
        "id": "WGd7zdrghQS1",
        "outputId": "810557a8-dbc6-496b-d330-f5941a657ecd"
      },
      "execution_count": 17,
      "outputs": [
        {
          "output_type": "stream",
          "name": "stdout",
          "text": [
            "Matthews Correlation Coefficient: 0.0\n",
            "\n",
            "\n",
            "F1 scores: [{'Moni': 0.2}, {'Joey': 0.14}, {'Chan': 0.26}, {'Phoe': 0.16}, {'Ross': 0.1}, {'Rach': 0.01}]\n",
            "\n",
            "\n"
          ]
        },
        {
          "output_type": "display_data",
          "data": {
            "text/plain": [
              "<Figure size 432x288 with 2 Axes>"
            ],
            "image/png": "[encoded data removed]"
          },
          "metadata": {
            "needs_background": "light"
          }
        }
      ]
    },
    {
      "cell_type": "markdown",
      "source": [
        "# FastText"
      ],
      "metadata": {
        "id": "qRwd_nPq-uFv"
      }
    },
    {
      "cell_type": "markdown",
      "source": [
        "#### FastText Pre trained word embeddings"
      ],
      "metadata": {
        "id": "t1vlOOfihAL6"
      }
    },
    {
      "cell_type": "code",
      "source": [
        "# load the fasttext model\n",
        "ft = fasttext.load_model('/content/drive/MyDrive/CS521/cc.en.300.bin')\n",
        "# fasttext.util.reduce_model(ft, 100) ## For lower dimension word vecs"
      ],
      "metadata": {
        "colab": {
          "base_uri": "https://localhost:8080/"
        },
        "id": "pgkxYxgyg-i7",
        "outputId": "39f5cef6-9dbb-463b-8097-4012166092e5"
      },
      "execution_count": 34,
      "outputs": [
        {
          "output_type": "stream",
          "name": "stderr",
          "text": [
            "Warning : `load_model` does not return WordVectorModel or SupervisedModel any more, but a `FastText` object which is very similar.\n"
          ]
        }
      ]
    },
    {
      "cell_type": "code",
      "source": [
        "# create the keras vectorizer & adapt it to the training data set\n",
        "vectorizer = TextVectorization(max_tokens=20000, output_sequence_length=300)\n",
        "vectorizer.adapt(train_x)"
      ],
      "metadata": {
        "id": "KNOZGu1cltsv"
      },
      "execution_count": 35,
      "outputs": []
    },
    {
      "cell_type": "code",
      "source": [
        "# create the word index from the vectorizer\n",
        "voc = vectorizer.get_vocabulary()\n",
        "word_index = dict(zip(voc, range(len(voc))))"
      ],
      "metadata": {
        "id": "mctsWzIjl0pW"
      },
      "execution_count": 36,
      "outputs": []
    },
    {
      "cell_type": "code",
      "source": [
        "# create the embedding matrix for the input sequences\n",
        "num_tokens = len(voc) + 2\n",
        "embedding_dim = 300\n",
        "hits = 0\n",
        "misses = 0\n",
        "\n",
        "embedding_matrix = np.zeros((num_tokens, embedding_dim))\n",
        "for word, i in word_index.items():\n",
        "    embedding_vector = ft.get_word_vector(word)\n",
        "    if embedding_vector is not None:\n",
        "        # Words not found in embedding index will be all-zeros.\n",
        "        # This includes the representation for \"padding\" and \"OOV\"\n",
        "        embedding_matrix[i] = embedding_vector\n",
        "        hits += 1\n",
        "    else:\n",
        "        misses += 1\n",
        "print(\"Converted %d words (%d misses)\" % (hits, misses))"
      ],
      "metadata": {
        "colab": {
          "base_uri": "https://localhost:8080/"
        },
        "id": "2V1aTCBcmJa5",
        "outputId": "dfad98da-9bfa-411c-d1da-10d07644bea8"
      },
      "execution_count": 37,
      "outputs": [
        {
          "output_type": "stream",
          "name": "stdout",
          "text": [
            "Converted 13838 words (0 misses)\n"
          ]
        }
      ]
    },
    {
      "cell_type": "code",
      "source": [
        "# Create the keras embedding layer\n",
        "embedding_layer = Embedding(\n",
        "    num_tokens,\n",
        "    embedding_dim,\n",
        "    embeddings_initializer=tf.keras.initializers.Constant(embedding_matrix),\n",
        "    trainable=False,\n",
        ")"
      ],
      "metadata": {
        "id": "v_7lNqTKmZQD"
      },
      "execution_count": 38,
      "outputs": []
    },
    {
      "cell_type": "markdown",
      "source": [
        "#### Simple DNN"
      ],
      "metadata": {
        "id": "LM5-nqYxlxXG"
      }
    },
    {
      "cell_type": "code",
      "source": [
        "def simple_dnn_classifier_model_ft(\n",
        "    num_labels, \n",
        "    text_col,\n",
        "    embedding_layer\n",
        "    ):\n",
        "  \n",
        "  \"\"\"\n",
        "  Takes in \n",
        "    the number of output classes, \n",
        "    the text input layer,\n",
        "    the word embeddings FastText\n",
        "  Constructs the layers\n",
        "  Returns the keras model\n",
        "\n",
        "  \"\"\"\n",
        "    \n",
        "  \n",
        "  text_input = tf.keras.layers.Input(shape=(), dtype=tf.string, name=text_col)\n",
        "  net = vectorizer(text_input)\n",
        "  net = embedding_layer(net)\n",
        "  net = tf.keras.layers.Flatten()(net)\n",
        "  net = tf.keras.layers.Dense(512, activation=\"selu\", name=\"dense_layer1\")(net)\n",
        "  net = tf.keras.layers.Dense(512, activation=\"selu\", name='dense_layer2')(net)\n",
        "  net = tf.keras.layers.Dropout(0.2, name='dropout_layer')(net)\n",
        "  \n",
        "  out = tf.keras.layers.Dense(num_labels, activation=\"softmax\", name='classifier')(net)\n",
        "  \n",
        "  return tf.keras.Model(text_input, out)\n",
        "\n",
        "\n",
        "cls_model = simple_dnn_classifier_model_ft(\n",
        "    num_labels=6,\n",
        "    text_col='dialogue', \n",
        "    embedding_layer=embedding_layer\n",
        "    ) \n",
        "cls_model.summary()"
      ],
      "metadata": {
        "id": "gFhwERaYm3MA",
        "colab": {
          "base_uri": "https://localhost:8080/"
        },
        "outputId": "f70c0bcd-50e1-4a5e-f30e-0ec36de70be7"
      },
      "execution_count": 39,
      "outputs": [
        {
          "output_type": "stream",
          "name": "stdout",
          "text": [
            "Model: \"model_4\"\n",
            "_________________________________________________________________\n",
            " Layer (type)                Output Shape              Param #   \n",
            "=================================================================\n",
            " dialogue (InputLayer)       [(None,)]                 0         \n",
            "                                                                 \n",
            " text_vectorization (TextVec  (None, 300)              0         \n",
            " torization)                                                     \n",
            "                                                                 \n",
            " embedding (Embedding)       (None, 300, 300)          4152000   \n",
            "                                                                 \n",
            " flatten (Flatten)           (None, 90000)             0         \n",
            "                                                                 \n",
            " dense_layer1 (Dense)        (None, 512)               46080512  \n",
            "                                                                 \n",
            " dense_layer2 (Dense)        (None, 512)               262656    \n",
            "                                                                 \n",
            " dropout_layer (Dropout)     (None, 512)               0         \n",
            "                                                                 \n",
            " classifier (Dense)          (None, 6)                 3078      \n",
            "                                                                 \n",
            "=================================================================\n",
            "Total params: 50,498,246\n",
            "Trainable params: 46,346,246\n",
            "Non-trainable params: 4,152,000\n",
            "_________________________________________________________________\n"
          ]
        }
      ]
    },
    {
      "cell_type": "code",
      "source": [
        "# Compile & fit the model to the training data; val data is passed here\n",
        "# The EarlyStopping callback is also passed. This stops the training when\n",
        "# the improvement is less than 5 & restores the best weights at the end\n",
        "\n",
        "cls_model.compile(optimizer=optimizer,\n",
        "                         loss=tf.keras.losses.SparseCategoricalCrossentropy(from_logits=False), \n",
        "                         metrics=[tf.keras.metrics.SparseCategoricalAccuracy()])\n",
        "# checkpoint_cb = tf.keras.callbacks.ModelCheckpoint(\"my_keras_model.h5\")\n",
        "early_stopping_cb = tf.keras.callbacks.EarlyStopping(min_delta=5,restore_best_weights=True)\n",
        "history = cls_model.fit(\n",
        "    train_x, train_y, \n",
        "    validation_data=(validation_x, validation_y),\n",
        "    epochs=5, batch_size=32\n",
        "    ,callbacks=[early_stopping_cb]\n",
        "    )\n",
        "\n",
        "cls_model.save('/content/drive/MyDrive/CS521/models/FRIENDS/simple_dnn_based_model_ft')"
      ],
      "metadata": {
        "id": "qnPIEjKzpz22"
      },
      "execution_count": null,
      "outputs": []
    },
    {
      "cell_type": "markdown",
      "source": [
        "##### Model evaluation"
      ],
      "metadata": {
        "id": "PzooerYxZokX"
      }
    },
    {
      "cell_type": "code",
      "source": [
        "# Load the model when necessary\n",
        "# predict the classes for test data\n",
        "# calculate the Matthew's Corr Coeff & F1 scores of each class\n",
        "# MCC score of 0 indicates the predictions are no better than random guesses\n",
        "# plot the confusion matrix\n",
        "\n",
        "cls_model = tf.keras.models.load_model(\n",
        "    '/content/drive/MyDrive/CS521/models/FRIENDS/simple_dnn_based_model_ft',\n",
        "    compile=False\n",
        "    )\n",
        "pred_y = cls_model.predict(test_x)\n",
        "\n",
        "mcc = tfa.metrics.MatthewsCorrelationCoefficient(num_classes=3)\n",
        "\n",
        "mcc.update_state(test_y.values.reshape(-1,1), np.argmax(pred_y, axis=1).reshape(-1,1))\n",
        "result = mcc.result()\n",
        "print(f\"Matthews Correlation Coefficient: {result.numpy()}\\n\\n\")\n",
        "\n",
        "f1_score_ = f1_score(\n",
        "    test_y, np.argmax(pred_y, axis=1), \n",
        "    average=None\n",
        "    )\n",
        "\n",
        "print(f\"F1 scores: {[{label:round(score,2)} for label, score in zip(labels, f1_score_)]}\\n\\n\")\n",
        "\n",
        "cm = confusion_matrix(\n",
        "      test_y.values.reshape(-1,1), \n",
        "      np.argmax(pred_y, axis=1).reshape(-1,1)\n",
        "      )\n",
        "disp = ConfusionMatrixDisplay(confusion_matrix=cm,\n",
        "                              display_labels=labels)\n",
        "disp.plot();"
      ],
      "metadata": {
        "id": "p0J_TSIynI4V",
        "colab": {
          "base_uri": "https://localhost:8080/",
          "height": 381
        },
        "outputId": "c5bfb053-4017-4831-8b17-97360d97cc3e"
      },
      "execution_count": 18,
      "outputs": [
        {
          "output_type": "stream",
          "name": "stdout",
          "text": [
            "Matthews Correlation Coefficient: 0.0\n",
            "\n",
            "\n",
            "F1 scores: [{'Moni': 0.04}, {'Joey': 0.12}, {'Chan': 0.2}, {'Phoe': 0.21}, {'Ross': 0.16}, {'Rach': 0.13}]\n",
            "\n",
            "\n"
          ]
        },
        {
          "output_type": "display_data",
          "data": {
            "text/plain": [
              "<Figure size 432x288 with 2 Axes>"
            ],
            "image/png": "[encoded data removed]"
          },
          "metadata": {
            "needs_background": "light"
          }
        }
      ]
    },
    {
      "cell_type": "markdown",
      "source": [
        "#### CNN Based"
      ],
      "metadata": {
        "id": "ZzPSxPi9WkFk"
      }
    },
    {
      "cell_type": "code",
      "source": [
        "def cnn_classifier_model_ft(\n",
        "    num_labels, \n",
        "    text_col,\n",
        "    embedding_layer\n",
        "    ):\n",
        "  \n",
        "  \"\"\"\n",
        "  Takes in \n",
        "    the number of output classes, \n",
        "    the text input layer,\n",
        "    the word embeddings FastText\n",
        "  Constructs the layers\n",
        "  Returns the keras model\n",
        "\n",
        "  \"\"\"\n",
        "    \n",
        "  \n",
        "  text_input = tf.keras.layers.Input(shape=(), dtype=tf.string, name=text_col)\n",
        "  net = vectorizer(text_input)\n",
        "  net = embedding_layer(net)\n",
        "  \n",
        "  net = tf.keras.layers.Conv1D(128, 3, activation=\"relu\", name='cnn1d')(net)\n",
        "  net = tf.keras.layers.GlobalAveragePooling1D()(net)\n",
        "  net = tf.keras.layers.Dense(256, activation=\"selu\", name='dense1')(net)\n",
        "  net = tf.keras.layers.Dropout(0.2, name='dropout1')(net)\n",
        "  \n",
        "  out = tf.keras.layers.Dense(num_labels, activation=\"softmax\", name='classifier')(net)\n",
        "  \n",
        "  return tf.keras.Model(text_input, out)\n",
        "\n",
        "\n",
        "cls_model = cnn_classifier_model_ft(\n",
        "    num_labels=6,\n",
        "    text_col='dialogue', \n",
        "    embedding_layer=embedding_layer\n",
        "    ) \n",
        "cls_model.summary()"
      ],
      "metadata": {
        "colab": {
          "base_uri": "https://localhost:8080/"
        },
        "id": "bVTh07boWl0p",
        "outputId": "4b7d188f-2cc9-4388-e441-a2fb6be569e6"
      },
      "execution_count": 42,
      "outputs": [
        {
          "output_type": "stream",
          "name": "stdout",
          "text": [
            "Model: \"model_5\"\n",
            "_________________________________________________________________\n",
            " Layer (type)                Output Shape              Param #   \n",
            "=================================================================\n",
            " dialogue (InputLayer)       [(None,)]                 0         \n",
            "                                                                 \n",
            " text_vectorization (TextVec  (None, 300)              0         \n",
            " torization)                                                     \n",
            "                                                                 \n",
            " embedding (Embedding)       (None, 300, 300)          4152000   \n",
            "                                                                 \n",
            " cnn1d (Conv1D)              (None, 298, 128)          115328    \n",
            "                                                                 \n",
            " global_average_pooling1d_1   (None, 128)              0         \n",
            " (GlobalAveragePooling1D)                                        \n",
            "                                                                 \n",
            " dense1 (Dense)              (None, 256)               33024     \n",
            "                                                                 \n",
            " dropout1 (Dropout)          (None, 256)               0         \n",
            "                                                                 \n",
            " classifier (Dense)          (None, 6)                 1542      \n",
            "                                                                 \n",
            "=================================================================\n",
            "Total params: 4,301,894\n",
            "Trainable params: 149,894\n",
            "Non-trainable params: 4,152,000\n",
            "_________________________________________________________________\n"
          ]
        }
      ]
    },
    {
      "cell_type": "code",
      "source": [
        "# Compile & fit the model to the training data; val data is passed here\n",
        "# The EarlyStopping callback is also passed. This stops the training when\n",
        "# the improvement is less than 5 & restores the best weights at the end\n",
        "\n",
        "cls_model.compile(optimizer=optimizer,\n",
        "                         loss=tf.keras.losses.SparseCategoricalCrossentropy(from_logits=False), \n",
        "                         metrics=[tf.keras.metrics.SparseCategoricalAccuracy()])\n",
        "# checkpoint_cb = tf.keras.callbacks.ModelCheckpoint(\"my_keras_model.h5\")\n",
        "early_stopping_cb = tf.keras.callbacks.EarlyStopping(min_delta=5,restore_best_weights=True)\n",
        "history = cls_model.fit(\n",
        "    train_x, train_y, \n",
        "    validation_data=(validation_x, validation_y),\n",
        "    epochs=5, batch_size=32\n",
        "    ,callbacks=[early_stopping_cb]\n",
        "    )\n",
        "\n",
        "cls_model.save('/content/drive/MyDrive/CS521/models/FRIENDS/cnn_based_model_ft')"
      ],
      "metadata": {
        "id": "g2cWYq1uXJbX"
      },
      "execution_count": null,
      "outputs": []
    },
    {
      "cell_type": "markdown",
      "source": [
        "##### Model evaluation"
      ],
      "metadata": {
        "id": "_6qmbv3iZmvO"
      }
    },
    {
      "cell_type": "code",
      "source": [
        "# Load the model when necessary\n",
        "# predict the classes for test data\n",
        "# calculate the Matthew's Corr Coeff & F1 scores of each class\n",
        "# MCC score of 0 indicates the predictions are no better than random guesses\n",
        "# plot the confusion matrix\n",
        "\n",
        "cls_model = tf.keras.models.load_model(\n",
        "    '/content/drive/MyDrive/CS521/models/FRIENDS/cnn_based_model_ft',\n",
        "    compile=False\n",
        "    )\n",
        "pred_y = cls_model.predict(test_x)\n",
        "\n",
        "mcc = tfa.metrics.MatthewsCorrelationCoefficient(num_classes=3)\n",
        "\n",
        "mcc.update_state(test_y.values.reshape(-1,1), np.argmax(pred_y, axis=1).reshape(-1,1))\n",
        "result = mcc.result()\n",
        "print(f\"Matthews Correlation Coefficient: {result.numpy()}\\n\\n\")\n",
        "\n",
        "f1_score_ = f1_score(\n",
        "    test_y, np.argmax(pred_y, axis=1), \n",
        "    average=None\n",
        "    )\n",
        "\n",
        "print(f\"F1 scores: {[{label:round(score,2)} for label, score in zip(labels, f1_score_)]}\\n\\n\")\n",
        "\n",
        "cm = confusion_matrix(\n",
        "      test_y.values.reshape(-1,1), \n",
        "      np.argmax(pred_y, axis=1).reshape(-1,1)\n",
        "      )\n",
        "disp = ConfusionMatrixDisplay(confusion_matrix=cm,\n",
        "                              display_labels=labels)\n",
        "disp.plot();"
      ],
      "metadata": {
        "colab": {
          "base_uri": "https://localhost:8080/",
          "height": 384
        },
        "id": "GKgeVviIXWiv",
        "outputId": "7c905791-87d7-4eb4-f82f-85bc6c7ae828"
      },
      "execution_count": 19,
      "outputs": [
        {
          "output_type": "stream",
          "name": "stdout",
          "text": [
            "Matthews Correlation Coefficient: 0.0\n",
            "\n",
            "\n",
            "F1 scores: [{'Moni': 0.1}, {'Joey': 0.06}, {'Chan': 0.25}, {'Phoe': 0.15}, {'Ross': 0.11}, {'Rach': 0.21}]\n",
            "\n",
            "\n"
          ]
        },
        {
          "output_type": "display_data",
          "data": {
            "text/plain": [
              "<Figure size 432x288 with 2 Axes>"
            ],
            "image/png": "[encoded data removed]"
          },
          "metadata": {
            "needs_background": "light"
          }
        }
      ]
    },
    {
      "cell_type": "markdown",
      "source": [
        "#### RNN Based"
      ],
      "metadata": {
        "id": "leB1GpFaXhlX"
      }
    },
    {
      "cell_type": "code",
      "source": [
        "def rnn_classifier_model_ft(\n",
        "    num_labels, \n",
        "    text_col,\n",
        "    embedding_layer\n",
        "    ):\n",
        "  \n",
        "  \"\"\"\n",
        "  Takes in \n",
        "    the number of output classes, \n",
        "    the text input layer,\n",
        "    the word embeddings FastText\n",
        "  Constructs the layers\n",
        "  Returns the keras model\n",
        "\n",
        "  \"\"\"\n",
        "    \n",
        "  \n",
        "  text_input = tf.keras.layers.Input(shape=(), dtype=tf.string, name=text_col)\n",
        "  net = vectorizer(text_input)\n",
        "  net = embedding_layer(net)\n",
        "  \n",
        "  net = tf.keras.layers.Bidirectional(tf.keras.layers.GRU(256))(net)\n",
        "  net = tf.keras.layers.Dense(256, activation=\"selu\", name='dense1')(net)\n",
        "  net = tf.keras.layers.Dropout(0.2, name='dropout1')(net)\n",
        "  \n",
        "  out = tf.keras.layers.Dense(num_labels, activation=\"softmax\", name='classifier')(net)\n",
        "  \n",
        "  return tf.keras.Model(text_input, out)\n",
        "\n",
        "\n",
        "cls_model = rnn_classifier_model_ft(\n",
        "    num_labels=6,\n",
        "    text_col='dialogue', \n",
        "    embedding_layer=embedding_layer\n",
        "    ) \n",
        "cls_model.summary()"
      ],
      "metadata": {
        "colab": {
          "base_uri": "https://localhost:8080/"
        },
        "id": "LHYMLa-bXj3n",
        "outputId": "7a3d401f-a4a6-4c70-da72-3e602dbb06c6"
      },
      "execution_count": 45,
      "outputs": [
        {
          "output_type": "stream",
          "name": "stdout",
          "text": [
            "Model: \"model_6\"\n",
            "_________________________________________________________________\n",
            " Layer (type)                Output Shape              Param #   \n",
            "=================================================================\n",
            " dialogue (InputLayer)       [(None,)]                 0         \n",
            "                                                                 \n",
            " text_vectorization (TextVec  (None, 300)              0         \n",
            " torization)                                                     \n",
            "                                                                 \n",
            " embedding (Embedding)       (None, 300, 300)          4152000   \n",
            "                                                                 \n",
            " bidirectional_1 (Bidirectio  (None, 512)              857088    \n",
            " nal)                                                            \n",
            "                                                                 \n",
            " dense1 (Dense)              (None, 256)               131328    \n",
            "                                                                 \n",
            " dropout1 (Dropout)          (None, 256)               0         \n",
            "                                                                 \n",
            " classifier (Dense)          (None, 6)                 1542      \n",
            "                                                                 \n",
            "=================================================================\n",
            "Total params: 5,141,958\n",
            "Trainable params: 989,958\n",
            "Non-trainable params: 4,152,000\n",
            "_________________________________________________________________\n"
          ]
        }
      ]
    },
    {
      "cell_type": "code",
      "source": [
        "# Compile & fit the model to the training data; val data is passed here\n",
        "# The EarlyStopping callback is also passed. This stops the training when\n",
        "# the improvement is less than 5 & restores the best weights at the end\n",
        "\n",
        "cls_model.compile(optimizer=optimizer,\n",
        "                         loss=tf.keras.losses.SparseCategoricalCrossentropy(from_logits=False), \n",
        "                         metrics=[tf.keras.metrics.SparseCategoricalAccuracy()])\n",
        "# checkpoint_cb = tf.keras.callbacks.ModelCheckpoint(\"my_keras_model.h5\")\n",
        "early_stopping_cb = tf.keras.callbacks.EarlyStopping(min_delta=5,restore_best_weights=True)\n",
        "history = cls_model.fit(\n",
        "    train_x, train_y, \n",
        "    validation_data=(validation_x, validation_y),\n",
        "    epochs=5, batch_size=32\n",
        "    ,callbacks=[early_stopping_cb]\n",
        "    )\n",
        "\n",
        "cls_model.save('/content/drive/MyDrive/CS521/models/FRIENDS/rnn_based_model_ft')"
      ],
      "metadata": {
        "id": "oVLafLKkXu1k"
      },
      "execution_count": null,
      "outputs": []
    },
    {
      "cell_type": "markdown",
      "source": [
        "##### Model evaluation"
      ],
      "metadata": {
        "id": "69B84rmpZkE4"
      }
    },
    {
      "cell_type": "code",
      "source": [
        "# Load the model when necessary\n",
        "# predict the classes for test data\n",
        "# calculate the Matthew's Corr Coeff & F1 scores of each class\n",
        "# MCC score of 0 indicates the predictions are no better than random guesses\n",
        "# plot the confusion matrix\n",
        "\n",
        "cls_model = tf.keras.models.load_model(\n",
        "    '/content/drive/MyDrive/CS521/models/FRIENDS/rnn_based_model_ft',\n",
        "    compile=False\n",
        "    )\n",
        "pred_y = cls_model.predict(test_x)\n",
        "\n",
        "mcc = tfa.metrics.MatthewsCorrelationCoefficient(num_classes=3)\n",
        "\n",
        "mcc.update_state(test_y.values.reshape(-1,1), np.argmax(pred_y, axis=1).reshape(-1,1))\n",
        "result = mcc.result()\n",
        "print(f\"Matthews Correlation Coefficient: {result.numpy()}\\n\\n\")\n",
        "\n",
        "f1_score_ = f1_score(\n",
        "    test_y, np.argmax(pred_y, axis=1), \n",
        "    average=None\n",
        "    )\n",
        "\n",
        "print(f\"F1 scores: {[{label:round(score,2)} for label, score in zip(labels, f1_score_)]}\\n\\n\")\n",
        "\n",
        "cm = confusion_matrix(\n",
        "      test_y.values.reshape(-1,1), \n",
        "      np.argmax(pred_y, axis=1).reshape(-1,1)\n",
        "      )\n",
        "disp = ConfusionMatrixDisplay(confusion_matrix=cm,\n",
        "                              display_labels=labels)\n",
        "disp.plot();"
      ],
      "metadata": {
        "colab": {
          "base_uri": "https://localhost:8080/",
          "height": 381
        },
        "id": "WNtlhmnSX3G_",
        "outputId": "52878465-8acb-4a43-d06a-d0a31b27d70e"
      },
      "execution_count": 20,
      "outputs": [
        {
          "output_type": "stream",
          "name": "stdout",
          "text": [
            "Matthews Correlation Coefficient: 0.0\n",
            "\n",
            "\n",
            "F1 scores: [{'Moni': 0.07}, {'Joey': 0.01}, {'Chan': 0.24}, {'Phoe': 0.13}, {'Ross': 0.25}, {'Rach': 0.0}]\n",
            "\n",
            "\n"
          ]
        },
        {
          "output_type": "display_data",
          "data": {
            "text/plain": [
              "<Figure size 432x288 with 2 Axes>"
            ],
            "image/png": "[encoded data removed]"
          },
          "metadata": {
            "needs_background": "light"
          }
        }
      ]
    },
    {
      "cell_type": "markdown",
      "source": [
        "# Predictions"
      ],
      "metadata": {
        "id": "8tMaTxnOAqMz"
      }
    },
    {
      "cell_type": "code",
      "source": [
        "def get_predictions_df(test_x, test_y, pred_y):\n",
        "  return pd.DataFrame(\n",
        "          np.concatenate(\n",
        "              (test_x.values.reshape(-1,1), test_y.values.reshape(-1,1), pred_y),\n",
        "              axis=1\n",
        "              ),\n",
        "          columns=['dialogue','true_label'] + [i for i in range(pred_y.shape[1])]\n",
        "          )"
      ],
      "metadata": {
        "id": "7S53i3LI1aro"
      },
      "execution_count": 11,
      "outputs": []
    },
    {
      "cell_type": "code",
      "source": [
        "models = [d for d in listdir('/content/drive/MyDrive/CS521/models/FRIENDS/')]\n",
        "for model_name in models:\n",
        "  cls_model = tf.keras.models.load_model(\n",
        "      '/content/drive/MyDrive/CS521/models/FRIENDS/'+model_name,\n",
        "      compile=False\n",
        "      )\n",
        "  pred_y = cls_model.predict(test_x)\n",
        "  get_predictions_df(test_x, test_y, pred_y).to_csv(f'/content/drive/MyDrive/CS521/predictions/FRIENDS/{model_name}.csv', index=0)"
      ],
      "metadata": {
        "id": "ZR-bFpqw9Abx"
      },
      "execution_count": 21,
      "outputs": []
    },
    {
      "cell_type": "code",
      "source": [
        "mypath = '/content/drive/MyDrive/CS521/predictions/FRIENDS/'\n",
        "prediction_files = [f for f in listdir(mypath) if isfile(join(mypath,f))]\n",
        "output = []\n",
        "\n",
        "for f in prediction_files:\n",
        "  pred_df = pd.read_csv(f'{mypath}{f}')\n",
        "  mean_pred_prob = pred_df.iloc[:,2:].apply(np.mean, axis=0).values.tolist()\n",
        "  std_pred_prob = pred_df.iloc[:,2:].apply(np.std, axis=0).values.tolist()\n",
        "  model_name = [f.split('.')[0]]\n",
        "\n",
        "  output.append(model_name + [(round(m,3),round(s,3)) for m,s in zip(mean_pred_prob, std_pred_prob)])\n",
        "\n",
        "model_pred_stat_df = pd.DataFrame(\n",
        "    data=output,\n",
        "    columns=['model']+labels\n",
        ")\n",
        "\n",
        "model_pred_stat_df.to_csv(f'{mypath}model_prediction_statistics.csv', index=0)"
      ],
      "metadata": {
        "id": "UuttcDRh_Y3Y"
      },
      "execution_count": 22,
      "outputs": []
    }
  ]
}