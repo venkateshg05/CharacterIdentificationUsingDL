{
  "cells": [
    {
      "cell_type": "code",
      "execution_count": null,
      "id": "7c65bb68",
      "metadata": {
        "id": "7c65bb68"
      },
      "outputs": [],
      "source": [
        "import pandas as pd\n",
        "import numpy as np"
      ]
    },
    {
      "cell_type": "code",
      "execution_count": null,
      "id": "19e00d0e",
      "metadata": {
        "id": "19e00d0e"
      },
      "outputs": [],
      "source": [
        "in_df = pd.read_csv('Dataset/All-seasons.csv')"
      ]
    },
    {
      "cell_type": "code",
      "execution_count": null,
      "id": "ec96d3d6",
      "metadata": {
        "id": "ec96d3d6"
      },
      "outputs": [],
      "source": [
        "in_df.columns = ['season', 'episode', 'character', 'dialogue']"
      ]
    },
    {
      "cell_type": "code",
      "execution_count": null,
      "id": "9ddd75b7",
      "metadata": {
        "id": "9ddd75b7"
      },
      "outputs": [],
      "source": [
        "in_df = in_df[in_df.character.isin(['Stan','Kyle','Cartman'])]"
      ]
    },
    {
      "cell_type": "code",
      "execution_count": null,
      "id": "65de0790",
      "metadata": {
        "id": "65de0790"
      },
      "outputs": [],
      "source": [
        "in_df = in_df.drop_duplicates(subset=['character','dialogue'], ignore_index=True)"
      ]
    },
    {
      "cell_type": "code",
      "execution_count": null,
      "id": "acf4f2aa",
      "metadata": {
        "id": "acf4f2aa"
      },
      "outputs": [],
      "source": [
        "in_df.dialogue = in_df.dialogue.str.strip()"
      ]
    },
    {
      "cell_type": "code",
      "execution_count": null,
      "id": "ab0281be",
      "metadata": {
        "id": "ab0281be"
      },
      "outputs": [],
      "source": [
        "in_df['label'] = np.select(\n",
        "    condlist=[\n",
        "        in_df.character == 'Stan',\n",
        "        in_df.character == 'Kyle',\n",
        "        in_df.character == 'Cartman',\n",
        "        in_df.character == 'Kenny'\n",
        "    ],\n",
        "    choicelist=[\n",
        "        0,1,2,3\n",
        "    ]\n",
        ")"
      ]
    },
    {
      "cell_type": "code",
      "execution_count": null,
      "id": "72514d9c",
      "metadata": {
        "scrolled": true,
        "id": "72514d9c",
        "outputId": "4ed39649-abef-465d-f405-42a5e3fd512c"
      },
      "outputs": [
        {
          "data": {
            "text/html": [
              "<div>\n",
              "<style scoped>\n",
              "    .dataframe tbody tr th:only-of-type {\n",
              "        vertical-align: middle;\n",
              "    }\n",
              "\n",
              "    .dataframe tbody tr th {\n",
              "        vertical-align: top;\n",
              "    }\n",
              "\n",
              "    .dataframe thead th {\n",
              "        text-align: right;\n",
              "    }\n",
              "</style>\n",
              "<table border=\"1\" class=\"dataframe\">\n",
              "  <thead>\n",
              "    <tr style=\"text-align: right;\">\n",
              "      <th></th>\n",
              "      <th>season</th>\n",
              "      <th>episode</th>\n",
              "      <th>character</th>\n",
              "      <th>dialogue</th>\n",
              "      <th>label</th>\n",
              "    </tr>\n",
              "  </thead>\n",
              "  <tbody>\n",
              "    <tr>\n",
              "      <th>0</th>\n",
              "      <td>10</td>\n",
              "      <td>1</td>\n",
              "      <td>Stan</td>\n",
              "      <td>You guys, you guys! Chef is going away.</td>\n",
              "      <td>0</td>\n",
              "    </tr>\n",
              "    <tr>\n",
              "      <th>1</th>\n",
              "      <td>10</td>\n",
              "      <td>1</td>\n",
              "      <td>Kyle</td>\n",
              "      <td>Going away? For how long?</td>\n",
              "      <td>1</td>\n",
              "    </tr>\n",
              "    <tr>\n",
              "      <th>2</th>\n",
              "      <td>10</td>\n",
              "      <td>1</td>\n",
              "      <td>Stan</td>\n",
              "      <td>Forever.</td>\n",
              "      <td>0</td>\n",
              "    </tr>\n",
              "    <tr>\n",
              "      <th>3</th>\n",
              "      <td>10</td>\n",
              "      <td>1</td>\n",
              "      <td>Stan</td>\n",
              "      <td>Chef said he's been bored, so he joining a gro...</td>\n",
              "      <td>0</td>\n",
              "    </tr>\n",
              "    <tr>\n",
              "      <th>4</th>\n",
              "      <td>10</td>\n",
              "      <td>1</td>\n",
              "      <td>Cartman</td>\n",
              "      <td>I'm gonna miss him.  I'm gonna miss Chef and I...</td>\n",
              "      <td>2</td>\n",
              "    </tr>\n",
              "    <tr>\n",
              "      <th>...</th>\n",
              "      <td>...</td>\n",
              "      <td>...</td>\n",
              "      <td>...</td>\n",
              "      <td>...</td>\n",
              "      <td>...</td>\n",
              "    </tr>\n",
              "    <tr>\n",
              "      <th>22823</th>\n",
              "      <td>9</td>\n",
              "      <td>14</td>\n",
              "      <td>Stan</td>\n",
              "      <td>I've had a great teacher.</td>\n",
              "      <td>0</td>\n",
              "    </tr>\n",
              "    <tr>\n",
              "      <th>22824</th>\n",
              "      <td>9</td>\n",
              "      <td>14</td>\n",
              "      <td>Stan</td>\n",
              "      <td>No not you, my karate teacher. He's really smart.</td>\n",
              "      <td>0</td>\n",
              "    </tr>\n",
              "    <tr>\n",
              "      <th>22825</th>\n",
              "      <td>9</td>\n",
              "      <td>14</td>\n",
              "      <td>Stan</td>\n",
              "      <td>That's probably okay if you spread it out.</td>\n",
              "      <td>0</td>\n",
              "    </tr>\n",
              "    <tr>\n",
              "      <th>22826</th>\n",
              "      <td>9</td>\n",
              "      <td>14</td>\n",
              "      <td>Stan</td>\n",
              "      <td>I think you're pushing it.</td>\n",
              "      <td>0</td>\n",
              "    </tr>\n",
              "    <tr>\n",
              "      <th>22827</th>\n",
              "      <td>9</td>\n",
              "      <td>14</td>\n",
              "      <td>Stan</td>\n",
              "      <td>That's not disciprine.</td>\n",
              "      <td>0</td>\n",
              "    </tr>\n",
              "  </tbody>\n",
              "</table>\n",
              "<p>22828 rows × 5 columns</p>\n",
              "</div>"
            ],
            "text/plain": [
              "      season episode character  \\\n",
              "0         10       1      Stan   \n",
              "1         10       1      Kyle   \n",
              "2         10       1      Stan   \n",
              "3         10       1      Stan   \n",
              "4         10       1   Cartman   \n",
              "...      ...     ...       ...   \n",
              "22823      9      14      Stan   \n",
              "22824      9      14      Stan   \n",
              "22825      9      14      Stan   \n",
              "22826      9      14      Stan   \n",
              "22827      9      14      Stan   \n",
              "\n",
              "                                                dialogue  label  \n",
              "0                You guys, you guys! Chef is going away.      0  \n",
              "1                              Going away? For how long?      1  \n",
              "2                                               Forever.      0  \n",
              "3      Chef said he's been bored, so he joining a gro...      0  \n",
              "4      I'm gonna miss him.  I'm gonna miss Chef and I...      2  \n",
              "...                                                  ...    ...  \n",
              "22823                          I've had a great teacher.      0  \n",
              "22824  No not you, my karate teacher. He's really smart.      0  \n",
              "22825         That's probably okay if you spread it out.      0  \n",
              "22826                         I think you're pushing it.      0  \n",
              "22827                             That's not disciprine.      0  \n",
              "\n",
              "[22828 rows x 5 columns]"
            ]
          },
          "execution_count": 34,
          "metadata": {},
          "output_type": "execute_result"
        }
      ],
      "source": [
        "in_df"
      ]
    },
    {
      "cell_type": "code",
      "execution_count": null,
      "id": "bc24013a",
      "metadata": {
        "id": "bc24013a"
      },
      "outputs": [],
      "source": [
        "in_df[['dialogue', 'label']].to_csv('Dataset/south_park_raw_ds_t3.csv', index=False)"
      ]
    }
  ],
  "metadata": {
    "kernelspec": {
      "display_name": "Python 3",
      "language": "python",
      "name": "python3"
    },
    "language_info": {
      "codemirror_mode": {
        "name": "ipython",
        "version": 3
      },
      "file_extension": ".py",
      "mimetype": "text/x-python",
      "name": "python",
      "nbconvert_exporter": "python",
      "pygments_lexer": "ipython3",
      "version": "3.8.8"
    },
    "colab": {
      "name": "SouthParkDatasetPrep.ipynb",
      "provenance": []
    }
  },
  "nbformat": 4,
  "nbformat_minor": 5
}