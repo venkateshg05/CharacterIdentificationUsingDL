{
  "nbformat": 4,
  "nbformat_minor": 0,
  "metadata": {
    "colab": {
      "name": "FriendsDatasetPrep.ipynb",
      "provenance": []
    },
    "kernelspec": {
      "name": "python3",
      "display_name": "Python 3"
    },
    "language_info": {
      "name": "python"
    }
  },
  "cells": [
    {
      "cell_type": "code",
      "execution_count": 23,
      "metadata": {
        "id": "KnvcHNPWOdGU"
      },
      "outputs": [],
      "source": [
        "import pandas as pd\n",
        "import numpy as np"
      ]
    },
    {
      "cell_type": "code",
      "source": [
        "raw_ds = pd.read_json(\n",
        "    '/content/drive/MyDrive/CS521/dataset/utterances.jsonl', \n",
        "    lines=True\n",
        ")"
      ],
      "metadata": {
        "id": "SL5jQj7dOja1"
      },
      "execution_count": 24,
      "outputs": []
    },
    {
      "cell_type": "code",
      "source": [
        "raw_ds.columns"
      ],
      "metadata": {
        "colab": {
          "base_uri": "https://localhost:8080/"
        },
        "id": "D2F3dTobOuNr",
        "outputId": "225dfc08-e7c0-48fa-9185-f14217b14ceb"
      },
      "execution_count": null,
      "outputs": [
        {
          "output_type": "execute_result",
          "data": {
            "text/plain": [
              "Index(['id', 'conversation_id', 'text', 'speaker', 'meta', 'reply-to',\n",
              "       'timestamp'],\n",
              "      dtype='object')"
            ]
          },
          "metadata": {},
          "execution_count": 4
        }
      ]
    },
    {
      "cell_type": "code",
      "source": [
        "main_chars = ['Monica Geller', 'Joey Tribbiani', 'Chandler Bing', 'Phoebe Buffay', 'Ross Geller', 'Rachel Green']"
      ],
      "metadata": {
        "id": "HvSjvxIWPOnn"
      },
      "execution_count": 25,
      "outputs": []
    },
    {
      "cell_type": "code",
      "source": [
        "raw_ds = raw_ds.loc[raw_ds.speaker.isin(main_chars), ['text', 'speaker']]"
      ],
      "metadata": {
        "id": "PEE8dH0pO0Ky"
      },
      "execution_count": null,
      "outputs": []
    },
    {
      "cell_type": "code",
      "source": [
        "raw_ds.shape"
      ],
      "metadata": {
        "colab": {
          "base_uri": "https://localhost:8080/"
        },
        "id": "nZm4k0TuPqFV",
        "outputId": "d76ec5fb-370c-4373-fd5c-fbe170ce057e"
      },
      "execution_count": null,
      "outputs": [
        {
          "output_type": "execute_result",
          "data": {
            "text/plain": [
              "(51312, 2)"
            ]
          },
          "metadata": {},
          "execution_count": 9
        }
      ]
    },
    {
      "cell_type": "code",
      "source": [
        "raw_ds.speaker = np.select(\n",
        "    [\n",
        "     raw_ds.speaker == 'Monica Geller',\n",
        "     raw_ds.speaker == 'Joey Tribbiani',\n",
        "     raw_ds.speaker == 'Chandler Bing', \n",
        "     raw_ds.speaker == 'Phoebe Buffay', \n",
        "     raw_ds.speaker == 'Ross Geller', \n",
        "     raw_ds.speaker == 'Rachel Green'\n",
        "     ],\n",
        "     [0,1,2,3,4,5]\n",
        ")"
      ],
      "metadata": {
        "id": "jGYKb1WbP87d"
      },
      "execution_count": null,
      "outputs": []
    },
    {
      "cell_type": "code",
      "source": [
        "raw_ds = raw_ds.rename({'text':'dialogue', 'speaker':'label'}, axis=1)"
      ],
      "metadata": {
        "id": "eOEbLdpVRKWY"
      },
      "execution_count": 29,
      "outputs": []
    },
    {
      "cell_type": "code",
      "source": [
        "raw_ds = raw_ds.loc[~raw_ds.dialogue.isnull(), ['dialogue','label']]"
      ],
      "metadata": {
        "id": "VptspM7rTBNq"
      },
      "execution_count": 30,
      "outputs": []
    }
  ]
}