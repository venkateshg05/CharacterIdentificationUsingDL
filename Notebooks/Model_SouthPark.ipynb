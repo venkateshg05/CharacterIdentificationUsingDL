{
  "nbformat": 4,
  "nbformat_minor": 0,
  "metadata": {
    "colab": {
      "name": "Model_SouthPark.ipynb",
      "provenance": [],
      "collapsed_sections": [
        "M5b_gsHo_Uuk",
        "g95lEw0ZhfkN",
        "Nw0WN1k1Ogp_",
        "FJ6IpWFj58y2",
        "FOo-izd77DFL",
        "NoKh9bH1Lzx6",
        "e1R_PMD-MKtG",
        "TRK1CLHtgmeb",
        "t1vlOOfihAL6",
        "LM5-nqYxlxXG",
        "ZzPSxPi9WkFk",
        "69B84rmpZkE4",
        "YlmKEg1mBsZN"
      ],
      "machine_shape": "hm"
    },
    "kernelspec": {
      "name": "python3",
      "display_name": "Python 3"
    },
    "language_info": {
      "name": "python"
    },
    "accelerator": "TPU"
  },
  "cells": [
    {
      "cell_type": "markdown",
      "source": [
        "# Install libraries *(optional)*"
      ],
      "metadata": {
        "id": "M5b_gsHo_Uuk"
      }
    },
    {
      "cell_type": "code",
      "source": [
        "pip install \"tensorflow-text==2.8.*\""
      ],
      "metadata": {
        "id": "-Z4WCeat3-co",
        "colab": {
          "base_uri": "https://localhost:8080/"
        },
        "outputId": "da4d9413-8d4f-4ad1-9473-70ecfeae02b9"
      },
      "execution_count": 1,
      "outputs": [
        {
          "output_type": "stream",
          "name": "stdout",
          "text": [
            "Collecting tensorflow-text==2.8.*\n",
            "  Downloading tensorflow_text-2.8.2-cp37-cp37m-manylinux_2_12_x86_64.manylinux2010_x86_64.whl (4.9 MB)\n",
            "\u001b[K     |████████████████████████████████| 4.9 MB 5.3 MB/s \n",
            "\u001b[?25hRequirement already satisfied: tensorflow<2.9,>=2.8.0 in /usr/local/lib/python3.7/dist-packages (from tensorflow-text==2.8.*) (2.8.0)\n",
            "Requirement already satisfied: tensorflow-hub>=0.8.0 in /usr/local/lib/python3.7/dist-packages (from tensorflow-text==2.8.*) (0.12.0)\n",
            "Requirement already satisfied: keras<2.9,>=2.8.0rc0 in /usr/local/lib/python3.7/dist-packages (from tensorflow<2.9,>=2.8.0->tensorflow-text==2.8.*) (2.8.0)\n",
            "Requirement already satisfied: google-pasta>=0.1.1 in /usr/local/lib/python3.7/dist-packages (from tensorflow<2.9,>=2.8.0->tensorflow-text==2.8.*) (0.2.0)\n",
            "Requirement already satisfied: tensorboard<2.9,>=2.8 in /usr/local/lib/python3.7/dist-packages (from tensorflow<2.9,>=2.8.0->tensorflow-text==2.8.*) (2.8.0)\n",
            "Requirement already satisfied: typing-extensions>=3.6.6 in /usr/local/lib/python3.7/dist-packages (from tensorflow<2.9,>=2.8.0->tensorflow-text==2.8.*) (4.1.1)\n",
            "Requirement already satisfied: h5py>=2.9.0 in /usr/local/lib/python3.7/dist-packages (from tensorflow<2.9,>=2.8.0->tensorflow-text==2.8.*) (3.1.0)\n",
            "Requirement already satisfied: libclang>=9.0.1 in /usr/local/lib/python3.7/dist-packages (from tensorflow<2.9,>=2.8.0->tensorflow-text==2.8.*) (13.0.0)\n",
            "Requirement already satisfied: tensorflow-io-gcs-filesystem>=0.23.1 in /usr/local/lib/python3.7/dist-packages (from tensorflow<2.9,>=2.8.0->tensorflow-text==2.8.*) (0.24.0)\n",
            "Requirement already satisfied: flatbuffers>=1.12 in /usr/local/lib/python3.7/dist-packages (from tensorflow<2.9,>=2.8.0->tensorflow-text==2.8.*) (2.0)\n",
            "Requirement already satisfied: six>=1.12.0 in /usr/local/lib/python3.7/dist-packages (from tensorflow<2.9,>=2.8.0->tensorflow-text==2.8.*) (1.15.0)\n",
            "Requirement already satisfied: opt-einsum>=2.3.2 in /usr/local/lib/python3.7/dist-packages (from tensorflow<2.9,>=2.8.0->tensorflow-text==2.8.*) (3.3.0)\n",
            "Requirement already satisfied: keras-preprocessing>=1.1.1 in /usr/local/lib/python3.7/dist-packages (from tensorflow<2.9,>=2.8.0->tensorflow-text==2.8.*) (1.1.2)\n",
            "Requirement already satisfied: wrapt>=1.11.0 in /usr/local/lib/python3.7/dist-packages (from tensorflow<2.9,>=2.8.0->tensorflow-text==2.8.*) (1.14.0)\n",
            "Requirement already satisfied: setuptools in /usr/local/lib/python3.7/dist-packages (from tensorflow<2.9,>=2.8.0->tensorflow-text==2.8.*) (57.4.0)\n",
            "Requirement already satisfied: grpcio<2.0,>=1.24.3 in /usr/local/lib/python3.7/dist-packages (from tensorflow<2.9,>=2.8.0->tensorflow-text==2.8.*) (1.44.0)\n",
            "Requirement already satisfied: termcolor>=1.1.0 in /usr/local/lib/python3.7/dist-packages (from tensorflow<2.9,>=2.8.0->tensorflow-text==2.8.*) (1.1.0)\n",
            "Requirement already satisfied: astunparse>=1.6.0 in /usr/local/lib/python3.7/dist-packages (from tensorflow<2.9,>=2.8.0->tensorflow-text==2.8.*) (1.6.3)\n",
            "Requirement already satisfied: protobuf>=3.9.2 in /usr/local/lib/python3.7/dist-packages (from tensorflow<2.9,>=2.8.0->tensorflow-text==2.8.*) (3.17.3)\n",
            "Requirement already satisfied: absl-py>=0.4.0 in /usr/local/lib/python3.7/dist-packages (from tensorflow<2.9,>=2.8.0->tensorflow-text==2.8.*) (1.0.0)\n",
            "Requirement already satisfied: numpy>=1.20 in /usr/local/lib/python3.7/dist-packages (from tensorflow<2.9,>=2.8.0->tensorflow-text==2.8.*) (1.21.6)\n",
            "Collecting tf-estimator-nightly==2.8.0.dev2021122109\n",
            "  Downloading tf_estimator_nightly-2.8.0.dev2021122109-py2.py3-none-any.whl (462 kB)\n",
            "\u001b[K     |████████████████████████████████| 462 kB 80.9 MB/s \n",
            "\u001b[?25hRequirement already satisfied: gast>=0.2.1 in /usr/local/lib/python3.7/dist-packages (from tensorflow<2.9,>=2.8.0->tensorflow-text==2.8.*) (0.5.3)\n",
            "Requirement already satisfied: wheel<1.0,>=0.23.0 in /usr/local/lib/python3.7/dist-packages (from astunparse>=1.6.0->tensorflow<2.9,>=2.8.0->tensorflow-text==2.8.*) (0.37.1)\n",
            "Requirement already satisfied: cached-property in /usr/local/lib/python3.7/dist-packages (from h5py>=2.9.0->tensorflow<2.9,>=2.8.0->tensorflow-text==2.8.*) (1.5.2)\n",
            "Requirement already satisfied: werkzeug>=0.11.15 in /usr/local/lib/python3.7/dist-packages (from tensorboard<2.9,>=2.8->tensorflow<2.9,>=2.8.0->tensorflow-text==2.8.*) (1.0.1)\n",
            "Requirement already satisfied: markdown>=2.6.8 in /usr/local/lib/python3.7/dist-packages (from tensorboard<2.9,>=2.8->tensorflow<2.9,>=2.8.0->tensorflow-text==2.8.*) (3.3.6)\n",
            "Requirement already satisfied: requests<3,>=2.21.0 in /usr/local/lib/python3.7/dist-packages (from tensorboard<2.9,>=2.8->tensorflow<2.9,>=2.8.0->tensorflow-text==2.8.*) (2.23.0)\n",
            "Requirement already satisfied: tensorboard-plugin-wit>=1.6.0 in /usr/local/lib/python3.7/dist-packages (from tensorboard<2.9,>=2.8->tensorflow<2.9,>=2.8.0->tensorflow-text==2.8.*) (1.8.1)\n",
            "Requirement already satisfied: tensorboard-data-server<0.7.0,>=0.6.0 in /usr/local/lib/python3.7/dist-packages (from tensorboard<2.9,>=2.8->tensorflow<2.9,>=2.8.0->tensorflow-text==2.8.*) (0.6.1)\n",
            "Requirement already satisfied: google-auth<3,>=1.6.3 in /usr/local/lib/python3.7/dist-packages (from tensorboard<2.9,>=2.8->tensorflow<2.9,>=2.8.0->tensorflow-text==2.8.*) (1.35.0)\n",
            "Requirement already satisfied: google-auth-oauthlib<0.5,>=0.4.1 in /usr/local/lib/python3.7/dist-packages (from tensorboard<2.9,>=2.8->tensorflow<2.9,>=2.8.0->tensorflow-text==2.8.*) (0.4.6)\n",
            "Requirement already satisfied: pyasn1-modules>=0.2.1 in /usr/local/lib/python3.7/dist-packages (from google-auth<3,>=1.6.3->tensorboard<2.9,>=2.8->tensorflow<2.9,>=2.8.0->tensorflow-text==2.8.*) (0.2.8)\n",
            "Requirement already satisfied: rsa<5,>=3.1.4 in /usr/local/lib/python3.7/dist-packages (from google-auth<3,>=1.6.3->tensorboard<2.9,>=2.8->tensorflow<2.9,>=2.8.0->tensorflow-text==2.8.*) (4.8)\n",
            "Requirement already satisfied: cachetools<5.0,>=2.0.0 in /usr/local/lib/python3.7/dist-packages (from google-auth<3,>=1.6.3->tensorboard<2.9,>=2.8->tensorflow<2.9,>=2.8.0->tensorflow-text==2.8.*) (4.2.4)\n",
            "Requirement already satisfied: requests-oauthlib>=0.7.0 in /usr/local/lib/python3.7/dist-packages (from google-auth-oauthlib<0.5,>=0.4.1->tensorboard<2.9,>=2.8->tensorflow<2.9,>=2.8.0->tensorflow-text==2.8.*) (1.3.1)\n",
            "Requirement already satisfied: importlib-metadata>=4.4 in /usr/local/lib/python3.7/dist-packages (from markdown>=2.6.8->tensorboard<2.9,>=2.8->tensorflow<2.9,>=2.8.0->tensorflow-text==2.8.*) (4.11.3)\n",
            "Requirement already satisfied: zipp>=0.5 in /usr/local/lib/python3.7/dist-packages (from importlib-metadata>=4.4->markdown>=2.6.8->tensorboard<2.9,>=2.8->tensorflow<2.9,>=2.8.0->tensorflow-text==2.8.*) (3.8.0)\n",
            "Requirement already satisfied: pyasn1<0.5.0,>=0.4.6 in /usr/local/lib/python3.7/dist-packages (from pyasn1-modules>=0.2.1->google-auth<3,>=1.6.3->tensorboard<2.9,>=2.8->tensorflow<2.9,>=2.8.0->tensorflow-text==2.8.*) (0.4.8)\n",
            "Requirement already satisfied: chardet<4,>=3.0.2 in /usr/local/lib/python3.7/dist-packages (from requests<3,>=2.21.0->tensorboard<2.9,>=2.8->tensorflow<2.9,>=2.8.0->tensorflow-text==2.8.*) (3.0.4)\n",
            "Requirement already satisfied: idna<3,>=2.5 in /usr/local/lib/python3.7/dist-packages (from requests<3,>=2.21.0->tensorboard<2.9,>=2.8->tensorflow<2.9,>=2.8.0->tensorflow-text==2.8.*) (2.10)\n",
            "Requirement already satisfied: urllib3!=1.25.0,!=1.25.1,<1.26,>=1.21.1 in /usr/local/lib/python3.7/dist-packages (from requests<3,>=2.21.0->tensorboard<2.9,>=2.8->tensorflow<2.9,>=2.8.0->tensorflow-text==2.8.*) (1.24.3)\n",
            "Requirement already satisfied: certifi>=2017.4.17 in /usr/local/lib/python3.7/dist-packages (from requests<3,>=2.21.0->tensorboard<2.9,>=2.8->tensorflow<2.9,>=2.8.0->tensorflow-text==2.8.*) (2021.10.8)\n",
            "Requirement already satisfied: oauthlib>=3.0.0 in /usr/local/lib/python3.7/dist-packages (from requests-oauthlib>=0.7.0->google-auth-oauthlib<0.5,>=0.4.1->tensorboard<2.9,>=2.8->tensorflow<2.9,>=2.8.0->tensorflow-text==2.8.*) (3.2.0)\n",
            "Installing collected packages: tf-estimator-nightly, tensorflow-text\n",
            "Successfully installed tensorflow-text-2.8.2 tf-estimator-nightly-2.8.0.dev2021122109\n"
          ]
        }
      ]
    },
    {
      "cell_type": "code",
      "source": [
        "pip install -q tf-models-official==2.7.0"
      ],
      "metadata": {
        "id": "XxLe3XhPN0vV",
        "colab": {
          "base_uri": "https://localhost:8080/"
        },
        "outputId": "729c26ac-9174-463f-d1c1-c16f05fdb810"
      },
      "execution_count": 2,
      "outputs": [
        {
          "output_type": "stream",
          "name": "stdout",
          "text": [
            "\u001b[K     |████████████████████████████████| 1.8 MB 5.2 MB/s \n",
            "\u001b[K     |████████████████████████████████| 90 kB 10.3 MB/s \n",
            "\u001b[K     |████████████████████████████████| 1.1 MB 67.8 MB/s \n",
            "\u001b[K     |████████████████████████████████| 352 kB 69.4 MB/s \n",
            "\u001b[K     |████████████████████████████████| 237 kB 80.4 MB/s \n",
            "\u001b[K     |████████████████████████████████| 1.2 MB 35.9 MB/s \n",
            "\u001b[K     |████████████████████████████████| 47.8 MB 1.1 MB/s \n",
            "\u001b[K     |████████████████████████████████| 43 kB 2.1 MB/s \n",
            "\u001b[K     |████████████████████████████████| 99 kB 9.4 MB/s \n",
            "\u001b[K     |████████████████████████████████| 596 kB 64.0 MB/s \n",
            "\u001b[?25h  Building wheel for py-cpuinfo (setup.py) ... \u001b[?25l\u001b[?25hdone\n",
            "  Building wheel for seqeval (setup.py) ... \u001b[?25l\u001b[?25hdone\n"
          ]
        }
      ]
    },
    {
      "cell_type": "code",
      "source": [
        "pip install fasttext"
      ],
      "metadata": {
        "colab": {
          "base_uri": "https://localhost:8080/"
        },
        "id": "knl5GaUDUeIc",
        "outputId": "96a481fb-f69d-4c94-a1f1-3931213c0cfa"
      },
      "execution_count": 3,
      "outputs": [
        {
          "output_type": "stream",
          "name": "stdout",
          "text": [
            "Collecting fasttext\n",
            "  Downloading fasttext-0.9.2.tar.gz (68 kB)\n",
            "\u001b[?25l\r\u001b[K     |████▊                           | 10 kB 27.9 MB/s eta 0:00:01\r\u001b[K     |█████████▌                      | 20 kB 12.0 MB/s eta 0:00:01\r\u001b[K     |██████████████▎                 | 30 kB 9.1 MB/s eta 0:00:01\r\u001b[K     |███████████████████             | 40 kB 4.6 MB/s eta 0:00:01\r\u001b[K     |███████████████████████▉        | 51 kB 4.6 MB/s eta 0:00:01\r\u001b[K     |████████████████████████████▋   | 61 kB 5.5 MB/s eta 0:00:01\r\u001b[K     |████████████████████████████████| 68 kB 3.3 MB/s \n",
            "\u001b[?25hCollecting pybind11>=2.2\n",
            "  Using cached pybind11-2.9.2-py2.py3-none-any.whl (213 kB)\n",
            "Requirement already satisfied: setuptools>=0.7.0 in /usr/local/lib/python3.7/dist-packages (from fasttext) (57.4.0)\n",
            "Requirement already satisfied: numpy in /usr/local/lib/python3.7/dist-packages (from fasttext) (1.21.6)\n",
            "Building wheels for collected packages: fasttext\n",
            "  Building wheel for fasttext (setup.py) ... \u001b[?25l\u001b[?25hdone\n",
            "  Created wheel for fasttext: filename=fasttext-0.9.2-cp37-cp37m-linux_x86_64.whl size=3148264 sha256=ee54051cc1e1f3d5c6166c3f0538c044778f15545d53f1975911b5d783435b8c\n",
            "  Stored in directory: /root/.cache/pip/wheels/4e/ca/bf/b020d2be95f7641801a6597a29c8f4f19e38f9c02a345bab9b\n",
            "Successfully built fasttext\n",
            "Installing collected packages: pybind11, fasttext\n",
            "Successfully installed fasttext-0.9.2 pybind11-2.9.2\n"
          ]
        }
      ]
    },
    {
      "cell_type": "code",
      "source": [
        "# import fasttext.util ## Run only once\n",
        "# fasttext.util.download_model('en', if_exists='ignore')"
      ],
      "metadata": {
        "id": "uIc8U-SRdDnV"
      },
      "execution_count": 4,
      "outputs": []
    },
    {
      "cell_type": "markdown",
      "source": [
        "# Load Libraries"
      ],
      "metadata": {
        "id": "g95lEw0ZhfkN"
      }
    },
    {
      "cell_type": "code",
      "execution_count": 5,
      "metadata": {
        "id": "xSsLZaOSIHhs"
      },
      "outputs": [],
      "source": [
        "import collections\n",
        "import pathlib\n",
        "import os\n",
        "from os import listdir\n",
        "from os.path import isfile, join\n",
        "\n",
        "import matplotlib.pyplot as plt\n",
        "import re\n",
        "import shutil\n",
        "import string\n",
        "\n",
        "import fasttext # word embeddings\n",
        "\n",
        "import tensorflow as tf\n",
        "import tensorflow_hub as hub\n",
        "\n",
        "from tensorflow.keras import layers\n",
        "from tensorflow.keras import Sequential\n",
        "from tensorflow.keras.layers import Dense, Embedding, GlobalAveragePooling1D\n",
        "from tensorflow.keras import losses\n",
        "from tensorflow.keras import utils\n",
        "from tensorflow.keras.layers import TextVectorization\n",
        "\n",
        "import tensorflow_text as tf_text\n",
        "from official.nlp import optimization  # to create AdamW optimizer\n",
        "\n",
        "import pandas as pd\n",
        "import numpy as np\n",
        "\n",
        "from sklearn.model_selection import train_test_split\n",
        "import tensorflow_addons as tfa # mathew's correlation coef\n",
        "from sklearn.metrics import confusion_matrix, ConfusionMatrixDisplay, f1_score\n",
        "\n",
        "tf.get_logger().setLevel('ERROR')"
      ]
    },
    {
      "cell_type": "markdown",
      "source": [
        "# Load Dataset"
      ],
      "metadata": {
        "id": "DC5peQW6hMgJ"
      }
    },
    {
      "cell_type": "code",
      "source": [
        "## South Park dataset from http://southpark.wikia.com/wiki/Portal:Scripts\n",
        "## Dataset compiled by BobAdamsEE @ https://github.com/BobAdamsEE/SouthParkData\n",
        "raw_ds = pd.read_csv(\n",
        "    '/content/drive/MyDrive/CS521/dataset/south_park_raw_ds_t3.csv'\n",
        ")"
      ],
      "metadata": {
        "id": "8SjdIG5SXzpD"
      },
      "execution_count": 6,
      "outputs": []
    },
    {
      "cell_type": "code",
      "source": [
        "## Remove null data points\n",
        "raw_ds = raw_ds.loc[~raw_ds.dialogue.isnull()]"
      ],
      "metadata": {
        "id": "E8TtXSJj-hPS"
      },
      "execution_count": 7,
      "outputs": []
    },
    {
      "cell_type": "code",
      "source": [
        "## Distribution of target classes in the raw dataset\n",
        "raw_ds.groupby('label').count().div(raw_ds.shape[0]).mul(100).round(1).plot(kind='bar')"
      ],
      "metadata": {
        "colab": {
          "base_uri": "https://localhost:8080/",
          "height": 293
        },
        "id": "JmPE_A01D3Vg",
        "outputId": "607afa96-cdf3-4fff-aa7b-c466deaedae9"
      },
      "execution_count": 8,
      "outputs": [
        {
          "output_type": "execute_result",
          "data": {
            "text/plain": [
              "<matplotlib.axes._subplots.AxesSubplot at 0x7fb9a87d8e50>"
            ]
          },
          "metadata": {},
          "execution_count": 8
        },
        {
          "output_type": "display_data",
          "data": {
            "text/plain": [
              "<Figure size 432x288 with 1 Axes>"
            ],
            "image/png": "[encoded data removed]"
          },
          "metadata": {
            "needs_background": "light"
          }
        }
      ]
    },
    {
      "cell_type": "code",
      "source": [
        "## Split raw data into train(70%), test(15%) & validation(15%)\n",
        "\n",
        "train_x, test_x, train_y, test_y = train_test_split(\n",
        "    raw_ds.dialogue, raw_ds.label, \n",
        "    test_size=0.3,\n",
        "    random_state=1,\n",
        "    stratify=raw_ds.label\n",
        "    )\n",
        "\n",
        "validation_x, test_x, validation_y, test_y = train_test_split(\n",
        "    test_x, test_y, \n",
        "    test_size=0.5,\n",
        "    random_state=1,\n",
        "    stratify=test_y\n",
        "    )"
      ],
      "metadata": {
        "id": "npj1BoEXcg9Q"
      },
      "execution_count": 9,
      "outputs": []
    },
    {
      "cell_type": "markdown",
      "source": [
        "# Custom optimizer"
      ],
      "metadata": {
        "id": "Nw0WN1k1Ogp_"
      }
    },
    {
      "cell_type": "code",
      "source": [
        "## reaches the optimum learning rate without needing to actually specify one\n",
        "epochs = 5\n",
        "steps_per_epoch = 3\n",
        "num_train_steps = steps_per_epoch * epochs\n",
        "num_warmup_steps = int(0.1*num_train_steps)\n",
        "init_lr = 3e-5\n",
        "\n",
        "optimizer = optimization.create_optimizer(\n",
        "              init_lr=init_lr,\n",
        "              num_train_steps=num_train_steps,\n",
        "              num_warmup_steps=num_warmup_steps,\n",
        "              optimizer_type='adamw'\n",
        "              )"
      ],
      "metadata": {
        "id": "_4FTGoIGK5c7"
      },
      "execution_count": 10,
      "outputs": []
    },
    {
      "cell_type": "code",
      "source": [
        "labels=['Stan','Kyle','Cartman']"
      ],
      "metadata": {
        "id": "nTF4S4Pbs-N_"
      },
      "execution_count": 13,
      "outputs": []
    },
    {
      "cell_type": "markdown",
      "source": [
        "# BERTs"
      ],
      "metadata": {
        "id": "ndyfkPbU6EhV"
      }
    },
    {
      "cell_type": "markdown",
      "source": [
        "#### Dictionary for links to pre trained BERT models in TensorFlow hub"
      ],
      "metadata": {
        "id": "FJ6IpWFj58y2"
      }
    },
    {
      "cell_type": "code",
      "source": [
        "map_name_to_handle = {\n",
        "    'bert_en_uncased_L-12_H-768_A-12':\n",
        "        'https://tfhub.dev/tensorflow/bert_en_uncased_L-12_H-768_A-12/3',\n",
        "    'bert_en_cased_L-12_H-768_A-12':\n",
        "        'https://tfhub.dev/tensorflow/bert_en_cased_L-12_H-768_A-12/3',\n",
        "    'bert_multi_cased_L-12_H-768_A-12':\n",
        "        'https://tfhub.dev/tensorflow/bert_multi_cased_L-12_H-768_A-12/3',\n",
        "    'small_bert/bert_en_uncased_L-2_H-128_A-2':\n",
        "        'https://tfhub.dev/tensorflow/small_bert/bert_en_uncased_L-2_H-128_A-2/1',\n",
        "    'small_bert/bert_en_uncased_L-2_H-256_A-4':\n",
        "        'https://tfhub.dev/tensorflow/small_bert/bert_en_uncased_L-2_H-256_A-4/1',\n",
        "    'small_bert/bert_en_uncased_L-2_H-512_A-8':\n",
        "        'https://tfhub.dev/tensorflow/small_bert/bert_en_uncased_L-2_H-512_A-8/1',\n",
        "    'small_bert/bert_en_uncased_L-2_H-768_A-12':\n",
        "        'https://tfhub.dev/tensorflow/small_bert/bert_en_uncased_L-2_H-768_A-12/1',\n",
        "    'small_bert/bert_en_uncased_L-4_H-128_A-2':\n",
        "        'https://tfhub.dev/tensorflow/small_bert/bert_en_uncased_L-4_H-128_A-2/1',\n",
        "    'small_bert/bert_en_uncased_L-4_H-256_A-4':\n",
        "        'https://tfhub.dev/tensorflow/small_bert/bert_en_uncased_L-4_H-256_A-4/1',\n",
        "    'small_bert/bert_en_uncased_L-4_H-512_A-8':\n",
        "        'https://tfhub.dev/tensorflow/small_bert/bert_en_uncased_L-4_H-512_A-8/1',\n",
        "    'small_bert/bert_en_uncased_L-4_H-768_A-12':\n",
        "        'https://tfhub.dev/tensorflow/small_bert/bert_en_uncased_L-4_H-768_A-12/1',\n",
        "    'small_bert/bert_en_uncased_L-6_H-128_A-2':\n",
        "        'https://tfhub.dev/tensorflow/small_bert/bert_en_uncased_L-6_H-128_A-2/1',\n",
        "    'small_bert/bert_en_uncased_L-6_H-256_A-4':\n",
        "        'https://tfhub.dev/tensorflow/small_bert/bert_en_uncased_L-6_H-256_A-4/1',\n",
        "    'small_bert/bert_en_uncased_L-6_H-512_A-8':\n",
        "        'https://tfhub.dev/tensorflow/small_bert/bert_en_uncased_L-6_H-512_A-8/1',\n",
        "    'small_bert/bert_en_uncased_L-6_H-768_A-12':\n",
        "        'https://tfhub.dev/tensorflow/small_bert/bert_en_uncased_L-6_H-768_A-12/1',\n",
        "    'small_bert/bert_en_uncased_L-8_H-128_A-2':\n",
        "        'https://tfhub.dev/tensorflow/small_bert/bert_en_uncased_L-8_H-128_A-2/1',\n",
        "    'small_bert/bert_en_uncased_L-8_H-256_A-4':\n",
        "        'https://tfhub.dev/tensorflow/small_bert/bert_en_uncased_L-8_H-256_A-4/1',\n",
        "    'small_bert/bert_en_uncased_L-8_H-512_A-8':\n",
        "        'https://tfhub.dev/tensorflow/small_bert/bert_en_uncased_L-8_H-512_A-8/1',\n",
        "    'small_bert/bert_en_uncased_L-8_H-768_A-12':\n",
        "        'https://tfhub.dev/tensorflow/small_bert/bert_en_uncased_L-8_H-768_A-12/1',\n",
        "    'small_bert/bert_en_uncased_L-10_H-128_A-2':\n",
        "        'https://tfhub.dev/tensorflow/small_bert/bert_en_uncased_L-10_H-128_A-2/1',\n",
        "    'small_bert/bert_en_uncased_L-10_H-256_A-4':\n",
        "        'https://tfhub.dev/tensorflow/small_bert/bert_en_uncased_L-10_H-256_A-4/1',\n",
        "    'small_bert/bert_en_uncased_L-10_H-512_A-8':\n",
        "        'https://tfhub.dev/tensorflow/small_bert/bert_en_uncased_L-10_H-512_A-8/1',\n",
        "    'small_bert/bert_en_uncased_L-10_H-768_A-12':\n",
        "        'https://tfhub.dev/tensorflow/small_bert/bert_en_uncased_L-10_H-768_A-12/1',\n",
        "    'small_bert/bert_en_uncased_L-12_H-128_A-2':\n",
        "        'https://tfhub.dev/tensorflow/small_bert/bert_en_uncased_L-12_H-128_A-2/1',\n",
        "    'small_bert/bert_en_uncased_L-12_H-256_A-4':\n",
        "        'https://tfhub.dev/tensorflow/small_bert/bert_en_uncased_L-12_H-256_A-4/1',\n",
        "    'small_bert/bert_en_uncased_L-12_H-512_A-8':\n",
        "        'https://tfhub.dev/tensorflow/small_bert/bert_en_uncased_L-12_H-512_A-8/1',\n",
        "    'small_bert/bert_en_uncased_L-12_H-768_A-12':\n",
        "        'https://tfhub.dev/tensorflow/small_bert/bert_en_uncased_L-12_H-768_A-12/1',\n",
        "    'albert_en_base':\n",
        "        'https://tfhub.dev/tensorflow/albert_en_base/3', #https://tfhub.dev/google/albert_base/2\n",
        "    'electra_small':\n",
        "        'https://tfhub.dev/google/electra_small/2',\n",
        "    'electra_base':\n",
        "        'https://tfhub.dev/google/electra_base/2',\n",
        "    'experts_pubmed':\n",
        "        'https://tfhub.dev/google/experts/bert/pubmed/2',\n",
        "    'experts_wiki_books':\n",
        "        'https://tfhub.dev/google/experts/bert/wiki_books/2',\n",
        "    'talking-heads_base':\n",
        "        'https://tfhub.dev/tensorflow/talkheads_ggelu_bert_en_base/1',\n",
        "}\n",
        "\n",
        "map_model_to_preprocess = {\n",
        "    'bert_en_uncased_L-12_H-768_A-12':\n",
        "        'https://tfhub.dev/tensorflow/bert_en_uncased_preprocess/3',\n",
        "    'bert_en_cased_L-12_H-768_A-12':\n",
        "        'https://tfhub.dev/tensorflow/bert_en_cased_preprocess/3',\n",
        "    'small_bert/bert_en_uncased_L-2_H-128_A-2':\n",
        "        'https://tfhub.dev/tensorflow/bert_en_uncased_preprocess/3',\n",
        "    'small_bert/bert_en_uncased_L-2_H-256_A-4':\n",
        "        'https://tfhub.dev/tensorflow/bert_en_uncased_preprocess/3',\n",
        "    'small_bert/bert_en_uncased_L-2_H-512_A-8':\n",
        "        'https://tfhub.dev/tensorflow/bert_en_uncased_preprocess/3',\n",
        "    'small_bert/bert_en_uncased_L-2_H-768_A-12':\n",
        "        'https://tfhub.dev/tensorflow/bert_en_uncased_preprocess/3',\n",
        "    'small_bert/bert_en_uncased_L-4_H-128_A-2':\n",
        "        'https://tfhub.dev/tensorflow/bert_en_uncased_preprocess/3',\n",
        "    'small_bert/bert_en_uncased_L-4_H-256_A-4':\n",
        "        'https://tfhub.dev/tensorflow/bert_en_uncased_preprocess/3',\n",
        "    'small_bert/bert_en_uncased_L-4_H-512_A-8':\n",
        "        'https://tfhub.dev/tensorflow/bert_en_uncased_preprocess/3',\n",
        "    'small_bert/bert_en_uncased_L-4_H-768_A-12':\n",
        "        'https://tfhub.dev/tensorflow/bert_en_uncased_preprocess/3',\n",
        "    'small_bert/bert_en_uncased_L-6_H-128_A-2':\n",
        "        'https://tfhub.dev/tensorflow/bert_en_uncased_preprocess/3',\n",
        "    'small_bert/bert_en_uncased_L-6_H-256_A-4':\n",
        "        'https://tfhub.dev/tensorflow/bert_en_uncased_preprocess/3',\n",
        "    'small_bert/bert_en_uncased_L-6_H-512_A-8':\n",
        "        'https://tfhub.dev/tensorflow/bert_en_uncased_preprocess/3',\n",
        "    'small_bert/bert_en_uncased_L-6_H-768_A-12':\n",
        "        'https://tfhub.dev/tensorflow/bert_en_uncased_preprocess/3',\n",
        "    'small_bert/bert_en_uncased_L-8_H-128_A-2':\n",
        "        'https://tfhub.dev/tensorflow/bert_en_uncased_preprocess/3',\n",
        "    'small_bert/bert_en_uncased_L-8_H-256_A-4':\n",
        "        'https://tfhub.dev/tensorflow/bert_en_uncased_preprocess/3',\n",
        "    'small_bert/bert_en_uncased_L-8_H-512_A-8':\n",
        "        'https://tfhub.dev/tensorflow/bert_en_uncased_preprocess/3',\n",
        "    'small_bert/bert_en_uncased_L-8_H-768_A-12':\n",
        "        'https://tfhub.dev/tensorflow/bert_en_uncased_preprocess/3',\n",
        "    'small_bert/bert_en_uncased_L-10_H-128_A-2':\n",
        "        'https://tfhub.dev/tensorflow/bert_en_uncased_preprocess/3',\n",
        "    'small_bert/bert_en_uncased_L-10_H-256_A-4':\n",
        "        'https://tfhub.dev/tensorflow/bert_en_uncased_preprocess/3',\n",
        "    'small_bert/bert_en_uncased_L-10_H-512_A-8':\n",
        "        'https://tfhub.dev/tensorflow/bert_en_uncased_preprocess/3',\n",
        "    'small_bert/bert_en_uncased_L-10_H-768_A-12':\n",
        "        'https://tfhub.dev/tensorflow/bert_en_uncased_preprocess/3',\n",
        "    'small_bert/bert_en_uncased_L-12_H-128_A-2':\n",
        "        'https://tfhub.dev/tensorflow/bert_en_uncased_preprocess/3',\n",
        "    'small_bert/bert_en_uncased_L-12_H-256_A-4':\n",
        "        'https://tfhub.dev/tensorflow/bert_en_uncased_preprocess/3',\n",
        "    'small_bert/bert_en_uncased_L-12_H-512_A-8':\n",
        "        'https://tfhub.dev/tensorflow/bert_en_uncased_preprocess/3',\n",
        "    'small_bert/bert_en_uncased_L-12_H-768_A-12':\n",
        "        'https://tfhub.dev/tensorflow/bert_en_uncased_preprocess/3',\n",
        "    'bert_multi_cased_L-12_H-768_A-12':\n",
        "        'https://tfhub.dev/tensorflow/bert_multi_cased_preprocess/3',\n",
        "    'albert_en_base':\n",
        "        'https://tfhub.dev/tensorflow/albert_en_preprocess/3',\n",
        "    'electra_small':\n",
        "        'https://tfhub.dev/tensorflow/bert_en_uncased_preprocess/3',\n",
        "    'electra_base':\n",
        "        'https://tfhub.dev/tensorflow/bert_en_uncased_preprocess/3',\n",
        "    'experts_pubmed':\n",
        "        'https://tfhub.dev/tensorflow/bert_en_uncased_preprocess/3',\n",
        "    'experts_wiki_books':\n",
        "        'https://tfhub.dev/tensorflow/bert_en_uncased_preprocess/3',\n",
        "    'talking-heads_base':\n",
        "        'https://tfhub.dev/tensorflow/bert_en_uncased_preprocess/3',\n",
        "}"
      ],
      "metadata": {
        "id": "NhxO6VnA52ED"
      },
      "execution_count": 12,
      "outputs": []
    },
    {
      "cell_type": "markdown",
      "source": [
        "#### Word embedding model "
      ],
      "metadata": {
        "id": "FOo-izd77DFL"
      }
    },
    {
      "cell_type": "code",
      "source": [
        "## Replace the bert_model_name variable with any of the below 4.\n",
        "#'bert_en_cased_L-12_H-768_A-12'\n",
        "#'albert_en_base'\n",
        "#'small_bert/bert_en_uncased_L-2_H-128_A-2'\n",
        "#'small_bert/bert_en_uncased_L-4_H-512_A-8' \n",
        "bert_model_name = 'bert_en_cased_L-12_H-768_A-12'\n",
        "tfhub_handle_encoder = map_name_to_handle[bert_model_name]\n",
        "tfhub_handle_preprocess = map_model_to_preprocess[bert_model_name]\n",
        "\n",
        "print(f'BERT model selected           : {tfhub_handle_encoder}')\n",
        "print(f'Preprocess model auto-selected: {tfhub_handle_preprocess}')"
      ],
      "metadata": {
        "colab": {
          "base_uri": "https://localhost:8080/"
        },
        "id": "zi76sm5LAiZo",
        "outputId": "c3fbec50-6e45-4f2e-e244-5921f206a70e"
      },
      "execution_count": 13,
      "outputs": [
        {
          "output_type": "stream",
          "name": "stdout",
          "text": [
            "BERT model selected           : https://tfhub.dev/tensorflow/bert_en_cased_L-12_H-768_A-12/3\n",
            "Preprocess model auto-selected: https://tfhub.dev/tensorflow/bert_en_cased_preprocess/3\n"
          ]
        }
      ]
    },
    {
      "cell_type": "code",
      "source": [
        "def get_bert_word_embeddings(\n",
        "    text_col, \n",
        "    tfhub_handle_preprocess, \n",
        "    tfhub_handle_encoder, \n",
        "    fine_tune_flag\n",
        "    ):\n",
        "  \n",
        "  \"\"\"\n",
        "  Takes in \n",
        "    the text column in the dataset, \n",
        "    the encoder & its preprocess handlers,\n",
        "    the fine_tune_flag to enable or disable fine tuning the BERTs\n",
        "\n",
        "  Returns the input layer & the word embeddings layer\n",
        "\n",
        "  \"\"\"\n",
        "  \n",
        "  text_input_layer = tf.keras.layers.Input(shape=(), dtype=tf.string, name=text_col)\n",
        "  \n",
        "  preprocessing_layer = hub.KerasLayer(\n",
        "      tfhub_handle_preprocess, \n",
        "      name='preprocessing'\n",
        "      )\n",
        "  encoder_inputs = preprocessing_layer(text_input_layer)\n",
        "  encoder = hub.KerasLayer(\n",
        "      tfhub_handle_encoder, \n",
        "      trainable=fine_tune_flag, \n",
        "      name='BERT_encoder'\n",
        "      )\n",
        "  outputs = encoder(encoder_inputs)\n",
        "  \n",
        "  return text_input_layer, outputs\n",
        "\n",
        "  \n",
        "text_input_layer, bert_word_embeddings = get_bert_word_embeddings(\n",
        "  text_col='dialogue', \n",
        "  tfhub_handle_preprocess=tfhub_handle_preprocess, \n",
        "  tfhub_handle_encoder=tfhub_handle_encoder,\n",
        "  fine_tune_flag=False\n",
        "  )"
      ],
      "metadata": {
        "id": "FKTypdNSGZAL"
      },
      "execution_count": 14,
      "outputs": []
    },
    {
      "cell_type": "markdown",
      "source": [
        "#### Simple DNN Model"
      ],
      "metadata": {
        "id": "NoKh9bH1Lzx6"
      }
    },
    {
      "cell_type": "code",
      "source": [
        "def simple_dnn_classifier_model(\n",
        "    num_labels, \n",
        "    text_input_layer,\n",
        "    outputs\n",
        "    ):\n",
        "  \n",
        "  \"\"\"\n",
        "  Takes in \n",
        "    the number of output classes, \n",
        "    the text input layer,\n",
        "    the word embeddings BERTs\n",
        "  Constructs the layers\n",
        "  Returns the keras model\n",
        "\n",
        "  \"\"\"\n",
        "    \n",
        "  net = outputs['pooled_output'] \n",
        "  net = tf.keras.layers.Dense(256, activation=\"selu\", name=\"dense_layer1\")(net)\n",
        "  net = tf.keras.layers.Dense(256, activation=\"selu\", name='dense_layer2')(net)\n",
        "  net = tf.keras.layers.Dropout(0.2, name='dropout_layer')(net)\n",
        "  \n",
        "  out = tf.keras.layers.Dense(num_labels, activation=\"softmax\", name='classifier')(net)\n",
        "  \n",
        "  return tf.keras.Model(text_input_layer, out)\n",
        "\n",
        "\n",
        "cls_model = simple_dnn_classifier_model(\n",
        "    num_labels=3,\n",
        "    text_input_layer=text_input_layer, \n",
        "    outputs=bert_word_embeddings\n",
        "    ) \n",
        "cls_model.summary()"
      ],
      "metadata": {
        "colab": {
          "base_uri": "https://localhost:8080/"
        },
        "id": "mi-hQUSuXLd9",
        "outputId": "237bd653-3113-46e7-8c4f-10723924ebc0"
      },
      "execution_count": 16,
      "outputs": [
        {
          "output_type": "stream",
          "name": "stdout",
          "text": [
            "Model: \"model_1\"\n",
            "__________________________________________________________________________________________________\n",
            " Layer (type)                   Output Shape         Param #     Connected to                     \n",
            "==================================================================================================\n",
            " dialogue (InputLayer)          [(None,)]            0           []                               \n",
            "                                                                                                  \n",
            " preprocessing (KerasLayer)     {'input_mask': (Non  0           ['dialogue[0][0]']               \n",
            "                                e, 128),                                                          \n",
            "                                 'input_type_ids':                                                \n",
            "                                (None, 128),                                                      \n",
            "                                 'input_word_ids':                                                \n",
            "                                (None, 128)}                                                      \n",
            "                                                                                                  \n",
            " BERT_encoder (KerasLayer)      {'pooled_output': (  108310273   ['preprocessing[0][0]',          \n",
            "                                None, 768),                       'preprocessing[0][1]',          \n",
            "                                 'default': (None,                'preprocessing[0][2]']          \n",
            "                                768),                                                             \n",
            "                                 'encoder_outputs':                                               \n",
            "                                 [(None, 128, 768),                                               \n",
            "                                 (None, 128, 768),                                                \n",
            "                                 (None, 128, 768),                                                \n",
            "                                 (None, 128, 768),                                                \n",
            "                                 (None, 128, 768),                                                \n",
            "                                 (None, 128, 768),                                                \n",
            "                                 (None, 128, 768),                                                \n",
            "                                 (None, 128, 768),                                                \n",
            "                                 (None, 128, 768),                                                \n",
            "                                 (None, 128, 768),                                                \n",
            "                                 (None, 128, 768),                                                \n",
            "                                 (None, 128, 768)],                                               \n",
            "                                 'sequence_output':                                               \n",
            "                                 (None, 128, 768)}                                                \n",
            "                                                                                                  \n",
            " dense_layer1 (Dense)           (None, 256)          196864      ['BERT_encoder[0][13]']          \n",
            "                                                                                                  \n",
            " dense_layer2 (Dense)           (None, 256)          65792       ['dense_layer1[0][0]']           \n",
            "                                                                                                  \n",
            " dropout_layer (Dropout)        (None, 256)          0           ['dense_layer2[0][0]']           \n",
            "                                                                                                  \n",
            " classifier (Dense)             (None, 3)            771         ['dropout_layer[0][0]']          \n",
            "                                                                                                  \n",
            "==================================================================================================\n",
            "Total params: 108,573,700\n",
            "Trainable params: 263,427\n",
            "Non-trainable params: 108,310,273\n",
            "__________________________________________________________________________________________________\n"
          ]
        }
      ]
    },
    {
      "cell_type": "code",
      "source": [
        "# Compile & fit the model to the training data; val data is passed here\n",
        "# The EarlyStopping callback is also passed. This stops the training when\n",
        "# the improvement is less than 5 & restores the best weights at the end\n",
        "\n",
        "cls_model.compile(\n",
        "    optimizer=optimizer,\n",
        "    loss=tf.keras.losses.SparseCategoricalCrossentropy(from_logits=False), \n",
        "    metrics=[tf.keras.metrics.SparseCategoricalAccuracy()]\n",
        "    )\n",
        "\n",
        "\n",
        "print(f'Training model with {tfhub_handle_encoder}')\n",
        "early_stopping_cb = tf.keras.callbacks.EarlyStopping(min_delta=5,restore_best_weights=True)\n",
        "history = cls_model.fit(\n",
        "    train_x, train_y, \n",
        "    validation_data=(validation_x, validation_y),\n",
        "    epochs=epochs, batch_size=32\n",
        "    ,callbacks=[early_stopping_cb]\n",
        "    )\n",
        "\n",
        "cls_model.save('/content/drive/MyDrive/CS521/models/simple_dnn_model_bert_cased')"
      ],
      "metadata": {
        "id": "gPBpwj4FWkcd"
      },
      "execution_count": null,
      "outputs": []
    },
    {
      "cell_type": "markdown",
      "source": [
        "##### Model evaluation"
      ],
      "metadata": {
        "id": "rudRYID9MFW_"
      }
    },
    {
      "cell_type": "code",
      "source": [
        "# Load the model when necessary\n",
        "# predict the classes for test data\n",
        "# calculate the Matthew's Corr Coeff & F1 scores of each class\n",
        "# MCC score of 0 indicates the predictions are no better than random guesses\n",
        "# plot the confusion matrix\n",
        "\n",
        "cls_model = tf.keras.models.load_model(\n",
        "    '/content/drive/MyDrive/CS521/models/simple_dnn_model',\n",
        "    compile=False\n",
        "    )\n",
        "pred_y = cls_model.predict(test_x)\n",
        "\n",
        "mcc = tfa.metrics.MatthewsCorrelationCoefficient(num_classes=3)\n",
        "\n",
        "mcc.update_state(test_y.values.reshape(-1,1), np.argmax(pred_y, axis=1).reshape(-1,1))\n",
        "result = mcc.result()\n",
        "print(f\"Matthews Correlation Coefficient: {result.numpy()}\\n\\n\")\n",
        "\n",
        "f1_score_ = f1_score(\n",
        "    test_y, np.argmax(pred_y, axis=1), \n",
        "    average=None\n",
        "    )\n",
        "labels=['Stan','Kyle','Cartman']\n",
        "print(f\"F1 scores: {[{label:round(score,2)} for label, score in zip(labels, f1_score_)]}\\n\\n\")\n",
        "\n",
        "cm = confusion_matrix(\n",
        "      test_y.values.reshape(-1,1), \n",
        "      np.argmax(pred_y, axis=1).reshape(-1,1)\n",
        "      )\n",
        "disp = ConfusionMatrixDisplay(confusion_matrix=cm,\n",
        "                              display_labels=['Stan','Kyle','Cartman'])\n",
        "disp.plot();"
      ],
      "metadata": {
        "colab": {
          "base_uri": "https://localhost:8080/",
          "height": 385
        },
        "id": "YyRFOfjwUvve",
        "outputId": "49f2d19c-6998-48c2-a2bc-080986f437cd"
      },
      "execution_count": 18,
      "outputs": [
        {
          "output_type": "stream",
          "name": "stdout",
          "text": [
            "Matthews Correlation Coefficient: 0.0\n",
            "\n",
            "\n",
            "F1 scores: [{'Stan': 0.47}, {'Kyle': 0.0}, {'Cartman': 0.0}]\n",
            "\n",
            "\n"
          ]
        },
        {
          "output_type": "display_data",
          "data": {
            "text/plain": [
              "<Figure size 432x288 with 2 Axes>"
            ],
            "image/png": "[encoded data removed]"
          },
          "metadata": {
            "needs_background": "light"
          }
        }
      ]
    },
    {
      "cell_type": "markdown",
      "source": [
        "#### CNN based model"
      ],
      "metadata": {
        "id": "e1R_PMD-MKtG"
      }
    },
    {
      "cell_type": "code",
      "source": [
        "## Replace the bert_model_name variable with any of the below 4.\n",
        "#'bert_en_cased_L-12_H-768_A-12'\n",
        "#'albert_en_base'\n",
        "#'small_bert/bert_en_uncased_L-2_H-128_A-2'\n",
        "#'small_bert/bert_en_uncased_L-4_H-512_A-8' \n",
        "bert_model_name = 'albert_en_base'\n",
        "tfhub_handle_encoder = map_name_to_handle[bert_model_name]\n",
        "tfhub_handle_preprocess = map_model_to_preprocess[bert_model_name]\n",
        "\n",
        "print(f'BERT model selected           : {tfhub_handle_encoder}')\n",
        "print(f'Preprocess model auto-selected: {tfhub_handle_preprocess}')\n",
        "\n",
        "text_input_layer, bert_word_embeddings = get_bert_word_embeddings(\n",
        "  text_col='dialogue', \n",
        "  tfhub_handle_preprocess=tfhub_handle_preprocess, \n",
        "  tfhub_handle_encoder=tfhub_handle_encoder,\n",
        "  fine_tune_flag=False\n",
        "  )"
      ],
      "metadata": {
        "colab": {
          "base_uri": "https://localhost:8080/"
        },
        "id": "2AaXJW9xHwkn",
        "outputId": "1114f6c9-678a-4a02-93b5-5b8457e9d749"
      },
      "execution_count": 19,
      "outputs": [
        {
          "output_type": "stream",
          "name": "stdout",
          "text": [
            "BERT model selected           : https://tfhub.dev/tensorflow/albert_en_base/3\n",
            "Preprocess model auto-selected: https://tfhub.dev/tensorflow/albert_en_preprocess/3\n"
          ]
        }
      ]
    },
    {
      "cell_type": "code",
      "source": [
        "def cnn_classifier_model(\n",
        "    num_labels, \n",
        "    text_input_layer,\n",
        "    outputs\n",
        "    ):\n",
        "  \n",
        "  \"\"\"\n",
        "  Takes in \n",
        "    the number of output classes, \n",
        "    the text input layer,\n",
        "    the word embeddings BERTs\n",
        "  Constructs the layers\n",
        "  Returns the keras model\n",
        "\n",
        "  \"\"\"\n",
        "    \n",
        "  # sequence_output -- represents each input token in the sentence context\n",
        "  net = outputs['sequence_output'] \n",
        "  net = tf.keras.layers.Conv1D(128, 3, activation=\"relu\", name='cnn1d')(net)\n",
        "  net = tf.keras.layers.GlobalAveragePooling1D()(net)\n",
        "  net = tf.keras.layers.Dense(256, activation=\"selu\", name='dense1')(net)\n",
        "  net = tf.keras.layers.Dropout(0.2, name='dropout1')(net)\n",
        "  \n",
        "  out = tf.keras.layers.Dense(num_labels, activation=\"softmax\", name='classifier')(net)\n",
        "  \n",
        "  return tf.keras.Model(text_input_layer, out)\n",
        "\n",
        "cls_model = cnn_classifier_model(\n",
        "  num_labels=3,\n",
        "  text_input_layer=text_input_layer, \n",
        "  outputs=bert_word_embeddings\n",
        "  ) \n",
        "cls_model.summary()"
      ],
      "metadata": {
        "id": "9SKQWjvgLQ_f",
        "colab": {
          "base_uri": "https://localhost:8080/"
        },
        "outputId": "c5e4f120-37bc-46fd-eef9-00e2bfc88710"
      },
      "execution_count": 20,
      "outputs": [
        {
          "output_type": "stream",
          "name": "stdout",
          "text": [
            "Model: \"model_2\"\n",
            "__________________________________________________________________________________________________\n",
            " Layer (type)                   Output Shape         Param #     Connected to                     \n",
            "==================================================================================================\n",
            " dialogue (InputLayer)          [(None,)]            0           []                               \n",
            "                                                                                                  \n",
            " preprocessing (KerasLayer)     {'input_word_ids':   0           ['dialogue[0][0]']               \n",
            "                                (None, 128),                                                      \n",
            "                                 'input_mask': (Non                                               \n",
            "                                e, 128),                                                          \n",
            "                                 'input_type_ids':                                                \n",
            "                                (None, 128)}                                                      \n",
            "                                                                                                  \n",
            " BERT_encoder (KerasLayer)      {'default': (None,   11683584    ['preprocessing[0][0]',          \n",
            "                                768),                             'preprocessing[0][1]',          \n",
            "                                 'pooled_output': (               'preprocessing[0][2]']          \n",
            "                                None, 768),                                                       \n",
            "                                 'sequence_output':                                               \n",
            "                                 (None, 128, 768),                                                \n",
            "                                 'encoder_outputs':                                               \n",
            "                                 [(None, 128, 768),                                               \n",
            "                                 (None, 128, 768),                                                \n",
            "                                 (None, 128, 768),                                                \n",
            "                                 (None, 128, 768),                                                \n",
            "                                 (None, 128, 768),                                                \n",
            "                                 (None, 128, 768),                                                \n",
            "                                 (None, 128, 768),                                                \n",
            "                                 (None, 128, 768),                                                \n",
            "                                 (None, 128, 768),                                                \n",
            "                                 (None, 128, 768),                                                \n",
            "                                 (None, 128, 768),                                                \n",
            "                                 (None, 128, 768)]}                                               \n",
            "                                                                                                  \n",
            " cnn1d (Conv1D)                 (None, 126, 128)     295040      ['BERT_encoder[0][14]']          \n",
            "                                                                                                  \n",
            " global_average_pooling1d (Glob  (None, 128)         0           ['cnn1d[0][0]']                  \n",
            " alAveragePooling1D)                                                                              \n",
            "                                                                                                  \n",
            " dense1 (Dense)                 (None, 256)          33024       ['global_average_pooling1d[0][0]'\n",
            "                                                                 ]                                \n",
            "                                                                                                  \n",
            " dropout1 (Dropout)             (None, 256)          0           ['dense1[0][0]']                 \n",
            "                                                                                                  \n",
            " classifier (Dense)             (None, 3)            771         ['dropout1[0][0]']               \n",
            "                                                                                                  \n",
            "==================================================================================================\n",
            "Total params: 12,012,419\n",
            "Trainable params: 328,835\n",
            "Non-trainable params: 11,683,584\n",
            "__________________________________________________________________________________________________\n"
          ]
        }
      ]
    },
    {
      "cell_type": "code",
      "source": [
        "# Compile & fit the model to the training data; val data is passed here\n",
        "# The EarlyStopping callback is also passed. This stops the training when\n",
        "# the improvement is less than 5 & restores the best weights at the end\n",
        "\n",
        "cls_model.compile(\n",
        "    optimizer=optimizer,\n",
        "    loss=tf.keras.losses.SparseCategoricalCrossentropy(from_logits=False), \n",
        "    metrics=[tf.keras.metrics.SparseCategoricalAccuracy()]\n",
        "    )\n",
        "\n",
        "\n",
        "print(f'Training model with {tfhub_handle_encoder}')\n",
        "early_stopping_cb = tf.keras.callbacks.EarlyStopping(min_delta=5,restore_best_weights=True)\n",
        "history = cls_model.fit(\n",
        "    train_x, train_y, \n",
        "    validation_data=(validation_x, validation_y),\n",
        "    epochs=epochs, batch_size=32\n",
        "    ,callbacks=[early_stopping_cb]\n",
        "    )\n",
        "\n",
        "cls_model.save('/content/drive/MyDrive/CS521/models/cnn_based_model_albert')"
      ],
      "metadata": {
        "id": "K1Hu8dOLQvZ0"
      },
      "execution_count": null,
      "outputs": []
    },
    {
      "cell_type": "markdown",
      "source": [
        "##### Model evaluation"
      ],
      "metadata": {
        "id": "JQTiIYhsdGkL"
      }
    },
    {
      "cell_type": "code",
      "source": [
        "# Load the model when necessary\n",
        "# predict the classes for test data\n",
        "# calculate the Matthew's Corr Coeff & F1 scores of each class\n",
        "# MCC score of 0 indicates the predictions are no better than random guesses\n",
        "# plot the confusion matrix\n",
        "\n",
        "# cls_model = tf.keras.models.load_model(\n",
        "#     '/content/drive/MyDrive/CS521/models/cnn_based_model',\n",
        "#     compile=False\n",
        "#     )\n",
        "pred_y = cls_model.predict(test_x)\n",
        "\n",
        "mcc = tfa.metrics.MatthewsCorrelationCoefficient(num_classes=3)\n",
        "\n",
        "mcc.update_state(test_y.values.reshape(-1,1), np.argmax(pred_y, axis=1).reshape(-1,1))\n",
        "result = mcc.result()\n",
        "print(f\"Matthews Correlation Coefficient: {result.numpy()}\\n\\n\")\n",
        "\n",
        "f1_score_ = f1_score(\n",
        "    test_y, np.argmax(pred_y, axis=1), \n",
        "    average=None\n",
        "    )\n",
        "labels=['Stan','Kyle','Cartman']\n",
        "print(f\"F1 scores: {[{label:round(score,2)} for label, score in zip(labels, f1_score_)]}\\n\\n\")\n",
        "\n",
        "cm = confusion_matrix(\n",
        "      test_y.values.reshape(-1,1), \n",
        "      np.argmax(pred_y, axis=1).reshape(-1,1)\n",
        "      )\n",
        "disp = ConfusionMatrixDisplay(confusion_matrix=cm,\n",
        "                              display_labels=['Stan','Kyle','Cartman'])\n",
        "disp.plot();"
      ],
      "metadata": {
        "colab": {
          "base_uri": "https://localhost:8080/",
          "height": 381
        },
        "id": "PWGBtt1WdI43",
        "outputId": "dc3ea920-69f9-4e07-f727-7bcdb0752bd5"
      },
      "execution_count": 23,
      "outputs": [
        {
          "output_type": "stream",
          "name": "stdout",
          "text": [
            "Matthews Correlation Coefficient: 0.0\n",
            "\n",
            "\n",
            "F1 scores: [{'Stan': 0.0}, {'Kyle': 0.21}, {'Cartman': 0.57}]\n",
            "\n",
            "\n"
          ]
        },
        {
          "output_type": "display_data",
          "data": {
            "text/plain": [
              "<Figure size 432x288 with 2 Axes>"
            ],
            "image/png": "[encoded data removed]"
          },
          "metadata": {
            "needs_background": "light"
          }
        }
      ]
    },
    {
      "cell_type": "markdown",
      "source": [
        "#### RNN based"
      ],
      "metadata": {
        "id": "TRK1CLHtgmeb"
      }
    },
    {
      "cell_type": "code",
      "source": [
        "## Replace the bert_model_name variable with any of the below 4.\n",
        "#'bert_en_cased_L-12_H-768_A-12'\n",
        "#'albert_en_base'\n",
        "#'small_bert/bert_en_uncased_L-2_H-128_A-2'\n",
        "#'small_bert/bert_en_uncased_L-4_H-512_A-8' \n",
        "bert_model_name = 'small_bert/bert_en_uncased_L-4_H-512_A-8'\n",
        "tfhub_handle_encoder = map_name_to_handle[bert_model_name]\n",
        "tfhub_handle_preprocess = map_model_to_preprocess[bert_model_name]\n",
        "\n",
        "print(f'BERT model selected           : {tfhub_handle_encoder}')\n",
        "print(f'Preprocess model auto-selected: {tfhub_handle_preprocess}')\n",
        "\n",
        "text_input_layer, bert_word_embeddings = get_bert_word_embeddings(\n",
        "  text_col='dialogue', \n",
        "  tfhub_handle_preprocess=tfhub_handle_preprocess, \n",
        "  tfhub_handle_encoder=tfhub_handle_encoder,\n",
        "  fine_tune_flag=False\n",
        "  )"
      ],
      "metadata": {
        "id": "OatguPAFSEIs"
      },
      "execution_count": null,
      "outputs": []
    },
    {
      "cell_type": "code",
      "source": [
        "def rnn_classifier_model(\n",
        "    num_labels, \n",
        "    text_input_layer,\n",
        "    outputs\n",
        "    ):\n",
        "  \n",
        "  \"\"\"\n",
        "  Takes in \n",
        "    the number of output classes, \n",
        "    the text input layer,\n",
        "    the word embeddings BERTs\n",
        "  Constructs the layers\n",
        "  Returns the keras model\n",
        "\n",
        "  \"\"\"\n",
        "    \n",
        "  # sequence_output -- represents each input token in the sentence context\n",
        "  # pooled_output\n",
        "  net = outputs['sequence_output'] \n",
        "  net = tf.keras.layers.Bidirectional(tf.keras.layers.GRU(256))(net)\n",
        "  net = tf.keras.layers.Dense(256, activation=\"selu\", name='dense1')(net)\n",
        "  net = tf.keras.layers.Dropout(0.2, name='dropout1')(net)\n",
        "  \n",
        "  out = tf.keras.layers.Dense(num_labels, activation=\"softmax\", name='classifier')(net)\n",
        "  \n",
        "  return tf.keras.Model(text_input_layer, out)\n",
        "\n",
        "cls_model = rnn_classifier_model(\n",
        "  num_labels=3,\n",
        "  text_input_layer=text_input_layer, \n",
        "  outputs=bert_word_embeddings\n",
        "  ) \n",
        "cls_model.summary()"
      ],
      "metadata": {
        "colab": {
          "base_uri": "https://localhost:8080/"
        },
        "id": "FI6Ud7aggpl7",
        "outputId": "694e3bc3-b7fd-46ad-bd75-bf8659c33f1f"
      },
      "execution_count": null,
      "outputs": [
        {
          "output_type": "stream",
          "name": "stdout",
          "text": [
            "Model: \"model_2\"\n",
            "__________________________________________________________________________________________________\n",
            " Layer (type)                   Output Shape         Param #     Connected to                     \n",
            "==================================================================================================\n",
            " dialogue (InputLayer)          [(None,)]            0           []                               \n",
            "                                                                                                  \n",
            " preprocessing (KerasLayer)     {'input_word_ids':   0           ['dialogue[0][0]']               \n",
            "                                (None, 128),                                                      \n",
            "                                 'input_type_ids':                                                \n",
            "                                (None, 128),                                                      \n",
            "                                 'input_mask': (Non                                               \n",
            "                                e, 128)}                                                          \n",
            "                                                                                                  \n",
            " BERT_encoder (KerasLayer)      {'default': (None,   28763649    ['preprocessing[0][0]',          \n",
            "                                512),                             'preprocessing[0][1]',          \n",
            "                                 'pooled_output': (               'preprocessing[0][2]']          \n",
            "                                None, 512),                                                       \n",
            "                                 'sequence_output':                                               \n",
            "                                 (None, 128, 512),                                                \n",
            "                                 'encoder_outputs':                                               \n",
            "                                 [(None, 128, 512),                                               \n",
            "                                 (None, 128, 512),                                                \n",
            "                                 (None, 128, 512),                                                \n",
            "                                 (None, 128, 512)]}                                               \n",
            "                                                                                                  \n",
            " bidirectional_1 (Bidirectional  (None, 512)         1182720     ['BERT_encoder[0][6]']           \n",
            " )                                                                                                \n",
            "                                                                                                  \n",
            " dense1 (Dense)                 (None, 256)          131328      ['bidirectional_1[0][0]']        \n",
            "                                                                                                  \n",
            " dropout1 (Dropout)             (None, 256)          0           ['dense1[0][0]']                 \n",
            "                                                                                                  \n",
            " classifier (Dense)             (None, 3)            771         ['dropout1[0][0]']               \n",
            "                                                                                                  \n",
            "==================================================================================================\n",
            "Total params: 30,078,468\n",
            "Trainable params: 1,314,819\n",
            "Non-trainable params: 28,763,649\n",
            "__________________________________________________________________________________________________\n"
          ]
        }
      ]
    },
    {
      "cell_type": "code",
      "source": [
        "# Compile & fit the model to the training data; val data is passed here\n",
        "# The EarlyStopping callback is also passed. This stops the training when\n",
        "# the improvement is less than 5 & restores the best weights at the end\n",
        "\n",
        "cls_model.compile(\n",
        "    optimizer=optimizer,\n",
        "    loss=tf.keras.losses.SparseCategoricalCrossentropy(from_logits=False), \n",
        "    metrics=[tf.keras.metrics.SparseCategoricalAccuracy()]\n",
        "    )\n",
        "\n",
        "\n",
        "print(f'Training model with {tfhub_handle_encoder}')\n",
        "early_stopping_cb = tf.keras.callbacks.EarlyStopping(min_delta=5,restore_best_weights=True)\n",
        "history = cls_model.fit(\n",
        "    train_x, train_y, \n",
        "    validation_data=(validation_x, validation_y),\n",
        "    epochs=epochs, batch_size=32\n",
        "    ,callbacks=[early_stopping_cb]\n",
        "    )\n",
        "\n",
        "cls_model.save('/content/drive/MyDrive/CS521/models/rnn_based_model_bert_cased')"
      ],
      "metadata": {
        "id": "UU5c7QxihHOj"
      },
      "execution_count": null,
      "outputs": []
    },
    {
      "cell_type": "markdown",
      "source": [
        "##### Model evaluation"
      ],
      "metadata": {
        "id": "pcK2hYCuhZCX"
      }
    },
    {
      "cell_type": "code",
      "source": [
        "# Load the model when necessary\n",
        "# predict the classes for test data\n",
        "# calculate the Matthew's Corr Coeff & F1 scores of each class\n",
        "# MCC score of 0 indicates the predictions are no better than random guesses\n",
        "# plot the confusion matrix\n",
        "\n",
        "# cls_model = tf.keras.models.load_model(\n",
        "#     '/content/drive/MyDrive/CS521/models/rnn_based_model',\n",
        "#     compile=False\n",
        "#     )\n",
        "pred_y = cls_model.predict(test_x)\n",
        "\n",
        "mcc = tfa.metrics.MatthewsCorrelationCoefficient(num_classes=3)\n",
        "\n",
        "mcc.update_state(test_y.values.reshape(-1,1), np.argmax(pred_y, axis=1).reshape(-1,1))\n",
        "result = mcc.result()\n",
        "print(f\"Matthews Correlation Coefficient: {result.numpy()}\\n\\n\")\n",
        "\n",
        "f1_score_ = f1_score(\n",
        "    test_y, np.argmax(pred_y, axis=1), \n",
        "    average=None\n",
        "    )\n",
        "labels=['Stan','Kyle','Cartman']\n",
        "print(f\"F1 scores: {[{label:round(score,2)} for label, score in zip(labels, f1_score_)]}\\n\\n\")\n",
        "\n",
        "cm = confusion_matrix(\n",
        "      test_y.values.reshape(-1,1), \n",
        "      np.argmax(pred_y, axis=1).reshape(-1,1)\n",
        "      )\n",
        "disp = ConfusionMatrixDisplay(confusion_matrix=cm,\n",
        "                              display_labels=['Stan','Kyle','Cartman'])\n",
        "disp.plot();"
      ],
      "metadata": {
        "colab": {
          "base_uri": "https://localhost:8080/",
          "height": 381
        },
        "id": "WGd7zdrghQS1",
        "outputId": "d3611fb0-6045-44e7-a357-30a137cdf497"
      },
      "execution_count": null,
      "outputs": [
        {
          "output_type": "stream",
          "name": "stdout",
          "text": [
            "Matthews Correlation Coefficient: 0.0\n",
            "\n",
            "\n",
            "F1 scores: [{'Stan': 0.4}, {'Kyle': 0.27}, {'Cartman': 0.05}]\n",
            "\n",
            "\n"
          ]
        },
        {
          "output_type": "display_data",
          "data": {
            "text/plain": [
              "<Figure size 432x288 with 2 Axes>"
            ],
            "image/png": "[encoded data removed]"
          },
          "metadata": {
            "needs_background": "light"
          }
        }
      ]
    },
    {
      "cell_type": "markdown",
      "source": [
        "# FastText"
      ],
      "metadata": {
        "id": "qRwd_nPq-uFv"
      }
    },
    {
      "cell_type": "markdown",
      "source": [
        "#### FastText Pre trained word embeddings"
      ],
      "metadata": {
        "id": "t1vlOOfihAL6"
      }
    },
    {
      "cell_type": "code",
      "source": [
        "# load the fasttext model\n",
        "ft = fasttext.load_model('/content/drive/MyDrive/CS521/cc.en.300.bin')\n",
        "# fasttext.util.reduce_model(ft, 100) ## For lower dimension word vecs"
      ],
      "metadata": {
        "colab": {
          "base_uri": "https://localhost:8080/"
        },
        "id": "pgkxYxgyg-i7",
        "outputId": "2318d11a-6ca5-4faf-9ed6-377ba4fb8727"
      },
      "execution_count": null,
      "outputs": [
        {
          "output_type": "stream",
          "name": "stderr",
          "text": [
            "Warning : `load_model` does not return WordVectorModel or SupervisedModel any more, but a `FastText` object which is very similar.\n"
          ]
        }
      ]
    },
    {
      "cell_type": "code",
      "source": [
        "# create the keras vectorizer & adapt it to the training data set\n",
        "vectorizer = TextVectorization(max_tokens=20000, output_sequence_length=300)\n",
        "vectorizer.adapt(train_x)"
      ],
      "metadata": {
        "id": "KNOZGu1cltsv"
      },
      "execution_count": null,
      "outputs": []
    },
    {
      "cell_type": "code",
      "source": [
        "# create the word index from the vectorizer\n",
        "voc = vectorizer.get_vocabulary()\n",
        "word_index = dict(zip(voc, range(len(voc))))"
      ],
      "metadata": {
        "id": "mctsWzIjl0pW"
      },
      "execution_count": null,
      "outputs": []
    },
    {
      "cell_type": "code",
      "source": [
        "# create the embedding matrix for the input sequences\n",
        "num_tokens = len(voc) + 2\n",
        "embedding_dim = 300\n",
        "hits = 0\n",
        "misses = 0\n",
        "\n",
        "embedding_matrix = np.zeros((num_tokens, embedding_dim))\n",
        "for word, i in word_index.items():\n",
        "    embedding_vector = ft.get_word_vector(word)\n",
        "    if embedding_vector is not None:\n",
        "        # Words not found in embedding index will be all-zeros.\n",
        "        # This includes the representation for \"padding\" and \"OOV\"\n",
        "        embedding_matrix[i] = embedding_vector\n",
        "        hits += 1\n",
        "    else:\n",
        "        misses += 1\n",
        "print(\"Converted %d words (%d misses)\" % (hits, misses))"
      ],
      "metadata": {
        "colab": {
          "base_uri": "https://localhost:8080/"
        },
        "id": "2V1aTCBcmJa5",
        "outputId": "bfd9f300-1f1b-4c87-e730-bfd508f16ee5"
      },
      "execution_count": null,
      "outputs": [
        {
          "output_type": "stream",
          "name": "stdout",
          "text": [
            "Converted 10804 words (0 misses)\n"
          ]
        }
      ]
    },
    {
      "cell_type": "code",
      "source": [
        "# Create the keras embedding layer\n",
        "embedding_layer = Embedding(\n",
        "    num_tokens,\n",
        "    embedding_dim,\n",
        "    embeddings_initializer=tf.keras.initializers.Constant(embedding_matrix),\n",
        "    trainable=False,\n",
        ")"
      ],
      "metadata": {
        "id": "v_7lNqTKmZQD"
      },
      "execution_count": null,
      "outputs": []
    },
    {
      "cell_type": "markdown",
      "source": [
        "#### Simple DNN"
      ],
      "metadata": {
        "id": "LM5-nqYxlxXG"
      }
    },
    {
      "cell_type": "code",
      "source": [
        "def simple_dnn_classifier_model_ft(\n",
        "    num_labels, \n",
        "    text_col,\n",
        "    embedding_layer\n",
        "    ):\n",
        "  \n",
        "  \"\"\"\n",
        "  Takes in \n",
        "    the number of output classes, \n",
        "    the text input layer,\n",
        "    the word embeddings FastText\n",
        "  Constructs the layers\n",
        "  Returns the keras model\n",
        "\n",
        "  \"\"\"\n",
        "    \n",
        "  \n",
        "  text_input = tf.keras.layers.Input(shape=(), dtype=tf.string, name=text_col)\n",
        "  net = vectorizer(text_input)\n",
        "  net = embedding_layer(net)\n",
        "  net = tf.keras.layers.Flatten()(net)\n",
        "  net = tf.keras.layers.Dense(512, activation=\"selu\", name=\"dense_layer1\")(net)\n",
        "  net = tf.keras.layers.Dense(512, activation=\"selu\", name='dense_layer2')(net)\n",
        "  net = tf.keras.layers.Dropout(0.2, name='dropout_layer')(net)\n",
        "  \n",
        "  out = tf.keras.layers.Dense(num_labels, activation=\"softmax\", name='classifier')(net)\n",
        "  \n",
        "  return tf.keras.Model(text_input, out)\n",
        "\n",
        "\n",
        "cls_model = simple_dnn_classifier_model_ft(\n",
        "    num_labels=3,\n",
        "    text_col='dialogue', \n",
        "    embedding_layer=embedding_layer\n",
        "    ) \n",
        "cls_model.summary()"
      ],
      "metadata": {
        "id": "gFhwERaYm3MA",
        "colab": {
          "base_uri": "https://localhost:8080/"
        },
        "outputId": "4abbe41d-ee79-4cb7-9bef-c073733f780e"
      },
      "execution_count": 160,
      "outputs": [
        {
          "output_type": "stream",
          "name": "stdout",
          "text": [
            "Model: \"model_32\"\n",
            "_________________________________________________________________\n",
            " Layer (type)                Output Shape              Param #   \n",
            "=================================================================\n",
            " dialogue (InputLayer)       [(None,)]                 0         \n",
            "                                                                 \n",
            " text_vectorization_1 (TextV  (None, 300)              0         \n",
            " ectorization)                                                   \n",
            "                                                                 \n",
            " embedding_1 (Embedding)     multiple                  3241800   \n",
            "                                                                 \n",
            " flatten_6 (Flatten)         (None, 90000)             0         \n",
            "                                                                 \n",
            " dense_layer1 (Dense)        (None, 512)               46080512  \n",
            "                                                                 \n",
            " dense_layer2 (Dense)        (None, 512)               262656    \n",
            "                                                                 \n",
            " dropout_layer (Dropout)     (None, 512)               0         \n",
            "                                                                 \n",
            " classifier (Dense)          (None, 3)                 1539      \n",
            "                                                                 \n",
            "=================================================================\n",
            "Total params: 49,586,507\n",
            "Trainable params: 46,344,707\n",
            "Non-trainable params: 3,241,800\n",
            "_________________________________________________________________\n"
          ]
        }
      ]
    },
    {
      "cell_type": "code",
      "source": [
        "# Compile & fit the model to the training data; val data is passed here\n",
        "# The EarlyStopping callback is also passed. This stops the training when\n",
        "# the improvement is less than 5 & restores the best weights at the end\n",
        "\n",
        "cls_model.compile(optimizer=optimizer,\n",
        "                         loss=tf.keras.losses.SparseCategoricalCrossentropy(from_logits=False), \n",
        "                         metrics=[tf.keras.metrics.SparseCategoricalAccuracy()])\n",
        "\n",
        "early_stopping_cb = tf.keras.callbacks.EarlyStopping(min_delta=5,restore_best_weights=True)\n",
        "history = cls_model.fit(\n",
        "    train_x, train_y, \n",
        "    validation_data=(validation_x, validation_y),\n",
        "    epochs=5, batch_size=32\n",
        "    ,callbacks=[early_stopping_cb]\n",
        "    )\n",
        "\n",
        "cls_model.save('/content/drive/MyDrive/CS521/models/simple_dnn_based_model_ft')"
      ],
      "metadata": {
        "colab": {
          "base_uri": "https://localhost:8080/"
        },
        "id": "qnPIEjKzpz22",
        "outputId": "0bd6157f-ea67-4639-b6e4-24aad04f342b"
      },
      "execution_count": 161,
      "outputs": [
        {
          "output_type": "stream",
          "name": "stdout",
          "text": [
            "Epoch 1/5\n",
            "500/500 [==============================] - 39s 77ms/step - loss: 1.0962 - sparse_categorical_accuracy: 0.3508 - val_loss: 1.0953 - val_sparse_categorical_accuracy: 0.3621\n",
            "Epoch 2/5\n",
            "500/500 [==============================] - 38s 76ms/step - loss: 1.0969 - sparse_categorical_accuracy: 0.3537 - val_loss: 1.0953 - val_sparse_categorical_accuracy: 0.3621\n"
          ]
        }
      ]
    },
    {
      "cell_type": "markdown",
      "source": [
        "##### Model evaluation"
      ],
      "metadata": {
        "id": "PzooerYxZokX"
      }
    },
    {
      "cell_type": "code",
      "source": [
        "# Load the model when necessary\n",
        "# predict the classes for test data\n",
        "# calculate the Matthew's Corr Coeff & F1 scores of each class\n",
        "# MCC score of 0 indicates the predictions are no better than random guesses\n",
        "# plot the confusion matrix\n",
        "\n",
        "# cls_model = tf.keras.models.load_model(\n",
        "#     '/content/drive/MyDrive/CS521/models/rnn_based_model',\n",
        "#     compile=False\n",
        "#     )\n",
        "pred_y = cls_model.predict(test_x)\n",
        "\n",
        "mcc = tfa.metrics.MatthewsCorrelationCoefficient(num_classes=3)\n",
        "\n",
        "mcc.update_state(test_y.values.reshape(-1,1), np.argmax(pred_y, axis=1).reshape(-1,1))\n",
        "result = mcc.result()\n",
        "print(f\"Matthews Correlation Coefficient: {result.numpy()}\\n\\n\")\n",
        "\n",
        "f1_score_ = f1_score(\n",
        "    test_y, np.argmax(pred_y, axis=1), \n",
        "    average=None\n",
        "    )\n",
        "labels=['Stan','Kyle','Cartman']\n",
        "print(f\"F1 scores: {[{label:round(score,2)} for label, score in zip(labels, f1_score_)]}\\n\\n\")\n",
        "\n",
        "cm = confusion_matrix(\n",
        "      test_y.values.reshape(-1,1), \n",
        "      np.argmax(pred_y, axis=1).reshape(-1,1)\n",
        "      )\n",
        "disp = ConfusionMatrixDisplay(confusion_matrix=cm,\n",
        "                              display_labels=['Stan','Kyle','Cartman'])\n",
        "disp.plot();"
      ],
      "metadata": {
        "id": "p0J_TSIynI4V",
        "colab": {
          "base_uri": "https://localhost:8080/",
          "height": 381
        },
        "outputId": "79b3182c-076d-4068-f919-0e8709f62748"
      },
      "execution_count": 162,
      "outputs": [
        {
          "output_type": "stream",
          "name": "stdout",
          "text": [
            "Matthews Correlation Coefficient: 0.0\n",
            "\n",
            "\n",
            "F1 scores: [{'Stan': 0.31}, {'Kyle': 0.28}, {'Cartman': 0.42}]\n",
            "\n",
            "\n"
          ]
        },
        {
          "output_type": "display_data",
          "data": {
            "text/plain": [
              "<Figure size 432x288 with 2 Axes>"
            ],
            "image/png": "[encoded data removed]"
          },
          "metadata": {
            "needs_background": "light"
          }
        }
      ]
    },
    {
      "cell_type": "markdown",
      "source": [
        "#### CNN Based"
      ],
      "metadata": {
        "id": "ZzPSxPi9WkFk"
      }
    },
    {
      "cell_type": "code",
      "source": [
        "def cnn_classifier_model_ft(\n",
        "    num_labels, \n",
        "    text_col,\n",
        "    embedding_layer\n",
        "    ):\n",
        "  \n",
        "  \"\"\"\n",
        "  Takes in \n",
        "    the number of output classes, \n",
        "    the text input layer,\n",
        "    the word embeddings FastText\n",
        "  Constructs the layers\n",
        "  Returns the keras model\n",
        "\n",
        "  \"\"\"\n",
        "    \n",
        "  \n",
        "  text_input = tf.keras.layers.Input(shape=(), dtype=tf.string, name=text_col)\n",
        "  net = vectorizer(text_input)\n",
        "  net = embedding_layer(net)\n",
        "  \n",
        "  net = tf.keras.layers.Conv1D(128, 3, activation=\"relu\", name='cnn1d')(net)\n",
        "  net = tf.keras.layers.GlobalAveragePooling1D()(net)\n",
        "  net = tf.keras.layers.Dense(256, activation=\"selu\", name='dense1')(net)\n",
        "  net = tf.keras.layers.Dropout(0.2, name='dropout1')(net)\n",
        "  \n",
        "  out = tf.keras.layers.Dense(num_labels, activation=\"softmax\", name='classifier')(net)\n",
        "  \n",
        "  return tf.keras.Model(text_input, out)\n",
        "\n",
        "\n",
        "cls_model = cnn_classifier_model_ft(\n",
        "    num_labels=3,\n",
        "    text_col='dialogue', \n",
        "    embedding_layer=embedding_layer\n",
        "    ) \n",
        "cls_model.summary()"
      ],
      "metadata": {
        "colab": {
          "base_uri": "https://localhost:8080/"
        },
        "id": "bVTh07boWl0p",
        "outputId": "87f8fb6a-e873-49e2-d9e7-41f33eefd15e"
      },
      "execution_count": 163,
      "outputs": [
        {
          "output_type": "stream",
          "name": "stdout",
          "text": [
            "Model: \"model_33\"\n",
            "_________________________________________________________________\n",
            " Layer (type)                Output Shape              Param #   \n",
            "=================================================================\n",
            " dialogue (InputLayer)       [(None,)]                 0         \n",
            "                                                                 \n",
            " text_vectorization_1 (TextV  (None, 300)              0         \n",
            " ectorization)                                                   \n",
            "                                                                 \n",
            " embedding_1 (Embedding)     multiple                  3241800   \n",
            "                                                                 \n",
            " cnn1d (Conv1D)              (None, 298, 128)          115328    \n",
            "                                                                 \n",
            " global_average_pooling1d_1   (None, 128)              0         \n",
            " (GlobalAveragePooling1D)                                        \n",
            "                                                                 \n",
            " dense1 (Dense)              (None, 256)               33024     \n",
            "                                                                 \n",
            " dropout1 (Dropout)          (None, 256)               0         \n",
            "                                                                 \n",
            " classifier (Dense)          (None, 3)                 771       \n",
            "                                                                 \n",
            "=================================================================\n",
            "Total params: 3,390,923\n",
            "Trainable params: 149,123\n",
            "Non-trainable params: 3,241,800\n",
            "_________________________________________________________________\n"
          ]
        }
      ]
    },
    {
      "cell_type": "code",
      "source": [
        "# Compile & fit the model to the training data; val data is passed here\n",
        "# The EarlyStopping callback is also passed. This stops the training when\n",
        "# the improvement is less than 5 & restores the best weights at the end\n",
        "\n",
        "cls_model.compile(optimizer=optimizer,\n",
        "                         loss=tf.keras.losses.SparseCategoricalCrossentropy(from_logits=False), \n",
        "                         metrics=[tf.keras.metrics.SparseCategoricalAccuracy()])\n",
        "\n",
        "early_stopping_cb = tf.keras.callbacks.EarlyStopping(min_delta=5,restore_best_weights=True)\n",
        "history = cls_model.fit(\n",
        "    train_x, train_y, \n",
        "    validation_data=(validation_x, validation_y),\n",
        "    epochs=5, batch_size=32\n",
        "    ,callbacks=[early_stopping_cb]\n",
        "    )\n",
        "\n",
        "cls_model.save('/content/drive/MyDrive/CS521/models/cnn_based_model_ft')"
      ],
      "metadata": {
        "colab": {
          "base_uri": "https://localhost:8080/"
        },
        "id": "g2cWYq1uXJbX",
        "outputId": "ea01982e-d8f4-4a14-93b6-8051aebe1cc6"
      },
      "execution_count": 168,
      "outputs": [
        {
          "output_type": "stream",
          "name": "stdout",
          "text": [
            "Epoch 1/5\n",
            "500/500 [==============================] - 12s 23ms/step - loss: 1.0990 - sparse_categorical_accuracy: 0.3134 - val_loss: 1.0989 - val_sparse_categorical_accuracy: 0.3125\n",
            "Epoch 2/5\n",
            "500/500 [==============================] - 11s 22ms/step - loss: 1.0990 - sparse_categorical_accuracy: 0.3147 - val_loss: 1.0989 - val_sparse_categorical_accuracy: 0.3125\n"
          ]
        }
      ]
    },
    {
      "cell_type": "markdown",
      "source": [
        "##### Model evaluation"
      ],
      "metadata": {
        "id": "_6qmbv3iZmvO"
      }
    },
    {
      "cell_type": "code",
      "source": [
        "# Load the model when necessary\n",
        "# predict the classes for test data\n",
        "# calculate the Matthew's Corr Coeff & F1 scores of each class\n",
        "# MCC score of 0 indicates the predictions are no better than random guesses\n",
        "# plot the confusion matrix\n",
        "\n",
        "# cls_model = tf.keras.models.load_model(\n",
        "#     '/content/drive/MyDrive/CS521/models/cnn_based_model_ft',\n",
        "#     compile=False\n",
        "#     )\n",
        "pred_y = cls_model.predict(test_x)\n",
        "\n",
        "mcc = tfa.metrics.MatthewsCorrelationCoefficient(num_classes=3)\n",
        "\n",
        "mcc.update_state(test_y.values.reshape(-1,1), np.argmax(pred_y, axis=1).reshape(-1,1))\n",
        "result = mcc.result()\n",
        "print(f\"Matthews Correlation Coefficient: {result.numpy()}\\n\\n\")\n",
        "\n",
        "f1_score_ = f1_score(\n",
        "    test_y, np.argmax(pred_y, axis=1), \n",
        "    average=None\n",
        "    )\n",
        "labels=['Stan','Kyle','Cartman']\n",
        "print(f\"F1 scores: {[{label:round(score,2)} for label, score in zip(labels, f1_score_)]}\\n\\n\")\n",
        "\n",
        "cm = confusion_matrix(\n",
        "      test_y.values.reshape(-1,1), \n",
        "      np.argmax(pred_y, axis=1).reshape(-1,1)\n",
        "      )\n",
        "disp = ConfusionMatrixDisplay(confusion_matrix=cm,\n",
        "                              display_labels=['Stan','Kyle','Cartman'])\n",
        "disp.plot();"
      ],
      "metadata": {
        "colab": {
          "base_uri": "https://localhost:8080/",
          "height": 381
        },
        "id": "GKgeVviIXWiv",
        "outputId": "7460383e-8b34-40ea-e682-24f0fdc2e49f"
      },
      "execution_count": 169,
      "outputs": [
        {
          "output_type": "stream",
          "name": "stdout",
          "text": [
            "Matthews Correlation Coefficient: 0.0\n",
            "\n",
            "\n",
            "F1 scores: [{'Stan': 0.39}, {'Kyle': 0.28}, {'Cartman': 0.16}]\n",
            "\n",
            "\n"
          ]
        },
        {
          "output_type": "display_data",
          "data": {
            "text/plain": [
              "<Figure size 432x288 with 2 Axes>"
            ],
            "image/png": "[encoded data removed]"
          },
          "metadata": {
            "needs_background": "light"
          }
        }
      ]
    },
    {
      "cell_type": "markdown",
      "source": [
        "#### RNN Based"
      ],
      "metadata": {
        "id": "leB1GpFaXhlX"
      }
    },
    {
      "cell_type": "code",
      "source": [
        "def rnn_classifier_model_ft(\n",
        "    num_labels, \n",
        "    text_col,\n",
        "    embedding_layer\n",
        "    ):\n",
        "  \n",
        "  \"\"\"\n",
        "  Takes in \n",
        "    the number of output classes, \n",
        "    the text input layer,\n",
        "    the word embeddings FastText\n",
        "  Constructs the layers\n",
        "  Returns the keras model\n",
        "\n",
        "  \"\"\"\n",
        "    \n",
        "  \n",
        "  text_input = tf.keras.layers.Input(shape=(), dtype=tf.string, name=text_col)\n",
        "  net = vectorizer(text_input)\n",
        "  net = embedding_layer(net)\n",
        "  \n",
        "  net = tf.keras.layers.Bidirectional(tf.keras.layers.GRU(256))(net)\n",
        "  net = tf.keras.layers.Dense(256, activation=\"selu\", name='dense1')(net)\n",
        "  net = tf.keras.layers.Dropout(0.2, name='dropout1')(net)\n",
        "  \n",
        "  out = tf.keras.layers.Dense(num_labels, activation=\"softmax\", name='classifier')(net)\n",
        "  \n",
        "  return tf.keras.Model(text_input, out)\n",
        "\n",
        "\n",
        "cls_model = rnn_classifier_model_ft(\n",
        "    num_labels=3,\n",
        "    text_col='dialogue', \n",
        "    embedding_layer=embedding_layer\n",
        "    ) \n",
        "cls_model.summary()"
      ],
      "metadata": {
        "colab": {
          "base_uri": "https://localhost:8080/"
        },
        "id": "LHYMLa-bXj3n",
        "outputId": "dcd33c0a-c89d-455e-f492-b8c94bfcdaf9"
      },
      "execution_count": 170,
      "outputs": [
        {
          "output_type": "stream",
          "name": "stdout",
          "text": [
            "Model: \"model_34\"\n",
            "_________________________________________________________________\n",
            " Layer (type)                Output Shape              Param #   \n",
            "=================================================================\n",
            " dialogue (InputLayer)       [(None,)]                 0         \n",
            "                                                                 \n",
            " text_vectorization_1 (TextV  (None, 300)              0         \n",
            " ectorization)                                                   \n",
            "                                                                 \n",
            " embedding_1 (Embedding)     multiple                  3241800   \n",
            "                                                                 \n",
            " bidirectional_7 (Bidirectio  (None, 512)              857088    \n",
            " nal)                                                            \n",
            "                                                                 \n",
            " dense1 (Dense)              (None, 256)               131328    \n",
            "                                                                 \n",
            " dropout1 (Dropout)          (None, 256)               0         \n",
            "                                                                 \n",
            " classifier (Dense)          (None, 3)                 771       \n",
            "                                                                 \n",
            "=================================================================\n",
            "Total params: 4,230,987\n",
            "Trainable params: 989,187\n",
            "Non-trainable params: 3,241,800\n",
            "_________________________________________________________________\n"
          ]
        }
      ]
    },
    {
      "cell_type": "code",
      "source": [
        "# Compile & fit the model to the training data; val data is passed here\n",
        "# The EarlyStopping callback is also passed. This stops the training when\n",
        "# the improvement is less than 5 & restores the best weights at the end\n",
        "\n",
        "cls_model.compile(optimizer=optimizer,\n",
        "                         loss=tf.keras.losses.SparseCategoricalCrossentropy(from_logits=False), \n",
        "                         metrics=[tf.keras.metrics.SparseCategoricalAccuracy()])\n",
        "# checkpoint_cb = tf.keras.callbacks.ModelCheckpoint(\"my_keras_model.h5\")\n",
        "early_stopping_cb = tf.keras.callbacks.EarlyStopping(min_delta=5,restore_best_weights=True)\n",
        "history = cls_model.fit(\n",
        "    train_x, train_y, \n",
        "    validation_data=(validation_x, validation_y),\n",
        "    epochs=5, batch_size=32\n",
        "    ,callbacks=[early_stopping_cb]\n",
        "    )\n",
        "\n",
        "cls_model.save('/content/drive/MyDrive/CS521/models/rnn_based_model_ft')"
      ],
      "metadata": {
        "id": "oVLafLKkXu1k"
      },
      "execution_count": null,
      "outputs": []
    },
    {
      "cell_type": "markdown",
      "source": [
        "##### Model evaluation"
      ],
      "metadata": {
        "id": "69B84rmpZkE4"
      }
    },
    {
      "cell_type": "code",
      "source": [
        "# Load the model when necessary\n",
        "# predict the classes for test data\n",
        "# calculate the Matthew's Corr Coeff & F1 scores of each class\n",
        "# MCC score of 0 indicates the predictions are no better than random guesses\n",
        "# plot the confusion matrix\n",
        "\n",
        "# cls_model = tf.keras.models.load_model(\n",
        "#     '/content/drive/MyDrive/CS521/models/rnn_based_model_ft',\n",
        "#     compile=False\n",
        "#     )\n",
        "pred_y = cls_model.predict(test_x)\n",
        "\n",
        "mcc = tfa.metrics.MatthewsCorrelationCoefficient(num_classes=3)\n",
        "\n",
        "mcc.update_state(test_y.values.reshape(-1,1), np.argmax(pred_y, axis=1).reshape(-1,1))\n",
        "result = mcc.result()\n",
        "print(f\"Matthews Correlation Coefficient: {result.numpy()}\\n\\n\")\n",
        "\n",
        "f1_score_ = f1_score(\n",
        "    test_y, np.argmax(pred_y, axis=1), \n",
        "    average=None\n",
        "    )\n",
        "labels=['Stan','Kyle','Cartman']\n",
        "print(f\"F1 scores: {[{label:round(score,2)} for label, score in zip(labels, f1_score_)]}\\n\\n\")\n",
        "\n",
        "cm = confusion_matrix(\n",
        "      test_y.values.reshape(-1,1), \n",
        "      np.argmax(pred_y, axis=1).reshape(-1,1)\n",
        "      )\n",
        "disp = ConfusionMatrixDisplay(confusion_matrix=cm,\n",
        "                              display_labels=['Stan','Kyle','Cartman'])\n",
        "disp.plot();"
      ],
      "metadata": {
        "colab": {
          "base_uri": "https://localhost:8080/",
          "height": 381
        },
        "id": "WNtlhmnSX3G_",
        "outputId": "ad6f0f12-3698-4d6c-806d-60e3ec4d5777"
      },
      "execution_count": 172,
      "outputs": [
        {
          "output_type": "stream",
          "name": "stdout",
          "text": [
            "Matthews Correlation Coefficient: 0.0\n",
            "\n",
            "\n",
            "F1 scores: [{'Stan': 0.22}, {'Kyle': 0.35}, {'Cartman': 0.41}]\n",
            "\n",
            "\n"
          ]
        },
        {
          "output_type": "display_data",
          "data": {
            "text/plain": [
              "<Figure size 432x288 with 2 Axes>"
            ],
            "image/png": "[encoded data removed]"
          },
          "metadata": {
            "needs_background": "light"
          }
        }
      ]
    },
    {
      "cell_type": "markdown",
      "source": [
        "# Predictions"
      ],
      "metadata": {
        "id": "YlmKEg1mBsZN"
      }
    },
    {
      "cell_type": "code",
      "source": [
        "def get_predictions_df(test_x, test_y, pred_y):\n",
        "  return pd.DataFrame(\n",
        "          np.concatenate(\n",
        "              (test_x.values.reshape(-1,1), test_y.values.reshape(-1,1), pred_y),\n",
        "              axis=1\n",
        "              ),\n",
        "          columns=['dialogue','true_label'] + [i for i in range(pred_y.shape[1])]\n",
        "          )"
      ],
      "metadata": {
        "id": "BQofAIWZxIJR"
      },
      "execution_count": 43,
      "outputs": []
    },
    {
      "cell_type": "code",
      "source": [
        "models = [d for d in listdir('/content/drive/MyDrive/CS521/models/SouthPark/')]\n",
        "for model_name in models:\n",
        "  cls_model = tf.keras.models.load_model(\n",
        "      '/content/drive/MyDrive/CS521/models/SouthPark/'+model_name,\n",
        "      compile=False\n",
        "      )\n",
        "  pred_y = cls_model.predict(test_x)\n",
        "  get_predictions_df(test_x, test_y, pred_y).to_csv(f'/content/drive/MyDrive/CS521/predictions/SouthPark/{model_name}.csv', index=0)"
      ],
      "metadata": {
        "id": "DiMeskbyA9Pp"
      },
      "execution_count": null,
      "outputs": []
    },
    {
      "cell_type": "code",
      "source": [
        "mypath = '/content/drive/MyDrive/CS521/predictions/SouthPark/'\n",
        "prediction_files = [f for f in listdir(mypath) if isfile(join(mypath,f))]\n",
        "output = []\n",
        "\n",
        "for f in prediction_files:\n",
        "  pred_df = pd.read_csv(f'{mypath}{f}')\n",
        "  mean_pred_prob = pred_df.iloc[:,2:].apply(np.mean, axis=0).values.tolist()\n",
        "  std_pred_prob = pred_df.iloc[:,2:].apply(np.std, axis=0).values.tolist()\n",
        "  model_name = [f.split('.')[0]]\n",
        "\n",
        "  output.append(model_name + [(round(m,3),round(s,3)) for m,s in zip(mean_pred_prob, std_pred_prob)])\n",
        "\n",
        "model_pred_stat_df = pd.DataFrame(\n",
        "    data=output,\n",
        "    columns=['model']+labels\n",
        ")\n",
        "\n",
        "model_pred_stat_df.to_csv(f'{mypath}model_prediction_statistics.csv', index=0)"
      ],
      "metadata": {
        "id": "wxCPEBZK3F-t"
      },
      "execution_count": 90,
      "outputs": []
    }
  ]
}